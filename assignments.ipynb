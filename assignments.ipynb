{
 "cells": [
  {
   "cell_type": "markdown",
   "metadata": {
    "vscode": {
     "languageId": "plaintext"
    }
   },
   "source": [
    "# Assignment 3"
   ]
  },
  {
   "cell_type": "code",
   "execution_count": 1,
   "metadata": {},
   "outputs": [],
   "source": [
    "#Assignment 1: Count occurrence of letter ‘a’ in a String.\n",
    "\n",
    "def count_a(string):\n",
    "    count = 0\n",
    "    for i in string:\n",
    "        if i == 'a':\n",
    "            count += 1\n",
    "    return count\n",
    "\n",
    "string = input(\"Enter a string: \")\n",
    "print(\"Number of 'a' in the string: \", count_a(string))\n",
    "\n"
   ]
  },
  {
   "cell_type": "code",
   "execution_count": null,
   "metadata": {},
   "outputs": [],
   "source": [
    "#Assignment 2: Ask for a number from a user and count occurrence of digit 0 in it. Print the number and the number of zeros in the number. Ask the user if she wants to add a new number. If yes, check for zeros again. Continue until the user says ‘N’. \n",
    "num = input(\"Enter a number: \")\n",
    "count = 0\n",
    "for i in num:\n",
    "    if i == '0':\n",
    "        count += 1\n",
    "print(\"Number of '0' in the number: \", count)\n",
    "while True:\n",
    "    choice = input(\"Do you want to add a new number? (Y/N): \")\n",
    "    if choice == 'Y':\n",
    "        num = input(\"Enter a number: \")\n",
    "        count = 0\n",
    "        for i in num:\n",
    "            if i == '0':\n",
    "                count += 1\n",
    "        print(\"Number of '0' in the number: \", count)\n",
    "    else:\n",
    "        break\n"
   ]
  },
  {
   "cell_type": "code",
   "execution_count": 3,
   "metadata": {},
   "outputs": [],
   "source": [
    "#Assignment 3: Create a Pyramid pattern of stars.\n",
    "    #       *\n",
    "    #     * * *\n",
    "    #   * * * * *\n",
    "    #  * * * * * * *\n",
    "    # * * * * * * * * *\n",
    "\n",
    "n = 5\n",
    "for i in range(1, n+1):\n",
    "    print(\" \"*(n-i), end=\"\")\n",
    "    print(\"* \"*(2*i-1))\n",
    "    "
   ]
  },
  {
   "cell_type": "markdown",
   "metadata": {},
   "source": [
    "# Assignment 4"
   ]
  },
  {
   "cell_type": "code",
   "execution_count": 4,
   "metadata": {},
   "outputs": [],
   "source": [
    "# Assignment 11: Write a program that checks whether a given string is a palindrome (a string that reads the same backward as forward).\n",
    "# Input:\n",
    "# Prompt the user to enter a string.\n",
    "# Logic:\n",
    "# Remove any spaces and convert the string to lowercase.\n",
    "# Check if the string reads the same forward and backward.\n",
    "# Output:\n",
    "# Display whether the string is a palindrome.\n",
    "\n",
    "string = input(\"Enter a string: \")\n",
    "string = string.replace(\" \", \"\").lower()\n",
    "if string == string[::-1]:\n",
    "    print(\"The string is a palindrome.\")\n",
    "else:\n",
    "    print(\"The string is not a palindrome.\")\n",
    "    \n"
   ]
  },
  {
   "cell_type": "markdown",
   "metadata": {},
   "source": [
    "# Assignment 5"
   ]
  },
  {
   "cell_type": "code",
   "execution_count": 5,
   "metadata": {},
   "outputs": [],
   "source": [
    "# Assignment 1: \n",
    "# Try following string operations:\n",
    "# Removing Leading Characters - lstrip(chars)\n",
    "# Removing Trailing Characters - rstrip(chars)\n",
    "# Joining a List into a String with a Space – “ ”.join(listname)\n",
    "# Joining a List into a String with a Custom Separator – “#”\n",
    "\n",
    "string = \"   Hello World!   \"\n",
    "print(string.lstrip())\n",
    "print(string.rstrip())\n",
    "print(\" \".join(string))\n",
    "print(\"#\".join(string))\n",
    "\n"
   ]
  },
  {
   "cell_type": "code",
   "execution_count": 20,
   "metadata": {},
   "outputs": [
    {
     "name": "stdout",
     "output_type": "stream",
     "text": [
      "Mon Tue Wed Thu Fri Sat Sun\n",
      "                     1   2  \n",
      " 3   4   5   6   7   8   9  \n",
      "10 11 12 13 14 15 16 \n",
      "17 18 19 20 21 22 23 \n",
      "24 25 26 27 28 29 30 \n"
     ]
    }
   ],
   "source": [
    "# Assignment 2 : \n",
    "# Write a program that asks the user how many days are in a particular month, and what day of the week the month begins on (0 for Monday, 1 for Tuesday, etc), and then prints a calendar for that month. For example, here is the output for a 30-day month that begins on day 4 (Thursday):ffff\n",
    "\n"
   ]
  },
  {
   "cell_type": "code",
   "execution_count": 7,
   "metadata": {},
   "outputs": [],
   "source": [
    "# Assignment 3: Reverse a list in Python\n",
    "\n",
    "list1 = [1,2,3,4,5,6,7,8,9,10]\n",
    "list1.reverse()"
   ]
  },
  {
   "cell_type": "code",
   "execution_count": 8,
   "metadata": {},
   "outputs": [],
   "source": [
    "# Assignment 4: Concatenate two lists index-wise.\n",
    "list1 = [1, 2, 3, 4, 5]\n",
    "list2 = ['a', 'b', 'c', 'd', 'e']\n",
    "list3 = []\n",
    "for i in range(len(list1)):\n",
    "    list3.append(list1[i])\n",
    "    list3.append(list2[i])\n",
    "print(list3)\n"
   ]
  },
  {
   "cell_type": "code",
   "execution_count": 9,
   "metadata": {},
   "outputs": [],
   "source": [
    "# Assignment 5: Write a Python program to multiply all the items in a list.\n",
    "list1 = [1,2,3,4,5]\n",
    "result = 1\n",
    "for i in list1:\n",
    "    result *= i\n",
    "print(result)\n"
   ]
  },
  {
   "cell_type": "code",
   "execution_count": 10,
   "metadata": {},
   "outputs": [
    {
     "name": "stdout",
     "output_type": "stream",
     "text": [
      "1\n"
     ]
    }
   ],
   "source": [
    "# Assignment 6: Write a Python program to get the smallest number from a list.\n",
    "list1 = [1,2,3,4,5,6,7,8,9,10]\n",
    "print(min(list1))"
   ]
  },
  {
   "cell_type": "code",
   "execution_count": 11,
   "metadata": {},
   "outputs": [],
   "source": [
    "# Assignment 7: Write a python program to extract 3rd to 9th characters from a long string. \n",
    "string = \"Hello, welcome to the world of Python programming.\"\n",
    "print(string[2:9])\n"
   ]
  },
  {
   "cell_type": "code",
   "execution_count": 15,
   "metadata": {},
   "outputs": [
    {
     "name": "stdout",
     "output_type": "stream",
     "text": [
      "Hello, replaced am replaced Python replaced\n"
     ]
    }
   ],
   "source": [
    "# Assignment 8: Replace Every Alternate Word in a Paragraph\n",
    "# Input: \n",
    "# A single string paragraph that represents a paragraph of text.\n",
    "# Output: \n",
    "# A new string where every alternate word in the input paragraph is replaced with the word 'replaced'.\n",
    "# Logic : \n",
    "# Use the split() method to divide the paragraph into a list of words. \n",
    "# Replacing Alternate Words:\n",
    "# Iterate through the list of words. Use the index of each word to determine if it is an alternate word. Replace every second word (i.e., words at odd indices) with the word 'replaced'.\n",
    "# Joining Words:\n",
    "# Combine the list of modified words back into a single string using the join() method, ensuring that words are separated by spaces. Print the new paragraph.\n",
    "\n",
    "string = \"Hello, I am a Python Developer\"\n",
    "words = string.split()\n",
    "new_words = []\n",
    "for i in range(len(words)):\n",
    "    if i % 2 == 0:\n",
    "        new_words.append(words[i])\n",
    "    else:\n",
    "        new_words.append(\"replaced\")\n",
    "new_string = \" \".join(new_words)\n",
    "print(new_string)\n",
    "\n",
    "\n"
   ]
  },
  {
   "cell_type": "markdown",
   "metadata": {},
   "source": [
    "# Assignment 6"
   ]
  },
  {
   "cell_type": "code",
   "execution_count": 13,
   "metadata": {},
   "outputs": [],
   "source": [
    "# Assignment 1: Create a calculator for performing addition, subtraction, division, multiplication operations. Create a separate function for each operation. Call these functions appropriately based on options from user. \n",
    "# Input : \n",
    "# Ask user what operation needs to be performed.\n",
    "# Ask user if next operation needs to be performed. Based on the answer repeat same steps or exit. \n",
    "\n",
    "print(\"Welcome to the calculator\")\n",
    "def add(a,b):\n",
    "    return a+b\n",
    "def sub(a,b):\n",
    "    return a-b\n",
    "def mul(a,b):\n",
    "    return a*b\n",
    "def div(a,b):\n",
    "    return a/b\n",
    "choice = 'y'\n",
    "while choice == 'y':\n",
    "    print(\"Enter the operation you want to perform\")\n",
    "    print(\"1. Addition\")\n",
    "    print(\"2. Subtraction\")\n",
    "    print(\"3. Multiplication\")\n",
    "    print(\"4. Division\")\n",
    "    operation = int(input())\n",
    "    a = int(input(\"Enter first number\"))\n",
    "    b = int(input(\"Enter second number\"))\n",
    "    if operation == 1:\n",
    "        print(add(a,b))\n",
    "    elif operation == 2:\n",
    "        print(sub(a,b))\n",
    "    elif operation == 3:\n",
    "        print(mul(a,b))\n",
    "    elif operation == 4:\n",
    "        print(div(a,b))\n",
    "    choice = input(\"Do you want to perform another operation? y/n\")\n",
    "print(\"Thank you for using the calculator\")\n",
    "\n"
   ]
  },
  {
   "cell_type": "code",
   "execution_count": null,
   "metadata": {},
   "outputs": [],
   "source": [
    "# Assignment 2: \n",
    "# Repeat specific elements within a tuple. Use functions appropriately.\n",
    "# Instructions:\n",
    "# Write a Python program that performs the following tasks:\n",
    "# Prompt the user to enter a tuple of elements (mixed types allowed) separated by commas.\n",
    "# Convert the input string to a tuple of elements.\n",
    "# Prompt the user for an element to repeat and the number of times to repeat it.\n",
    "# Create a new tuple where the specified element is repeated the given number of times, with the rest of the elements unchanged.\n",
    "# Display the original tuple and the new tuple.\n",
    "\n",
    "tuple1 = input(\"Enter a tuple of elements separated by commas: \")\n",
    "tuple1 = tuple(tuple1.split(\",\"))\n",
    "print(f\"Original tuple: {tuple1}\")\n",
    "element = input(\"Enter an element to repeat: \")\n",
    "repeat = int(input(\"Enter the number of times to repeat the element: \"))\n",
    "new_tuple = tuple1 + (element,) * repeat\n",
    "print(f\"New tuple: {new_tuple}\")\n",
    "\n",
    "\n"
   ]
  },
  {
   "cell_type": "markdown",
   "metadata": {},
   "source": [
    "# Assignment 7"
   ]
  },
  {
   "cell_type": "code",
   "execution_count": null,
   "metadata": {},
   "outputs": [],
   "source": [
    "# Assignment 1: Repeat specific elements within a tuple. Use functions appropriately.\n",
    "# Instructions:\n",
    "# Write a Python program that performs the following tasks:\n",
    "# Prompt the user to enter a tuple of elements (mixed types allowed) separated by commas.\n",
    "# Convert the input string to a tuple of elements.\n",
    "# Prompt the user for an element to repeat and the number of times to repeat it.\n",
    "# Create a new tuple where the specified element is repeated the given number of times, with the rest of the elements unchanged.\n",
    "# Display the original tuple and the new tuple.\n",
    "\n",
    "\n",
    "tuple1 = input(\"Enter a tuple of elements separated by commas: \")\n",
    "tuple1 = tuple(tuple1.split(\",\"))\n",
    "print(f\"Original tuple: {tuple1}\")\n",
    "element = input(\"Enter an element to repeat: \")\n",
    "repeat = int(input(\"Enter the number of times to repeat the element: \"))\n",
    "new_tuple = tuple1 + (element,) * repeat\n",
    "print(f\"New tuple: {new_tuple}\")\n",
    "\n",
    "\n",
    "\n",
    "\n",
    "\n",
    "\n",
    "\n"
   ]
  }
 ],
 "metadata": {
  "kernelspec": {
   "display_name": "Python 3",
   "language": "python",
   "name": "python3"
  },
  "language_info": {
   "codemirror_mode": {
    "name": "ipython",
    "version": 3
   },
   "file_extension": ".py",
   "mimetype": "text/x-python",
   "name": "python",
   "nbconvert_exporter": "python",
   "pygments_lexer": "ipython3",
   "version": "3.12.1"
  }
 },
 "nbformat": 4,
 "nbformat_minor": 2
}
