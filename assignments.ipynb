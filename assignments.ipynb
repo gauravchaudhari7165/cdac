{
 "cells": [
  {
   "cell_type": "markdown",
   "metadata": {
    "vscode": {
     "languageId": "plaintext"
    }
   },
   "source": [
    "# Assignment 3"
   ]
  },
  {
   "cell_type": "code",
   "execution_count": 1,
   "metadata": {},
   "outputs": [],
   "source": [
    "#Assignment 1: Count occurrence of letter ‘a’ in a String.\n"
   ]
  },
  {
   "cell_type": "code",
   "execution_count": null,
   "metadata": {},
   "outputs": [],
   "source": [
    "#Assignment 2: Ask for a number from a user and count occurrence of digit 0 in it. Print the number and the number of zeros in the number. Ask the user if she wants to add a new number. If yes, check for zeros again. Continue until the user says ‘N’. "
   ]
  },
  {
   "cell_type": "code",
   "execution_count": 3,
   "metadata": {},
   "outputs": [],
   "source": [
    "#Assignment 3: Create a Pyramid pattern of stars.\n",
    "    #       *\n",
    "    #     * * *\n",
    "    #   * * * * *\n",
    "    #  * * * * * * *\n",
    "    # * * * * * * * * *"
   ]
  },
  {
   "cell_type": "markdown",
   "metadata": {},
   "source": [
    "# Assignment 4"
   ]
  },
  {
   "cell_type": "code",
   "execution_count": 4,
   "metadata": {},
   "outputs": [],
   "source": [
    "# Assignment 11: Write a program that checks whether a given string is a palindrome (a string that reads the same backward as forward).\n",
    "# Input:\n",
    "# Prompt the user to enter a string.\n",
    "# Logic:\n",
    "# Remove any spaces and convert the string to lowercase.\n",
    "# Check if the string reads the same forward and backward.\n",
    "# Output:\n",
    "# Display whether the string is a palindrome.\n"
   ]
  },
  {
   "cell_type": "markdown",
   "metadata": {},
   "source": [
    "# Assignment 5"
   ]
  },
  {
   "cell_type": "code",
   "execution_count": 5,
   "metadata": {},
   "outputs": [],
   "source": [
    "# Assignment 1: \n",
    "# Try following string operations:\n",
    "# Removing Leading Characters - lstrip(chars)\n",
    "# Removing Trailing Characters - rstrip(chars)\n",
    "# Joining a List into a String with a Space – “ ”.join(listname)\n",
    "# Joining a List into a String with a Custom Separator – “#”\n"
   ]
  },
  {
   "cell_type": "code",
   "execution_count": 6,
   "metadata": {},
   "outputs": [],
   "source": [
    "# Assignment 2 : \n",
    "# Write a program that asks the user how many days are in a particular month, and what day of the week the month begins on (0 for Monday, 1 for Tuesday, etc), and then prints a calendar for that month. For example, here is the output for a 30-day month that begins on day 4 (Thursday):ffff\n"
   ]
  },
  {
   "cell_type": "code",
   "execution_count": 7,
   "metadata": {},
   "outputs": [],
   "source": [
    "# Assignment 3: Reverse a list in Python"
   ]
  },
  {
   "cell_type": "code",
   "execution_count": 8,
   "metadata": {},
   "outputs": [],
   "source": [
    "# Assignment 4: Concatenate two lists index-wise."
   ]
  },
  {
   "cell_type": "code",
   "execution_count": 9,
   "metadata": {},
   "outputs": [],
   "source": [
    "# Assignment 5: Write a Python program to multiply all the items in a list."
   ]
  },
  {
   "cell_type": "code",
   "execution_count": 10,
   "metadata": {},
   "outputs": [
    {
     "name": "stdout",
     "output_type": "stream",
     "text": [
      "1\n"
     ]
    }
   ],
   "source": [
    "# Assignment 6: Write a Python program to get the smallest number from a list."
   ]
  },
  {
   "cell_type": "code",
   "execution_count": 11,
   "metadata": {},
   "outputs": [],
   "source": [
    "# Assignment 7: Write a python program to extract 3rd to 9th characters from a long string. "
   ]
  },
  {
   "cell_type": "code",
   "execution_count": 14,
   "metadata": {},
   "outputs": [],
   "source": [
    "# Assignment 8: Replace Every Alternate Word in a Paragraph\n",
    "# Input: \n",
    "# A single string paragraph that represents a paragraph of text.\n",
    "# Output: \n",
    "# A new string where every alternate word in the input paragraph is replaced with the word 'replaced'.\n",
    "# Logic : \n",
    "# Use the split() method to divide the paragraph into a list of words. \n",
    "# Replacing Alternate Words:\n",
    "# Iterate through the list of words. Use the index of each word to determine if it is an alternate word. Replace every second word (i.e., words at odd indices) with the word 'replaced'.\n",
    "# Joining Words:\n",
    "# Combine the list of modified words back into a single string using the join() method, ensuring that words are separated by spaces. Print the new paragraph.\n"
   ]
  },
  {
   "cell_type": "markdown",
   "metadata": {},
   "source": [
    "# Assignment 6"
   ]
  },
  {
   "cell_type": "code",
   "execution_count": 13,
   "metadata": {},
   "outputs": [],
   "source": [
    "# Assignment 1: Create a calculator for performing addition, subtraction, division, multiplication operations. Create a separate function for each operation. Call these functions appropriately based on options from user. \n",
    "# Input : \n",
    "# Ask user what operation needs to be performed.\n",
    "# Ask user if next operation needs to be performed. Based on the answer repeat same steps or exit. \n"
   ]
  },
  {
   "cell_type": "code",
   "execution_count": null,
   "metadata": {},
   "outputs": [],
   "source": [
    "# Assignment 2: \n",
    "# Repeat specific elements within a tuple. Use functions appropriately.\n",
    "# Instructions:\n",
    "# Write a Python program that performs the following tasks:\n",
    "# Prompt the user to enter a tuple of elements (mixed types allowed) separated by commas.\n",
    "# Convert the input string to a tuple of elements.\n",
    "# Prompt the user for an element to repeat and the number of times to repeat it.\n",
    "# Create a new tuple where the specified element is repeated the given number of times, with the rest of the elements unchanged.\n",
    "# Display the original tuple and the new tuple.\n",
    "\n"
   ]
  },
  {
   "cell_type": "markdown",
   "metadata": {},
   "source": [
    "# Assignment 7"
   ]
  },
  {
   "cell_type": "code",
   "execution_count": null,
   "metadata": {},
   "outputs": [],
   "source": [
    "# Assignment 1: Repeat specific elements within a tuple. Use functions appropriately.\n",
    "# Instructions:\n",
    "# Write a Python program that performs the following tasks:\n",
    "# Prompt the user to enter a tuple of elements (mixed types allowed) separated by commas.\n",
    "# Convert the input string to a tuple of elements.\n",
    "# Prompt the user for an element to repeat and the number of times to repeat it.\n",
    "# Create a new tuple where the specified element is repeated the given number of times, with the rest of the elements unchanged.\n",
    "# Display the original tuple and the new tuple.\n"
   ]
  }
 ],
 "metadata": {
  "kernelspec": {
   "display_name": "Python 3",
   "language": "python",
   "name": "python3"
  },
  "language_info": {
   "codemirror_mode": {
    "name": "ipython",
    "version": 3
   },
   "file_extension": ".py",
   "mimetype": "text/x-python",
   "name": "python",
   "nbconvert_exporter": "python",
   "pygments_lexer": "ipython3",
   "version": "3.12.1"
  }
 },
 "nbformat": 4,
 "nbformat_minor": 2
}
