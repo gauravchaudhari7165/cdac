{
 "cells": [
  {
   "cell_type": "markdown",
   "metadata": {
    "vscode": {
     "languageId": "plaintext"
    }
   },
   "source": [
    "# Assignment 3"
   ]
  },
  {
   "cell_type": "code",
   "execution_count": 6,
   "metadata": {},
   "outputs": [
    {
     "name": "stdout",
     "output_type": "stream",
     "text": [
      "Number of 'a' in the string:  0\n"
     ]
    }
   ],
   "source": [
    "#Assignment 1: Count occurrence of letter ‘a’ in a String.\n",
    "\n",
    "def count_a(string):\n",
    "    count = 0\n",
    "    for i in string:\n",
    "        if i == 'a':\n",
    "            count += 1\n",
    "    return count\n",
    "\n",
    "string = input(\"Enter a string: \")\n",
    "print(\"Number of 'a' in the string: \", count_a(string))\n",
    "\n"
   ]
  },
  {
   "cell_type": "code",
   "execution_count": 7,
   "metadata": {},
   "outputs": [
    {
     "name": "stdout",
     "output_type": "stream",
     "text": [
      "Number of '0' in the number:  3\n"
     ]
    }
   ],
   "source": [
    "#Assignment 2: Ask for a number from a user and count occurrence of digit 0 in it. Print the number and the number of zeros in the number. Ask the user if she wants to add a new number. If yes, check for zeros again. Continue until the user says ‘N’. \n",
    "num = input(\"Enter a number: \")\n",
    "count = 0\n",
    "for i in num:\n",
    "    if i == '0':\n",
    "        count += 1\n",
    "print(\"Number of '0' in the number: \", count)\n",
    "while True:\n",
    "    choice = input(\"Do you want to add a new number? (Y/N): \")\n",
    "    if choice == 'Y':\n",
    "        num = input(\"Enter a number: \")\n",
    "        count = 0\n",
    "        for i in num:\n",
    "            if i == '0':\n",
    "                count += 1\n",
    "        print(\"Number of '0' in the number: \", count)\n",
    "    else:\n",
    "        break\n"
   ]
  },
  {
   "cell_type": "code",
   "execution_count": 5,
   "metadata": {},
   "outputs": [
    {
     "name": "stdout",
     "output_type": "stream",
     "text": [
      "    *\n",
      "   ***\n",
      "  *****\n",
      " *******\n",
      "*********\n"
     ]
    }
   ],
   "source": [
    "#Assignment 3: Create a Pyramid pattern of stars.\n",
    "    #       *\n",
    "    #     * * *\n",
    "    #   * * * * *\n",
    "    #  * * * * * * *\n",
    "    # * * * * * * * * *\n",
    "\n",
    "for row in range(5):\n",
    "    empty_spaces = ' ' * (4 - row)\n",
    "    star_pattern = '*' * (2 * row + 1)\n",
    "    print(empty_spaces + star_pattern)\n",
    "    "
   ]
  },
  {
   "cell_type": "markdown",
   "metadata": {},
   "source": [
    "# Assignment 4"
   ]
  },
  {
   "cell_type": "code",
   "execution_count": 10,
   "metadata": {},
   "outputs": [
    {
     "name": "stdout",
     "output_type": "stream",
     "text": [
      "The string is a palindrome.\n"
     ]
    }
   ],
   "source": [
    "# Assignment 11: Write a program that checks whether a given string is a palindrome (a string that reads the same backward as forward).\n",
    "# Input:\n",
    "# Prompt the user to enter a string.\n",
    "# Logic:\n",
    "# Remove any spaces and convert the string to lowercase.\n",
    "# Check if the string reads the same forward and backward.\n",
    "# Output:\n",
    "# Display whether the string is a palindrome.\n",
    "\n",
    "string = input(\"Enter a string: \")\n",
    "string = string.replace(\" \", \"\").lower()\n",
    "if string == string[::-1]:\n",
    "    print(\"The string is a palindrome.\")\n",
    "else:\n",
    "    print(\"The string is not a palindrome.\")\n",
    "    \n"
   ]
  },
  {
   "cell_type": "markdown",
   "metadata": {},
   "source": [
    "# Assignment 5"
   ]
  },
  {
   "cell_type": "code",
   "execution_count": 27,
   "metadata": {},
   "outputs": [
    {
     "name": "stdout",
     "output_type": "stream",
     "text": [
      "After removing characters: Hello World!\n",
      "Joined with space: Hello World Python Programming\n",
      "Joined with custom separator: Hello#World#Python#Programming\n"
     ]
    }
   ],
   "source": [
    "# Assignment 1: \n",
    "# Try following string operations:\n",
    "# Removing Leading Characters - lstrip(chars)\n",
    "# Removing Trailing Characters - rstrip(chars)\n",
    "# Joining a List into a String with a Space – “ ”.join(listname)\n",
    "# Joining a List into a String with a Custom Separator – “#”\n",
    "\n",
    "list1 = ['Hello', 'World']\n",
    "list2 = ['Python', 'Programming']\n",
    "s = string.lstrip().rstrip()\n",
    "words = list1 + list2\n",
    "joined_space = \" \".join(map(str, words))\n",
    "joined_custom = \"#\".join(map(str, words))\n",
    "\n",
    "print(\"After removing characters:\", s)\n",
    "print(\"Joined with space:\", joined_space)\n",
    "print(\"Joined with custom separator:\", joined_custom)\n",
    "\n",
    "\n",
    "\n"
   ]
  },
  {
   "cell_type": "code",
   "execution_count": 17,
   "metadata": {},
   "outputs": [
    {
     "name": "stdout",
     "output_type": "stream",
     "text": [
      "Mon Tue Wed Thu Fri Sat Sun\n",
      "     1  2  3  4  5  6 \n",
      " 7  8  9 10 11 12 13 \n",
      "14 15 16 17 18 19 20 \n",
      "21 22 23 24 25 "
     ]
    }
   ],
   "source": [
    "# Assignment 2 : \n",
    "# Write a program that asks the user how many days are in a particular month, and what day of the week the month begins on (0 for Monday, 1 for Tuesday, etc), and then prints a calendar for that month. For example, here is the output for a 30-day month that begins on day 4 (Thursday):ffff\n",
    "\n",
    "days_in_month = int(input(\"Days in month: \"))\n",
    "start_day = int(input(\"Start day (0=Mon, 1=Tue, ...): \"))\n",
    "\n",
    "print(\"Mon Tue Wed Thu Fri Sat Sun\")\n",
    "print(\"    \" * start_day, end=\"\")\n",
    "\n",
    "for day in range(1, days_in_month + 1):\n",
    "    print(f\"{day:2}\", end=\" \")\n",
    "    if (day + start_day) % 7 == 0:\n",
    "        print()\n"
   ]
  },
  {
   "cell_type": "code",
   "execution_count": 20,
   "metadata": {},
   "outputs": [
    {
     "name": "stdout",
     "output_type": "stream",
     "text": [
      "reversed list: [10, 9, 8, 7, 6, 5, 4, 3, 2, 1]\n"
     ]
    }
   ],
   "source": [
    "# Assignment 3: Reverse a list in Python\n",
    "\n",
    "list1 = [1,2,3,4,5,6,7,8,9,10]\n",
    "list1.reverse()\n",
    "print(f\"reversed list: {list1}\")"
   ]
  },
  {
   "cell_type": "code",
   "execution_count": 21,
   "metadata": {},
   "outputs": [
    {
     "name": "stdout",
     "output_type": "stream",
     "text": [
      "concatinated two list: [1, 'a', 2, 'b', 3, 'c', 4, 'd', 5, 'e']\n"
     ]
    }
   ],
   "source": [
    "# Assignment 4: Concatenate two lists index-wise.\n",
    "list1 = [1, 2, 3, 4, 5]\n",
    "list2 = ['a', 'b', 'c', 'd', 'e']\n",
    "list3 = []\n",
    "for i in range(len(list1)):\n",
    "    list3.append(list1[i])\n",
    "    list3.append(list2[i])\n",
    "print(f\"concatinated two lists index wise: {list3}\")\n"
   ]
  },
  {
   "cell_type": "code",
   "execution_count": 22,
   "metadata": {},
   "outputs": [
    {
     "name": "stdout",
     "output_type": "stream",
     "text": [
      "120\n"
     ]
    }
   ],
   "source": [
    "# Assignment 5: Write a Python program to multiply all the items in a list.\n",
    "list1 = [1,2,3,4,5]\n",
    "result = 1\n",
    "for i in list1:\n",
    "    result *= i\n",
    "print(result)\n"
   ]
  },
  {
   "cell_type": "code",
   "execution_count": 28,
   "metadata": {},
   "outputs": [
    {
     "name": "stdout",
     "output_type": "stream",
     "text": [
      "Smallest number in the list: 1\n"
     ]
    }
   ],
   "source": [
    "# Assignment 6: Write a Python program to get the smallest number from a list.\n",
    "list1 = [1,2,3,4,5,6,7,8,9,10]\n",
    "print(f\"Smallest number in the list: {min(list1)}\")"
   ]
  },
  {
   "cell_type": "code",
   "execution_count": 29,
   "metadata": {},
   "outputs": [
    {
     "name": "stdout",
     "output_type": "stream",
     "text": [
      " 3rd to 9th characters: llo, we\n"
     ]
    }
   ],
   "source": [
    "# Assignment 7: Write a python program to extract 3rd to 9th characters from a long string. \n",
    "string = \"Hello, welcome to the world of Python programming.\"\n",
    "print(f\" 3rd to 9th characters: {string[2:9]}\")\n"
   ]
  },
  {
   "cell_type": "code",
   "execution_count": 15,
   "metadata": {},
   "outputs": [
    {
     "name": "stdout",
     "output_type": "stream",
     "text": [
      "Hello, replaced am replaced Python replaced\n"
     ]
    }
   ],
   "source": [
    "# Assignment 8: Replace Every Alternate Word in a Paragraph\n",
    "# Input: \n",
    "# A single string paragraph that represents a paragraph of text.\n",
    "# Output: \n",
    "# A new string where every alternate word in the input paragraph is replaced with the word 'replaced'.\n",
    "# Logic : \n",
    "# Use the split() method to divide the paragraph into a list of words. \n",
    "# Replacing Alternate Words:\n",
    "# Iterate through the list of words. Use the index of each word to determine if it is an alternate word. Replace every second word (i.e., words at odd indices) with the word 'replaced'.\n",
    "# Joining Words:\n",
    "# Combine the list of modified words back into a single string using the join() method, ensuring that words are separated by spaces. Print the new paragraph.\n",
    "\n",
    "string = \"Hello, I am a Python Developer\"\n",
    "words = string.split()\n",
    "new_words = []\n",
    "for i in range(len(words)):\n",
    "    if i % 2 == 0:\n",
    "        new_words.append(words[i])\n",
    "    else:\n",
    "        new_words.append(\"replaced\")\n",
    "new_string = \" \".join(new_words)\n",
    "print(new_string)\n",
    "\n",
    "\n"
   ]
  },
  {
   "cell_type": "markdown",
   "metadata": {},
   "source": [
    "# Assignment 6"
   ]
  },
  {
   "cell_type": "code",
   "execution_count": 30,
   "metadata": {},
   "outputs": [
    {
     "name": "stdout",
     "output_type": "stream",
     "text": [
      "Welcome to the calculator\n",
      "Enter the operation you want to perform\n",
      "1. Addition\n",
      "2. Subtraction\n",
      "3. Multiplication\n",
      "4. Division\n",
      "4\n",
      "Enter the operation you want to perform\n",
      "1. Addition\n",
      "2. Subtraction\n",
      "3. Multiplication\n",
      "4. Division\n",
      "0\n",
      "Thank you for using the calculator\n"
     ]
    }
   ],
   "source": [
    "# Assignment 1: Create a calculator for performing addition, subtraction, division, multiplication operations. Create a separate function for each operation. Call these functions appropriately based on options from user. \n",
    "# Input : \n",
    "# Ask user what operation needs to be performed.\n",
    "# Ask user if next operation needs to be performed. Based on the answer repeat same steps or exit. \n",
    "\n",
    "print(\"Welcome to the calculator\")\n",
    "def add(a,b):\n",
    "    return a+b\n",
    "def sub(a,b):\n",
    "    return a-b\n",
    "def mul(a,b):\n",
    "    return a*b\n",
    "def div(a,b):\n",
    "    return a/b\n",
    "choice = 'y'\n",
    "while choice == 'y':\n",
    "    print(\"Enter the operation you want to perform\")\n",
    "    print(\"1. Addition\")\n",
    "    print(\"2. Subtraction\")\n",
    "    print(\"3. Multiplication\")\n",
    "    print(\"4. Division\")\n",
    "    operation = int(input())\n",
    "    a = int(input(\"Enter first number\"))\n",
    "    b = int(input(\"Enter second number\"))\n",
    "    if operation == 1:\n",
    "        print(add(a,b))\n",
    "    elif operation == 2:\n",
    "        print(sub(a,b))\n",
    "    elif operation == 3:\n",
    "        print(mul(a,b))\n",
    "    elif operation == 4:\n",
    "        print(div(a,b))\n",
    "    choice = input(\"Do you want to perform another operation? y/n\")\n",
    "print(\"Thank you for using the calculator\")\n",
    "\n"
   ]
  },
  {
   "cell_type": "code",
   "execution_count": 31,
   "metadata": {},
   "outputs": [
    {
     "name": "stdout",
     "output_type": "stream",
     "text": [
      "Original tuple: ('ga', 'ura', 'v')\n",
      "New tuple: ('ga', 'ura', 'v', 'ga', 'ga')\n"
     ]
    }
   ],
   "source": [
    "# Assignment 2: \n",
    "# Repeat specific elements within a tuple. Use functions appropriately.\n",
    "# Instructions:\n",
    "# Write a Python program that performs the following tasks:\n",
    "# Prompt the user to enter a tuple of elements (mixed types allowed) separated by commas.\n",
    "# Convert the input string to a tuple of elements.\n",
    "# Prompt the user for an element to repeat and the number of times to repeat it.\n",
    "# Create a new tuple where the specified element is repeated the given number of times, with the rest of the elements unchanged.\n",
    "# Display the original tuple and the new tuple.\n",
    "\n",
    "tuple1 = input(\"Enter a tuple of elements separated by commas: \")\n",
    "tuple1 = tuple(tuple1.split(\",\"))\n",
    "print(f\"Original tuple: {tuple1}\")\n",
    "element = input(\"Enter an element to repeat: \")\n",
    "repeat = int(input(\"Enter the number of times to repeat the element: \"))\n",
    "new_tuple = tuple1 + (element,) * repeat\n",
    "print(f\"New tuple: {new_tuple}\")\n",
    "\n",
    "\n"
   ]
  },
  {
   "cell_type": "markdown",
   "metadata": {},
   "source": [
    "# Assignment 7"
   ]
  },
  {
   "cell_type": "code",
   "execution_count": 32,
   "metadata": {},
   "outputs": [
    {
     "name": "stdout",
     "output_type": "stream",
     "text": [
      "Original tuple: ('ga', 'ur', 'av')\n",
      "New tuple: ('ga', 'ur', 'av', 'hh', 'hh')\n"
     ]
    }
   ],
   "source": [
    "# Assignment 1: Repeat specific elements within a tuple. Use functions appropriately.\n",
    "# Instructions:\n",
    "# Write a Python program that performs the following tasks:\n",
    "# Prompt the user to enter a tuple of elements (mixed types allowed) separated by commas.\n",
    "# Convert the input string to a tuple of elements.\n",
    "# Prompt the user for an element to repeat and the number of times to repeat it.\n",
    "# Create a new tuple where the specified element is repeated the given number of times, with the rest of the elements unchanged.\n",
    "# Display the original tuple and the new tuple.\n",
    "\n",
    "\n",
    "tuple1 = input(\"Enter a tuple of elements separated by commas: \")\n",
    "tuple1 = tuple(tuple1.split(\",\"))\n",
    "print(f\"Original tuple: {tuple1}\")\n",
    "element = input(\"Enter an element to repeat: \")\n",
    "repeat = int(input(\"Enter the number of times to repeat the element: \"))\n",
    "new_tuple = tuple1 + (element,) * repeat\n",
    "print(f\"New tuple: {new_tuple}\")\n",
    "\n",
    "\n",
    "\n",
    "\n",
    "\n",
    "\n",
    "\n"
   ]
  },
  {
   "cell_type": "markdown",
   "metadata": {},
   "source": [
    "# Assignment 8"
   ]
  },
  {
   "cell_type": "code",
   "execution_count": null,
   "metadata": {},
   "outputs": [],
   "source": [
    "# Assignment 1: Voting System for Favorite Movies\n",
    "# Implement a function manage_votes() that manages votes for a list of movies.\n",
    "# Dictionary: \n",
    "# Key : movie name (string) \n",
    "# Value : Number of votes (integer)\n",
    "# Implement the following operations:\n",
    "# Add a new movie: Add a new movie to the voting list with 0 initial votes.\n",
    "# Vote for a movie: Increment the vote count for a specific movie.\n",
    "# Remove a movie: Remove a movie from the voting list.\n",
    "# Display voting results: Display the current vote count for each movie.\n",
    "# Find the top movie: Find and return the movie with the highest number of votes.\n",
    "\n",
    "def manage_votes():\n",
    "    votes = {}\n",
    "    while True:\n",
    "        print(\"1. Add a new movie\")\n",
    "        print(\"2. Vote for a movie\")\n",
    "        print(\"3. Remove a movie\")\n",
    "        print(\"4. Display voting results\")\n",
    "        print(\"5. Find the top movie\")\n",
    "        print(\"6. Exit\")\n",
    "        choice = int(input(\"Enter your choice: \"))\n",
    "        if choice == 1:\n",
    "            movie = input(\"Enter the movie name: \")\n",
    "            votes[movie] = 0\n",
    "        elif choice == 2:\n",
    "            movie = input(\"Enter the movie name: \")\n",
    "            if movie in votes:\n",
    "                votes[movie] += 1\n",
    "            else:\n",
    "                print(\"Movie not found\")\n",
    "        elif choice == 3:\n",
    "            movie = input(\"Enter the movie name: \")\n",
    "            if movie in votes:\n",
    "                del votes[movie]\n",
    "            else:\n",
    "                print(\"Movie not found\")\n",
    "        elif choice == 4:\n",
    "            for movie, vote in votes.items():\n",
    "                print(f\"{movie}: {vote}\")\n",
    "        elif choice == 5:\n",
    "            top_movie = max(votes, key=votes.get)\n",
    "            print(f\"Top movie: {top_movie}\")\n",
    "        elif choice == 6:\n",
    "            break\n",
    "\n",
    "manage_votes()\n",
    "\n"
   ]
  },
  {
   "cell_type": "markdown",
   "metadata": {},
   "source": [
    "# Assignment 9"
   ]
  },
  {
   "cell_type": "code",
   "execution_count": 1,
   "metadata": {},
   "outputs": [
    {
     "name": "stdout",
     "output_type": "stream",
     "text": [
      "[32.0, 68.0, 98.6, 212.0]\n"
     ]
    }
   ],
   "source": [
    "# 1\n",
    "\n",
    "# Assignment 1:  Convert Celsius to Fahrenheit\n",
    "# Use a lambda function with map() to convert a list of temperatures from Celsius to Fahrenheit.\n",
    "# Given a list of temperatures in Celsius [0, 20, 37, 100], use map() and a lambda function to convert each value to Fahrenheit using the formula F = (C * 9/5) + 32.\n",
    "# Expected Output: [32.0, 68.0, 98.6, 212.0]\n",
    "\n",
    "\n",
    "celsius = [0, 20, 37, 100]\n",
    "fahrenheit = list(map(lambda c: (c * 9/5) + 32, celsius))\n",
    "print(fahrenheit)\n",
    "\n",
    "\n",
    "\n"
   ]
  },
  {
   "cell_type": "code",
   "execution_count": 2,
   "metadata": {},
   "outputs": [
    {
     "name": "stdout",
     "output_type": "stream",
     "text": [
      "[5, 7, 9]\n"
     ]
    }
   ],
   "source": [
    "#2\n",
    "# Assignment 2: Add Two Lists Element-wise\n",
    "# Use a lambda function with map() to add corresponding elements from two lists.\n",
    "# Given two lists [1, 2, 3] and [4, 5, 6], use map() and a lambda function to return a new list where each element is the sum of the corresponding elements from the two lists.\n",
    "# Expected Output: [5, 7, 9]\n",
    "\n",
    "\n",
    "list1 = [1, 2, 3]\n",
    "list2 = [4, 5, 6]\n",
    "result = list(map(lambda x, y: x + y, list1, list2))\n",
    "print(result)\n"
   ]
  },
  {
   "cell_type": "code",
   "execution_count": 3,
   "metadata": {},
   "outputs": [
    {
     "name": "stdout",
     "output_type": "stream",
     "text": [
      "['Apple', 'Banana', 'Cherry']\n"
     ]
    }
   ],
   "source": [
    "# Assignment 3: Capitalize Words in a List\n",
    "# Use a lambda function with map() to capitalize the first letter of each word in a list.\n",
    "# Given a list of lowercase words ['apple', 'banana', 'cherry'], use map() and a lambda function to capitalize each word.\n",
    "# Expected Output: ['Apple', 'Banana', 'Cherry']\n",
    "\n",
    "\n",
    "words = ['apple', 'banana', 'cherry']\n",
    "capitalized_words = list(map(lambda word: word.capitalize(), words))\n",
    "print(capitalized_words)\n"
   ]
  },
  {
   "cell_type": "code",
   "execution_count": 4,
   "metadata": {},
   "outputs": [
    {
     "name": "stdout",
     "output_type": "stream",
     "text": [
      "[5, 5, 6]\n"
     ]
    }
   ],
   "source": [
    "# Assignment 4: Find the Length of Strings\n",
    "# Use a lambda function with map() to find the length of each string in a list.\n",
    "# Given a list of strings ['hello', 'world', 'python'], use map() and a lambda function to return a new list containing the length of each string.\n",
    "# Expected Output: [5, 5, 6]\n",
    "\n",
    "\n",
    "strings = ['hello', 'world', 'python']\n",
    "lengths = list(map(lambda string: len(string), strings))\n",
    "print(lengths)\n",
    "\n",
    "\n",
    "\n",
    "\n"
   ]
  },
  {
   "cell_type": "code",
   "execution_count": 5,
   "metadata": {},
   "outputs": [
    {
     "name": "stdout",
     "output_type": "stream",
     "text": [
      "Average temperature: 29.571428571428573°C\n"
     ]
    }
   ],
   "source": [
    "# Assignment 5: Daily Temperature Tracker\n",
    "# Create a dictionary to store and manipulate daily temperature data for a week.\n",
    "# Write a program that stores daily high temperatures for a week in a dictionary, where keys are days of the week and values are temperatures. The program should:\n",
    "# Allow the user to update the temperature for any day.\n",
    "# Calculate the average temperature for the week.\n",
    "# Example Input: {'Monday': 30, 'Tuesday': 32, 'Wednesday': 29, 'Thursday': 31, 'Friday': 30, 'Saturday': 28, 'Sunday': 27}\n",
    "# Expected Output: Average temperature: 29.57°C.\n",
    "\n",
    "\n",
    "temperatures = {'Monday': 30, 'Tuesday': 32, 'Wednesday': 29, 'Thursday': 31, 'Friday': 30, 'Saturday': 28, 'Sunday': 27}\n",
    "total = sum(temperatures.values())\n",
    "average = total / len(temperatures)\n",
    "print(f\"Average temperature: {average}°C\")\n",
    "\n"
   ]
  },
  {
   "cell_type": "code",
   "execution_count": 6,
   "metadata": {},
   "outputs": [
    {
     "name": "stdout",
     "output_type": "stream",
     "text": [
      "The bird with the highest sightings is 'crow'.\n",
      "{'sparrow': 12, 'eagle': 5, 'hawk': 7, 'crow': 15}\n"
     ]
    }
   ],
   "source": [
    "# Assignment 6: Bird Species Observation Tracker\n",
    "# Create a dictionary to track the number of sightings of different bird species.\n",
    "# Given a dictionary where keys are bird species (e.g., 'sparrow', 'eagle') and values are the number of sightings, write a program to:\n",
    "# Add a new species with its count.\n",
    "# Update the sighting count for an existing species.\n",
    "# Display the bird with the highest number of sightings.\n",
    "# Example Input: {'sparrow': 10, 'eagle': 5, 'hawk': 7}\n",
    "# Expected Output: The bird with the highest sightings is 'sparrow'.\n",
    "\n",
    "\n",
    "birds = {'sparrow': 10, 'eagle': 5, 'hawk': 7}\n",
    "birds['crow'] = 15\n",
    "birds['sparrow'] += 2\n",
    "most_sighted = max(birds, key=birds.get)\n",
    "print(f\"The bird with the highest sightings is '{most_sighted}'.\")\n",
    "print(birds)\n",
    "\n"
   ]
  },
  {
   "cell_type": "markdown",
   "metadata": {},
   "source": [
    "# Day 10"
   ]
  },
  {
   "cell_type": "code",
   "execution_count": 7,
   "metadata": {},
   "outputs": [],
   "source": [
    "# Assignment 1: Replace a Keyword in a Text File\n",
    "# Search for all occurrences of keyword 'after', replace it with 'before’. Save modified content back to file. \n",
    "# Create functions wherever appropriate.\n",
    "\n",
    "def replace_keyword(file_name, keyword, replacement):\n",
    "    with open(file_name, 'r') as file:\n",
    "        content = file.read()\n",
    "    content = content.replace(keyword, replacement)\n",
    "    with open(file_name, 'w') as file:\n",
    "        file.write(content)\n",
    "\n",
    "\n",
    "file_name = 'sample.txt'\n",
    "keyword = 'after'\n",
    "replacement = 'before'\n",
    "replace_keyword(file_name, keyword, replacement)\n",
    "\n"
   ]
  },
  {
   "cell_type": "markdown",
   "metadata": {},
   "source": [
    "# Day 11"
   ]
  },
  {
   "cell_type": "code",
   "execution_count": 8,
   "metadata": {},
   "outputs": [
    {
     "name": "stdout",
     "output_type": "stream",
     "text": [
      "55.0°C is equal to 131.0°F and 328.15K.\n",
      "Conversion successful\n",
      "Program execution complete\n"
     ]
    }
   ],
   "source": [
    "# Assignment 1: Temperature convertor\n",
    "# Input from user : \n",
    "# Temperature value and unit \n",
    "# Temperature unit to convert to\n",
    "# Functions : \n",
    "# celsius_to_fahrenheit(celsius)\n",
    "# fahrenheit_to_celsius(fahrenheit)\n",
    "# celsius_to_kelvin(celsius)\n",
    "# Employ exception handling for checking numeric values. \n",
    "# Finally and else block\n",
    "\n",
    "def celsius_to_fahrenheit(celsius):\n",
    "    return (celsius * 9/5) + 32\n",
    "\n",
    "def fahrenheit_to_celsius(fahrenheit):\n",
    "    return (fahrenheit - 32) * 5/9\n",
    "\n",
    "def celsius_to_kelvin(celsius):\n",
    "    return celsius + 273.15\n",
    "\n",
    "try:\n",
    "    temperature = float(input(\"Enter the temperature value: \"))\n",
    "    unit = input(\"Enter the temperature unit (C/F/K): \")\n",
    "    if unit == 'C':\n",
    "        fahrenheit = celsius_to_fahrenheit(temperature)\n",
    "        kelvin = celsius_to_kelvin(temperature)\n",
    "        print(f\"{temperature}°C is equal to {fahrenheit}°F and {kelvin}K.\")\n",
    "    elif unit == 'F':\n",
    "        celsius = fahrenheit_to_celsius(temperature)\n",
    "        kelvin = celsius_to_kelvin(celsius)\n",
    "        print(f\"{temperature}°F is equal to {celsius}°C and {kelvin}K.\")\n",
    "    elif unit == 'K':\n",
    "        celsius = temperature - 273.15\n",
    "        fahrenheit = celsius_to_fahrenheit(celsius)\n",
    "        print(f\"{temperature}K is equal to {celsius}°C and {fahrenheit}°F.\")\n",
    "    else:\n",
    "        print(\"Invalid unit\")\n",
    "\n",
    "except ValueError:\n",
    "    print(\"Invalid temperature value\")\n",
    "except:\n",
    "    print(\"An error occurred\")\n",
    "else:\n",
    "    print(\"Conversion successful\")\n",
    "finally:\n",
    "    print(\"Program execution complete\")\n",
    "\n",
    "    \n"
   ]
  },
  {
   "cell_type": "code",
   "execution_count": 9,
   "metadata": {},
   "outputs": [
    {
     "name": "stdout",
     "output_type": "stream",
     "text": [
      "File not found\n",
      "Program execution complete\n"
     ]
    }
   ],
   "source": [
    "# Assignment 2: Handle file not found exception\n",
    "\n",
    "try:\n",
    "    with open('file.txt', 'r') as file:\n",
    "        content = file.read()\n",
    "    print(content)\n",
    "except FileNotFoundError:\n",
    "    print(\"File not found\")\n",
    "except:\n",
    "    print(\"An error occurred\")\n",
    "else:\n",
    "    print(\"File read successfully\")\n",
    "finally:\n",
    "    print(\"Program execution complete\")\n",
    "\n",
    "    "
   ]
  },
  {
   "cell_type": "code",
   "execution_count": null,
   "metadata": {},
   "outputs": [],
   "source": []
  }
 ],
 "metadata": {
  "kernelspec": {
   "display_name": "Python 3",
   "language": "python",
   "name": "python3"
  },
  "language_info": {
   "codemirror_mode": {
    "name": "ipython",
    "version": 3
   },
   "file_extension": ".py",
   "mimetype": "text/x-python",
   "name": "python",
   "nbconvert_exporter": "python",
   "pygments_lexer": "ipython3",
   "version": "3.12.1"
  }
 },
 "nbformat": 4,
 "nbformat_minor": 2
}
