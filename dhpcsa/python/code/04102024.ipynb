{
 "cells": [
  {
   "cell_type": "code",
   "execution_count": 1,
   "metadata": {},
   "outputs": [
    {
     "name": "stdout",
     "output_type": "stream",
     "text": [
      "hello world\n"
     ]
    }
   ],
   "source": [
    "print(\"hello world\")"
   ]
  },
  {
   "cell_type": "code",
   "execution_count": 3,
   "metadata": {},
   "outputs": [
    {
     "name": "stdout",
     "output_type": "stream",
     "text": [
      "Addition:  5\n",
      "Multiplication:  6\n"
     ]
    }
   ],
   "source": [
    "def processNumbers(num1,num2):\n",
    "    resultAdd = num1 + num2\n",
    "    resultMult = num1 * num2\n",
    "    return resultAdd, resultMult\n",
    "\n",
    "num1 = int(input(\"Enter a number 1: \"))\n",
    "num2 = int(input(\"Enter a number 2: \"))\n",
    "resultAdd, resultMult = processNumbers(num1,num2)\n",
    "print(\"Addition: \", resultAdd)\n",
    "print(\"Multiplication: \", resultMult)\n",
    "\n"
   ]
  },
  {
   "cell_type": "code",
   "execution_count": 12,
   "metadata": {},
   "outputs": [
    {
     "name": "stdout",
     "output_type": "stream",
     "text": [
      "10\n"
     ]
    }
   ],
   "source": [
    "#assignment 1: sum of elements in a list \n",
    "#write a functio sum_of_list(lst) that takes a list of numbers as input and returns the sum of the elements in the list\n",
    "lst = input(\"Enter a list of numbers separated by space: \")\n",
    "lst = lst.split()\n",
    "for i in range(0, len(lst)):\n",
    "    lst[i] = int(lst[i])\n",
    "def sum_of_list(lst):\n",
    "    sum = 0\n",
    "    for i in lst:\n",
    "        sum += i\n",
    "    return sum\n",
    "print(sum_of_list(lst))\n",
    "\n"
   ]
  },
  {
   "cell_type": "code",
   "execution_count": 18,
   "metadata": {},
   "outputs": [
    {
     "name": "stdout",
     "output_type": "stream",
     "text": [
      "{1: 2, 2: 1, 3: 2}\n"
     ]
    }
   ],
   "source": [
    "#Assignment 2: Count the Frequency of Elements in a list \n",
    "#Write a function count_frequency(lst) that takes a list  as input and returns a dictionary where the keys are the elements of the list and the values are the number of times each element appears\n",
    "lst = input(\"Enter a list of numbers separated by space: \")\n",
    "lst = lst.split()\n",
    "for i in range(0, len(lst)):\n",
    "    lst[i] = int(lst[i])\n",
    "def count_frequency(lst):\n",
    "    frequency = {}\n",
    "    for i in lst:\n",
    "        if i in frequency:\n",
    "            frequency[i] += 1\n",
    "        else:\n",
    "            frequency[i] = 1\n",
    "    return frequency\n",
    "print(count_frequency(lst))\n"
   ]
  },
  {
   "cell_type": "code",
   "execution_count": 19,
   "metadata": {},
   "outputs": [
    {
     "name": "stdout",
     "output_type": "stream",
     "text": [
      "(6, 6)\n"
     ]
    }
   ],
   "source": [
    "#Assignment 3: Return Sum and Product fo Tuple Elements \n",
    "#Write a function sum_and_product(tpl) that takes a tuple of numbers as input and returns the tuple containing the sum and product of the elements.\n",
    "tpl = input(\"Enter a tuple of numbers separated by space: \")\n",
    "tpl = tpl.split()\n",
    "for i in range(0, len(tpl)):\n",
    "    tpl[i] = int(tpl[i])\n",
    "def sum_and_product(tpl):\n",
    "    sum = 0\n",
    "    product = 1\n",
    "    for i in tpl:\n",
    "        sum += i\n",
    "        product *= i\n",
    "    return sum, product\n",
    "print(sum_and_product(tpl))\n"
   ]
  },
  {
   "cell_type": "code",
   "execution_count": 26,
   "metadata": {},
   "outputs": [
    {
     "name": "stdout",
     "output_type": "stream",
     "text": [
      "(7, 10)\n",
      "<class 'tuple'>\n"
     ]
    }
   ],
   "source": [
    "#default arguments\n",
    "def processNumbers(num1,num2=5):\n",
    "    resultAdd = num1 + num2\n",
    "    resultMult = num1 * num2\n",
    "    return resultAdd, resultMult\n",
    "\n",
    "num1 = int(input(\"Enter a number 1: \"))\n",
    "num2 = int(input(\"Enter a number 2: \"))\n",
    "#resultAdd, resultMult = processNumbers(num1)\n",
    "result= processNumbers(num1)\n",
    "print(result)   \n",
    "print(type(result))\n",
    "\n",
    "\n"
   ]
  },
  {
   "cell_type": "code",
   "execution_count": 28,
   "metadata": {},
   "outputs": [
    {
     "name": "stdout",
     "output_type": "stream",
     "text": [
      "(4, 4)\n",
      "<class 'tuple'>\n"
     ]
    }
   ],
   "source": [
    "#default arguments\n",
    "def processNumbers(num1,num2=5):\n",
    "    resultAdd = num1 + num2\n",
    "    resultMult = num1 * num2\n",
    "    return resultAdd, resultMult\n",
    "\n",
    "num1 = int(input(\"Enter a number 1: \"))\n",
    "num2 = int(input(\"Enter a number 2: \"))\n",
    "# resultAdd, resultMult = processNumbers(num1,num2)\n",
    "# print(\"Addition: \", resultAdd)\n",
    "# print(\"Multiplication: \", resultMult)\n",
    "\n",
    "result= processNumbers(num1,num2)\n",
    "print(result)   \n",
    "print(type(result))\n"
   ]
  },
  {
   "cell_type": "code",
   "execution_count": 32,
   "metadata": {},
   "outputs": [
    {
     "name": "stdout",
     "output_type": "stream",
     "text": [
      "1\n",
      "2\n",
      "3\n",
      "\n",
      "1\n",
      "2\n",
      "3\n"
     ]
    }
   ],
   "source": [
    "#Keyword arguments / Name arguments\n",
    "def name_function(num1,num2,num3):\n",
    "    print(num1)\n",
    "    print(num2)\n",
    "    print(num3)\n",
    "\n",
    "name_function(1,2,3)\n",
    "print()\n",
    "name_function(num3=3,num1=1,num2=2)"
   ]
  },
  {
   "cell_type": "code",
   "execution_count": 34,
   "metadata": {},
   "outputs": [
    {
     "name": "stdout",
     "output_type": "stream",
     "text": [
      "Hello Alice!\n",
      "Hi Bob!\n",
      "Good Morning Alice!\n",
      "Hi Bob!\n",
      "Alice Hi!\n"
     ]
    }
   ],
   "source": [
    "#Default Arguments \n",
    "def greet(name, Message=\"Hello\"):\n",
    "    print(f\"{Message} {name}!\")\n",
    "\n",
    "#With default argument\n",
    "greet(\"Alice\")\n",
    "greet(\"Bob\", \"Hi\")\n",
    "greet(name=\"Alice\", Message=\"Good Morning\")\n",
    "greet(Message=\"Hi\", name=\"Bob\")\n",
    "greet(\"Hi\", \"Alice\")"
   ]
  },
  {
   "cell_type": "code",
   "execution_count": 60,
   "metadata": {},
   "outputs": [
    {
     "name": "stdout",
     "output_type": "stream",
     "text": [
      "4\n",
      "<class 'list'>\n",
      "[('Radha', 'Pink'), ('Ram', 'Black'), ('Vinay', 'Blue')]\n",
      "{'Radha': 'Pink', 'Ram': 'Black', 'Vinay': 'Blue'}\n"
     ]
    }
   ],
   "source": [
    "#assignment:\n",
    "# Given a dictionary, of students and their favourite colours:\n",
    "# people = {Vinay: \"Blue\", Ram: \"Yellow\", Vinod: \"Purple\", Radha: \"Pink\"}\n",
    "# Find out how many students are in the list\n",
    "# Change Ram's favourite colour \n",
    "# Remove \"Vinod\" and her favourite colour\n",
    "# Sort and print students and their favourite colours alphabetically by name_function\n",
    "#give output dictionary only\n",
    "\n",
    "people = {\"Vinay\": \"Blue\", \"Ram\": \"Yellow\", \"Vinod\": \"Purple\", \"Radha\": \"Pink\"}\n",
    "#studens are in a list\n",
    "print(len(people))\n",
    "people[\"Ram\"] = \"Black\"\n",
    "#del people[\"Vinod\"] \n",
    "people.pop(\"Vinod\")\n",
    "sorted_people = sorted(people.items())\n",
    "print(type(sorted_people))\n",
    "\n",
    "# for name, color in sorted_people:\n",
    "#     print(f\"{name}: {color}\")\n",
    "\n",
    "print(sorted_people)\n",
    "print(dict(sorted_people))\n"
   ]
  },
  {
   "cell_type": "code",
   "execution_count": 4,
   "metadata": {},
   "outputs": [
    {
     "name": "stdout",
     "output_type": "stream",
     "text": [
      "1. Add a new movie\n",
      "2. Vote for a movie\n",
      "3. Remove a movie\n",
      "4. Display voting results\n",
      "5. Find the top movie\n",
      "6. Exit\n"
     ]
    },
    {
     "ename": "ValueError",
     "evalue": "invalid literal for int() with base 10: ''",
     "output_type": "error",
     "traceback": [
      "\u001b[1;31m---------------------------------------------------------------------------\u001b[0m",
      "\u001b[1;31mValueError\u001b[0m                                Traceback (most recent call last)",
      "Cell \u001b[1;32mIn[4], line 50\u001b[0m\n\u001b[0;32m     47\u001b[0m         \u001b[38;5;28;01melse\u001b[39;00m:\n\u001b[0;32m     48\u001b[0m             \u001b[38;5;28mprint\u001b[39m(\u001b[38;5;124m\"\u001b[39m\u001b[38;5;124mInvalid choice\u001b[39m\u001b[38;5;124m\"\u001b[39m)\n\u001b[1;32m---> 50\u001b[0m \u001b[43mmanage_votes\u001b[49m\u001b[43m(\u001b[49m\u001b[43m)\u001b[49m\n",
      "Cell \u001b[1;32mIn[4], line 23\u001b[0m, in \u001b[0;36mmanage_votes\u001b[1;34m()\u001b[0m\n\u001b[0;32m     21\u001b[0m \u001b[38;5;28mprint\u001b[39m(\u001b[38;5;124m\"\u001b[39m\u001b[38;5;124m5. Find the top movie\u001b[39m\u001b[38;5;124m\"\u001b[39m)\n\u001b[0;32m     22\u001b[0m \u001b[38;5;28mprint\u001b[39m(\u001b[38;5;124m\"\u001b[39m\u001b[38;5;124m6. Exit\u001b[39m\u001b[38;5;124m\"\u001b[39m)\n\u001b[1;32m---> 23\u001b[0m choice \u001b[38;5;241m=\u001b[39m \u001b[38;5;28;43mint\u001b[39;49m\u001b[43m(\u001b[49m\u001b[38;5;28;43minput\u001b[39;49m\u001b[43m(\u001b[49m\u001b[38;5;124;43m\"\u001b[39;49m\u001b[38;5;124;43mEnter your choice: \u001b[39;49m\u001b[38;5;124;43m\"\u001b[39;49m\u001b[43m)\u001b[49m\u001b[43m)\u001b[49m\n\u001b[0;32m     24\u001b[0m \u001b[38;5;28;01mif\u001b[39;00m choice \u001b[38;5;241m==\u001b[39m \u001b[38;5;241m1\u001b[39m:\n\u001b[0;32m     25\u001b[0m     movie \u001b[38;5;241m=\u001b[39m \u001b[38;5;28minput\u001b[39m(\u001b[38;5;124m\"\u001b[39m\u001b[38;5;124mEnter the name of the movie: \u001b[39m\u001b[38;5;124m\"\u001b[39m)\n",
      "\u001b[1;31mValueError\u001b[0m: invalid literal for int() with base 10: ''"
     ]
    }
   ],
   "source": [
    "#voting system for favorite movies \n",
    "#implement a function manage_votes() that manages votes for a  list movies \n",
    "#Dictionary:\n",
    "#Key:movie name(string)\n",
    "#Value:Number of votes(integer)\n",
    "\n",
    "# Implement the following operations:\n",
    "# Add a new movie: Add a new movie to the voting list with 0 initial votes.\n",
    "# Vote for a movie: Increment the vote count for a specific movie \n",
    "# Remove a movie: Remove a movie from the voting list\n",
    "# Display voting results: Display the current vote count for each movie.\n",
    "# Find the top movie: Find and return the movie with the highest number of votes.\n",
    "\n",
    "def manage_votes():\n",
    "    votes = {}\n",
    "    while True:\n",
    "        print(\"1. Add a new movie\")\n",
    "        print(\"2. Vote for a movie\")\n",
    "        print(\"3. Remove a movie\")\n",
    "        print(\"4. Display voting results\")\n",
    "        print(\"5. Find the top movie\")\n",
    "        print(\"6. Exit\")\n",
    "        choice = int(input(\"Enter your choice: \"))\n",
    "        if choice == 1:\n",
    "            movie = input(\"Enter the name of the movie: \")\n",
    "            votes[movie] = 0\n",
    "        elif choice == 2:\n",
    "            movie = input(\"Enter the name of the movie: \")\n",
    "            if movie in votes:\n",
    "                votes[movie] += 1\n",
    "            else:\n",
    "                print(\"Movie not found\")\n",
    "        elif choice == 3:\n",
    "            movie = input(\"Enter the name of the movie: \")\n",
    "            if movie in votes:\n",
    "                del votes[movie]\n",
    "            else:\n",
    "                print(\"Movie not found\")\n",
    "        elif choice == 4:\n",
    "            for movie, vote in votes.items():\n",
    "                print(f\"{movie}: {vote}\")\n",
    "        elif choice == 5:\n",
    "            top_movie = max(votes, key=votes.get)\n",
    "            print(f\"Top movie: {top_movie}\")\n",
    "        elif choice == 6:\n",
    "            break\n",
    "        else:\n",
    "            print(\"Invalid choice\")\n",
    "\n",
    "manage_votes()"
   ]
  },
  {
   "cell_type": "code",
   "execution_count": 39,
   "metadata": {},
   "outputs": [
    {
     "name": "stdout",
     "output_type": "stream",
     "text": [
      "15\n"
     ]
    },
    {
     "ename": "NameError",
     "evalue": "name 'local_sum' is not defined",
     "output_type": "error",
     "traceback": [
      "\u001b[1;31m---------------------------------------------------------------------------\u001b[0m",
      "\u001b[1;31mNameError\u001b[0m                                 Traceback (most recent call last)",
      "Cell \u001b[1;32mIn[39], line 30\u001b[0m\n\u001b[0;32m     24\u001b[0m \u001b[38;5;28mprint\u001b[39m(global_sum)\n\u001b[0;32m     26\u001b[0m \u001b[38;5;66;03m# def reset_sum():\u001b[39;00m\n\u001b[0;32m     27\u001b[0m \u001b[38;5;66;03m#     global global_sum\u001b[39;00m\n\u001b[0;32m     28\u001b[0m \u001b[38;5;66;03m#     global_sum = 0\u001b[39;00m\n\u001b[0;32m     29\u001b[0m \u001b[38;5;66;03m# reset_sum()\u001b[39;00m\n\u001b[1;32m---> 30\u001b[0m \u001b[38;5;28mprint\u001b[39m(\u001b[43mlocal_sum\u001b[49m)\n",
      "\u001b[1;31mNameError\u001b[0m: name 'local_sum' is not defined"
     ]
    }
   ],
   "source": [
    "# Global and Local Summation \n",
    "# Objective: Create a program that calculates the sum of numbers using both global and local variables.\n",
    "\n",
    "# Tasks:\n",
    "# 1.Declare a global variable to store the sum of numbers.\n",
    "# 2.write a function that accepts a list of numbers as input and calculates the sum using a local variable.\n",
    "# 3.Update th global sum variable with the local sum calculated in the function\n",
    "# 4.print the global sum before and after calling the function\n",
    "\n",
    "# Challages:\n",
    "# 1.Implement another function that resets the global sum to zero and compares the results\n",
    "\n",
    "\n",
    "#Global and Local Summation\n",
    "global_sum = 0\n",
    "def calculate_sum(numbers):\n",
    "    local_sum = 0\n",
    "    for number in numbers:\n",
    "        local_sum += number\n",
    "    return local_sum\n",
    "\n",
    "numbers = [1, 2, 3, 4, 5]\n",
    "global_sum = calculate_sum(numbers)\n",
    "print(global_sum)\n",
    "\n",
    "def reset_sum():\n",
    "    global global_sum\n",
    "    global_sum = 0\n",
    "reset_sum()\n",
    "print(global_sum)\n",
    "\n",
    "\n",
    "\n",
    "\n"
   ]
  },
  {
   "cell_type": "code",
   "execution_count": 5,
   "metadata": {},
   "outputs": [
    {
     "name": "stdout",
     "output_type": "stream",
     "text": [
      "6\n"
     ]
    }
   ],
   "source": [
    "def find_string_length(strString):\n",
    "    return len(strString)\n",
    "\n",
    "str_len=find_string_length(\"tables\")\n",
    "print(str_len)"
   ]
  },
  {
   "cell_type": "code",
   "execution_count": 7,
   "metadata": {},
   "outputs": [
    {
     "name": "stdout",
     "output_type": "stream",
     "text": [
      "6\n"
     ]
    }
   ],
   "source": [
    "str='tables'\n",
    "str_len=lambda str: len(str)\n",
    "print(str_len(str))"
   ]
  },
  {
   "cell_type": "code",
   "execution_count": 11,
   "metadata": {},
   "outputs": [
    {
     "name": "stdout",
     "output_type": "stream",
     "text": [
      "5\n",
      "5\n"
     ]
    }
   ],
   "source": [
    "#Can accept multiple variables \n",
    "def addNumbers(iNum1,iNum2):\n",
    "    return iNum1+iNum2\n",
    "\n",
    "result=addNumbers(2,3)\n",
    "print(result)\n",
    "\n",
    "print((lambda a,b: a+b)(2,3))"
   ]
  },
  {
   "cell_type": "code",
   "execution_count": 15,
   "metadata": {},
   "outputs": [
    {
     "name": "stdout",
     "output_type": "stream",
     "text": [
      "27\n"
     ]
    }
   ],
   "source": [
    "#passing lambda function as an argument\n",
    "cube = lambda x: x**3\n",
    "def apply_function(f, x):\n",
    "    return f(x)\n",
    "\n",
    "print(apply_function(cube, 3))\n",
    "\n"
   ]
  },
  {
   "cell_type": "code",
   "execution_count": 18,
   "metadata": {},
   "outputs": [
    {
     "name": "stdout",
     "output_type": "stream",
     "text": [
      "[1, 8, 27, 64, 125, 216]\n"
     ]
    }
   ],
   "source": [
    "def my_lambda_function(func_name,lstNum):\n",
    "    lstresult = []\n",
    "    for item in lstNums:\n",
    "        new_item = func_name(item)\n",
    "        lstresult.append(new_item)\n",
    "    return lstresult\n",
    "\n",
    "lstNums = [1,2,3,4,5,6]\n",
    "lstcube = my_lambda_function(lambda x: x**3, lstNums)   \n",
    "print(lstcube)\n"
   ]
  },
  {
   "cell_type": "code",
   "execution_count": null,
   "metadata": {},
   "outputs": [],
   "source": []
  },
  {
   "cell_type": "code",
   "execution_count": 24,
   "metadata": {},
   "outputs": [
    {
     "name": "stdout",
     "output_type": "stream",
     "text": [
      "[6, 9, 12, 15]\n"
     ]
    }
   ],
   "source": [
    "#assignment 1: Multiply List Elements by a Constant \n",
    "# use a lambda funciton to multiply each element in a list by a constant value. \n",
    "# Given a list [2,3,4,5]. Multiply each element by 3 \n",
    "# Expected output: [6,9,12,15]\n",
    "\n",
    "def my_lambda_function(func_name,lstNums):\n",
    "    lstresult = []\n",
    "    for item in lstNums:\n",
    "        new_item = func_name(item)\n",
    "        lstresult.append(new_item)\n",
    "    return lstresult\n",
    "\n",
    "lstNums = [2,3,4,5]\n",
    "lstcube = my_lambda_function(lambda x: x*3, lstNums)\n",
    "print(lstcube)\n",
    "\n"
   ]
  },
  {
   "cell_type": "code",
   "execution_count": 29,
   "metadata": {},
   "outputs": [
    {
     "name": "stdout",
     "output_type": "stream",
     "text": [
      "[18, 9, 12, 15]\n"
     ]
    }
   ],
   "source": [
    "#Assignment 2: Multipy List of Elements by a Constant \n",
    "# Use a lambda funciton to multiply each element in a list by a constant balue\n",
    "# Given a list [2,3,4,5]. Multiply each element by 3\n",
    "# Expected output: [6,9,12,15]\n",
    "# using map function\n",
    "\n",
    "lstNums = [6,3,4,5]\n",
    "lstcube = list(map(lambda x: x*3, lstNums))\n",
    "print(lstcube)\n"
   ]
  },
  {
   "cell_type": "code",
   "execution_count": 36,
   "metadata": {},
   "outputs": [
    {
     "name": "stdout",
     "output_type": "stream",
     "text": [
      "['Positive', 'Negative', 'Zero', 'Positive', 'Negative', 'Positive', 'Negative']\n"
     ]
    }
   ],
   "source": [
    "#Conditional lambda funciton\n",
    "# Objective: Create a program that uses a lambda function to check if a number is positive negative, or zero \n",
    "\n",
    "# Tasks \n",
    "# 1.Input: List of integers,E.g. Numbers = [10,-5,0,7,-3,4,-2]\n",
    "# 2.Logic: Use the map() function with a lambda function to return \"Positive\", \"Negative\", or \"Zero\" based on the value of each integers\n",
    "# 3.Output: Display the resulting list of strings \n",
    "# E.g.['Positive','Negative','Zero','Positive','Negative','Positive','Negative']\n",
    "\n",
    "numbers = [10, -5, 0, 7, -3, 4, -2] \n",
    "result = list(map(lambda x: \"Positive\" if x > 0 else \"Negative\" if x < 0 else \"Zero\", numbers))\n",
    "print(result)"
   ]
  },
  {
   "cell_type": "code",
   "execution_count": 37,
   "metadata": {},
   "outputs": [
    {
     "name": "stdout",
     "output_type": "stream",
     "text": [
      "[1, 2, 3, 4, 5]\n",
      "[2, 3, 4, 5]\n",
      "[3, 4, 5]\n",
      "[4, 5]\n",
      "[5]\n",
      "[]\n",
      "The sum is:  15\n"
     ]
    }
   ],
   "source": [
    "#recursion\n",
    "def recursive_sum(numbers):\n",
    "    print(numbers)\n",
    "\n",
    "    if not numbers:\n",
    "        return 0\n",
    "    else:\n",
    "        return numbers[0] + recursive_sum(numbers[1:])\n",
    "    \n",
    "numbers = [1, 2, 3, 4, 5]\n",
    "result = recursive_sum(numbers)\n",
    "print(\"The sum is: \", result)"
   ]
  },
  {
   "cell_type": "code",
   "execution_count": 1,
   "metadata": {},
   "outputs": [
    {
     "name": "stdout",
     "output_type": "stream",
     "text": [
      "hello\n"
     ]
    }
   ],
   "source": [
    "print(\"hello\")"
   ]
  },
  {
   "cell_type": "markdown",
   "metadata": {},
   "source": [
    "# 07/10/2024"
   ]
  },
  {
   "cell_type": "markdown",
   "metadata": {},
   "source": [
    "### File Handling"
   ]
  },
  {
   "cell_type": "code",
   "execution_count": 6,
   "metadata": {},
   "outputs": [
    {
     "name": "stdout",
     "output_type": "stream",
     "text": [
      "Data written to example.txt successfully\n"
     ]
    }
   ],
   "source": [
    "# function to write a data in a text file\n",
    "def write_data_to_file(filename, data):\n",
    "    with open(filename, \"w\") as file:\n",
    "        file.write(data)\n",
    "    print(f\"Data written to {filename} successfully\")\n",
    "\n",
    "filename=\"example.txt\"\n",
    "\n",
    "write_data_to_file(filename, \"Hello, World!\\nThis is the first line of the file.\\n\")"
   ]
  },
  {
   "cell_type": "code",
   "execution_count": 9,
   "metadata": {},
   "outputs": [
    {
     "name": "stdout",
     "output_type": "stream",
     "text": [
      "contents of example.txt:\n",
      "Hello, World!\n",
      "This is the first line of the file.\n",
      "\n"
     ]
    }
   ],
   "source": [
    "# Function to read data from a text file\n",
    "def read_data_from_file(filename):\n",
    "    try: \n",
    "        with open(filename, \"r\") as file:\n",
    "            content = file.read()\n",
    "            print(f\"contents of {filename}:\\n{content}\")\n",
    "    except FileNotFoundError:\n",
    "        print(f\"File {filename} not found\")\n",
    "            \n",
    "filename=\"example.txt\"\n",
    "read_data_from_file(filename)\n"
   ]
  },
  {
   "cell_type": "code",
   "execution_count": 10,
   "metadata": {},
   "outputs": [
    {
     "name": "stdout",
     "output_type": "stream",
     "text": [
      "Data appended to example.txt successfully\n"
     ]
    }
   ],
   "source": [
    "# Function to append data to a text file\n",
    "def append_data_to_file(filename, data):\n",
    "    with open(filename, \"a\") as file:\n",
    "        file.write(data)\n",
    "    print(f\"Data appended to {filename} successfully\")\n",
    "\n",
    "filename=\"example.txt\"\n",
    "append_data_to_file(filename, \"This is the second line of the file.\\n\")\n"
   ]
  },
  {
   "cell_type": "code",
   "execution_count": 11,
   "metadata": {},
   "outputs": [
    {
     "name": "stdout",
     "output_type": "stream",
     "text": [
      "Data written to example.csv successfully\n",
      "Header: ['Name', 'Age', 'Grade']\n",
      "['Alice', '25', 'A']\n",
      "['Bob', '30', 'B']\n",
      "['Charlie', '35', 'C']\n"
     ]
    }
   ],
   "source": [
    "import csv\n",
    "\n",
    "# Data to write\n",
    "\n",
    "data = [\n",
    "    [\"Name\", \"Age\", \"Grade\"],\n",
    "    [\"Alice\", 25, \"A\"],\n",
    "    [\"Bob\", 30, \"B\"],\n",
    "    [\"Charlie\", 35, \"C\"]\n",
    "]\n",
    "# Open the file in write mode\n",
    "filename = \"example.csv\"\n",
    "\n",
    "\n",
    "with open(filename, mode=\"w\", newline=\"\", encoding=\"utf-8\") as file:\n",
    "    writer = csv.writer(file)\n",
    "    writer.writerows(data)\n",
    "print(f\"Data written to {filename} successfully\")\n",
    "\n",
    "\n",
    "#Open the file in read mode\n",
    "filename = \"example.csv\"\n",
    "with open(filename, mode=\"r\", newline=\"\", encoding=\"utf-8\") as file:\n",
    "    reader = csv.reader(file)\n",
    "    #read the header (first row)\n",
    "    header = next(reader)\n",
    "    print(f\"Header: {header}\")\n",
    "\n",
    "    #read the remaining rows\n",
    "    for row in reader:\n",
    "        print(row)\n"
   ]
  },
  {
   "cell_type": "code",
   "execution_count": 7,
   "metadata": {},
   "outputs": [
    {
     "name": "stdout",
     "output_type": "stream",
     "text": [
      "Hello, World!\n",
      "This is the first line of the file.\n",
      "This is the second line of the file.\n",
      "\n"
     ]
    }
   ],
   "source": [
    "#assignment 1 \n",
    "# Read a.txt file and print contents on console\n",
    "filename = \"example.txt\"\n",
    "with open(filename, \"r\") as file:\n",
    "    content = file.read()\n",
    "    print(content)\n"
   ]
  },
  {
   "cell_type": "code",
   "execution_count": 12,
   "metadata": {},
   "outputs": [
    {
     "name": "stdout",
     "output_type": "stream",
     "text": [
      "['Name', 'Age', 'Grade']\n",
      "['Alice', '25', 'A']\n",
      "['Bob', '30', 'B']\n",
      "['Charlie', '35', 'C']\n"
     ]
    }
   ],
   "source": [
    "#assignment 2\n",
    "# Write a program to read a.csv file and print the contents on the console\n",
    "filename = \"example.csv\"\n",
    "with open(filename, \"r\", newline=\"\", encoding=\"utf-8\") as file:\n",
    "    reader = csv.reader(file)\n",
    "    for row in reader:\n",
    "        print(row)\n",
    "\n"
   ]
  },
  {
   "cell_type": "code",
   "execution_count": 2,
   "metadata": {},
   "outputs": [
    {
     "name": "stdout",
     "output_type": "stream",
     "text": [
      "Data written to students.csv successfully\n"
     ]
    }
   ],
   "source": [
    "import csv\n",
    "# Assignment 3\n",
    "#Accept Name,Age,Marks of a student form a user and store in a csv file.\n",
    "\n",
    "filename = \"students.csv\"\n",
    "data = []\n",
    "data.append([\"Name\", \"Age\", \"Marks\"])\n",
    "while True:\n",
    "    name = input(\"Enter the name of the student: \")\n",
    "    age = int(input(\"Enter the age of the student: \"))\n",
    "    marks = float(input(\"Enter the marks of the student: \"))\n",
    "    data.append([name, age, marks])\n",
    "    choice = input(\"Do you want to add another student? (y/n): \")\n",
    "    if choice.lower() != \"y\":\n",
    "        break\n",
    "with open(filename, mode=\"w\", newline=\"\", encoding=\"utf-8\") as file:\n",
    "    writer = csv.writer(file)\n",
    "    writer.writerows(data)\n",
    "print(f\"Data written to {filename} successfully\")\n"
   ]
  },
  {
   "cell_type": "code",
   "execution_count": 9,
   "metadata": {},
   "outputs": [],
   "source": [
    "def write_data_to_file(filename: str, my_dict: dict):\n",
    "    with open(filename, \"a\") as file:\n",
    "        for key, value in my_dict.items():\n",
    "            file.write(f\"{key}: {value}\\n\")\n",
    "    print(f\"Data written to {filename} successfully\")"
   ]
  },
  {
   "cell_type": "code",
   "execution_count": 11,
   "metadata": {},
   "outputs": [
    {
     "name": "stdout",
     "output_type": "stream",
     "text": [
      "Data written to students.txt successfully\n"
     ]
    }
   ],
   "source": [
    "#Assignment 4: Store dictionary contents to a file \n",
    "# Accept student details form the user (Name, Roll NO, Science, Maths, English marks), store in a dictinoary. \n",
    "# Calculate average and add to dictionary.\n",
    "# Open file in append mode. \n",
    "# Add dictionary contents to the file.\n",
    "\n",
    "filename = \"students.txt\"\n",
    "student = {}\n",
    "student[\"Name\"] = input(\"Enter the name of the student: \")\n",
    "student[\"Roll No\"] = input(\"Enter the roll number of the student: \")\n",
    "student[\"Science\"] = float(input(\"Enter the science marks of the student: \"))\n",
    "student[\"Maths\"] = float(input(\"Enter the maths marks of the student: \"))\n",
    "student[\"English\"] = float(input(\"Enter the english marks of the student: \"))\n",
    "student[\"Average\"] = round((student[\"Science\"] + student[\"Maths\"] + student[\"English\"]) / 3, 2)\n",
    "#student[\"Average\"] = (student[\"Science\"] + student[\"Maths\"] + student[\"English\"]) / 3\n",
    "\n",
    "def write_data_to_file(filename: str, my_dict: dict):\n",
    "    with open(filename, \"a\") as file:\n",
    "        for key, value in my_dict.items():\n",
    "            file.write(f\"{key}: {value}\\n\")\n",
    "    print(f\"Data written to {filename} successfully\")\n",
    "\n",
    "write_data_to_file(filename, student)\n",
    "\n",
    "\n"
   ]
  },
  {
   "cell_type": "code",
   "execution_count": 19,
   "metadata": {},
   "outputs": [
    {
     "ename": "AttributeError",
     "evalue": "'str' object has no attribute 'keys'",
     "output_type": "error",
     "traceback": [
      "\u001b[0;31m---------------------------------------------------------------------------\u001b[0m",
      "\u001b[0;31mAttributeError\u001b[0m                            Traceback (most recent call last)",
      "Cell \u001b[0;32mIn[19], line 12\u001b[0m\n\u001b[1;32m      9\u001b[0m     writer\u001b[38;5;241m.\u001b[39mwriteheader()\n\u001b[1;32m     10\u001b[0m     \u001b[38;5;66;03m# Write the single row of data\u001b[39;00m\n\u001b[0;32m---> 12\u001b[0m     \u001b[43mwriter\u001b[49m\u001b[38;5;241;43m.\u001b[39;49m\u001b[43mwriterows\u001b[49m\u001b[43m(\u001b[49m\u001b[43mdata\u001b[49m\u001b[43m)\u001b[49m\n\u001b[1;32m     13\u001b[0m \u001b[38;5;28mprint\u001b[39m(\u001b[38;5;124mf\u001b[39m\u001b[38;5;124m\"\u001b[39m\u001b[38;5;124mData written to \u001b[39m\u001b[38;5;132;01m{\u001b[39;00mfilename\u001b[38;5;132;01m}\u001b[39;00m\u001b[38;5;124m successfully\u001b[39m\u001b[38;5;124m\"\u001b[39m)\n",
      "File \u001b[0;32m/usr/local/python/3.12.1/lib/python3.12/csv.py:167\u001b[0m, in \u001b[0;36mDictWriter.writerows\u001b[0;34m(self, rowdicts)\u001b[0m\n\u001b[1;32m    166\u001b[0m \u001b[38;5;28;01mdef\u001b[39;00m \u001b[38;5;21mwriterows\u001b[39m(\u001b[38;5;28mself\u001b[39m, rowdicts):\n\u001b[0;32m--> 167\u001b[0m     \u001b[38;5;28;01mreturn\u001b[39;00m \u001b[38;5;28;43mself\u001b[39;49m\u001b[38;5;241;43m.\u001b[39;49m\u001b[43mwriter\u001b[49m\u001b[38;5;241;43m.\u001b[39;49m\u001b[43mwriterows\u001b[49m\u001b[43m(\u001b[49m\u001b[38;5;28;43mmap\u001b[39;49m\u001b[43m(\u001b[49m\u001b[38;5;28;43mself\u001b[39;49m\u001b[38;5;241;43m.\u001b[39;49m\u001b[43m_dict_to_list\u001b[49m\u001b[43m,\u001b[49m\u001b[43m \u001b[49m\u001b[43mrowdicts\u001b[49m\u001b[43m)\u001b[49m\u001b[43m)\u001b[49m\n",
      "File \u001b[0;32m/usr/local/python/3.12.1/lib/python3.12/csv.py:157\u001b[0m, in \u001b[0;36mDictWriter._dict_to_list\u001b[0;34m(self, rowdict)\u001b[0m\n\u001b[1;32m    155\u001b[0m \u001b[38;5;28;01mdef\u001b[39;00m \u001b[38;5;21m_dict_to_list\u001b[39m(\u001b[38;5;28mself\u001b[39m, rowdict):\n\u001b[1;32m    156\u001b[0m     \u001b[38;5;28;01mif\u001b[39;00m \u001b[38;5;28mself\u001b[39m\u001b[38;5;241m.\u001b[39mextrasaction \u001b[38;5;241m==\u001b[39m \u001b[38;5;124m\"\u001b[39m\u001b[38;5;124mraise\u001b[39m\u001b[38;5;124m\"\u001b[39m:\n\u001b[0;32m--> 157\u001b[0m         wrong_fields \u001b[38;5;241m=\u001b[39m \u001b[43mrowdict\u001b[49m\u001b[38;5;241;43m.\u001b[39;49m\u001b[43mkeys\u001b[49m() \u001b[38;5;241m-\u001b[39m \u001b[38;5;28mself\u001b[39m\u001b[38;5;241m.\u001b[39mfieldnames\n\u001b[1;32m    158\u001b[0m         \u001b[38;5;28;01mif\u001b[39;00m wrong_fields:\n\u001b[1;32m    159\u001b[0m             \u001b[38;5;28;01mraise\u001b[39;00m \u001b[38;5;167;01mValueError\u001b[39;00m(\u001b[38;5;124m\"\u001b[39m\u001b[38;5;124mdict contains fields not in fieldnames: \u001b[39m\u001b[38;5;124m\"\u001b[39m\n\u001b[1;32m    160\u001b[0m                              \u001b[38;5;241m+\u001b[39m \u001b[38;5;124m\"\u001b[39m\u001b[38;5;124m, \u001b[39m\u001b[38;5;124m\"\u001b[39m\u001b[38;5;241m.\u001b[39mjoin([\u001b[38;5;28mrepr\u001b[39m(x) \u001b[38;5;28;01mfor\u001b[39;00m x \u001b[38;5;129;01min\u001b[39;00m wrong_fields]))\n",
      "\u001b[0;31mAttributeError\u001b[0m: 'str' object has no attribute 'keys'"
     ]
    }
   ],
   "source": [
    "data = {'Name': 'Alice', 'Age': 25, 'City': 'New York'}\n",
    "filename = \"students.csv\"\n",
    "with open(filename, mode=\"w\", newline=\"\") as file:\n",
    "    # Get the keys of the dictionary as fieldnames for the CSV header\n",
    "    fieldnames = data.keys()\n",
    "    # Create a DictWriter object, passing the fieldnames as the fieldnames\n",
    "    writer = csv.DictWriter(file, fieldnames=fieldnames)\n",
    "    # Write the header \n",
    "    writer.writeheader()\n",
    "    # Write the single row of data\n",
    "    \n",
    "    writer.writerows(data)\n",
    "print(f\"Data written to {filename} successfully\")"
   ]
  },
  {
   "cell_type": "code",
   "execution_count": 17,
   "metadata": {},
   "outputs": [
    {
     "name": "stdout",
     "output_type": "stream",
     "text": [
      "1. Add a new student\n",
      "2. Save and exit\n",
      "1. Add a new student\n",
      "2. Save and exit\n",
      "Data written to students.csv successfully\n"
     ]
    }
   ],
   "source": [
    "#Assignment 4: Store dictionary contents to a csv\n",
    "# Accept student details form the user (Name, Roll NO, Science, Maths, English marks), store in a dictionary in dictionary.\n",
    "# Calculate average and add to dictionary.\n",
    "# Open file in append mode. \n",
    "# Add  dictionaries to file.\n",
    "filename = \"students.csv\"\n",
    "students = []\n",
    "\n",
    "def add_student():\n",
    "    student = {}\n",
    "    student[\"Name\"] = input(\"Enter the name of the student: \")\n",
    "    student[\"Roll No\"] = input(\"Enter the roll number of the student: \")\n",
    "    student[\"Science\"] = float(input(\"Enter the science marks of the student: \"))\n",
    "    student[\"Maths\"] = float(input(\"Enter the maths marks of the student: \"))\n",
    "    student[\"English\"] = float(input(\"Enter the english marks of the student: \"))\n",
    "    student[\"Average\"] = round((student[\"Science\"] + student[\"Maths\"] + student[\"English\"]) / 3, 2)\n",
    "    students.append(student)\n",
    "\n",
    "def write_data_to_file(filename: str, my_list: list):\n",
    "    with open(filename, mode=\"a\", newline=\"\") as file:\n",
    "        fieldnames = my_list[0].keys()\n",
    "        writer = csv.DictWriter(file, fieldnames=fieldnames)\n",
    "        writer.writeheader()\n",
    "        writer.writerows(my_list)\n",
    "    print(f\"Data written to {filename} successfully\")\n",
    "\n",
    "while True:\n",
    "    print(\"1. Add a new student\")\n",
    "    print(\"2. Save and exit\")\n",
    "    choice = input(\"Enter your choice: \")\n",
    "    if choice == \"1\":\n",
    "        add_student()\n",
    "    elif choice == \"2\":\n",
    "        write_data_to_file(filename, students)\n",
    "        break\n",
    "    else:\n",
    "        print(\"Invalid choice. Please try again.\")\n",
    "\n",
    "\n",
    "        \n",
    "\n"
   ]
  },
  {
   "cell_type": "code",
   "execution_count": 6,
   "metadata": {},
   "outputs": [
    {
     "name": "stdout",
     "output_type": "stream",
     "text": [
      "how many numbers do you want to enter: \n",
      "Enter number: \n",
      "Enter number: \n",
      "Enter number: \n",
      "Enter number: \n",
      "Enter number: \n",
      "Enter number: \n",
      "Data written to numbers.txt successfully\n",
      "Numbers read from numbers.txt: [1, 2, 3, 4, 5, 6]\n",
      "Sum of the numbers: 21\n"
     ]
    }
   ],
   "source": [
    "#Assignment 1: Write and read a list of numbers \n",
    "# create a list of random numbers \n",
    "# Write the list to a file numbers.txt with each number on a new line.\n",
    "# Read the file and store the numbers in a new list.\n",
    "# Calculate and display the sum of the numbers.\n",
    "\n",
    "list_numbers = []\n",
    "print(\"how many numbers do you want to enter: \")\n",
    "n = int(input())\n",
    "for i in range(0, n):\n",
    "    print(\"Enter number: \")\n",
    "    num = int(input())\n",
    "    list_numbers.append(num)\n",
    "    \n",
    "#list_numbers = [1,2,3,4,5,6,7,8,9,10]\n",
    "filename = \"numbers.txt\"\n",
    "with open(filename, \"w\") as file:\n",
    "    for number in list_numbers:\n",
    "        file.write(f\"{number}\\n\")\n",
    "print(f\"Data written to {filename} successfully\")\n",
    "\n",
    "with open(filename, \"r\") as file:\n",
    "    numbers = [int(line.strip()) for line in file]\n",
    "print(f\"Numbers read from {filename}: {numbers}\")\n",
    "\n",
    "sum = 0\n",
    "for number in numbers:\n",
    "    sum += number\n",
    "print(f\"Sum of the numbers: {sum}\")\n",
    "\n"
   ]
  },
  {
   "cell_type": "code",
   "execution_count": 16,
   "metadata": {},
   "outputs": [
    {
     "name": "stdout",
     "output_type": "stream",
     "text": [
      "Data written to words.csv successfully\n",
      "['Red', 'Blue', 'Green', 'Yellow', 'Orange', 'Purple']\n",
      "Data written to words.csv successfully\n",
      "['Blue', 'Green', 'Orange', 'Purple', 'Red', 'Yellow']\n"
     ]
    }
   ],
   "source": [
    "# Assignment 2: Sorting Data from a file \n",
    "# Create a csv file which holds a list of words. \n",
    "# Read data form thr file into a list \n",
    "# sort the list in ascending order \n",
    "# write the sorted data back to the file, also print on console\n",
    "\n",
    "import csv\n",
    "\n",
    "words = [\"Red\", \"Blue\", \"Green\", \"Yellow\", \"Orange\", \"Purple\"]\n",
    "filename = \"words.csv\"\n",
    "with open(filename, \"w\", newline=\"\") as file:\n",
    "    writer = csv.writer(file)\n",
    "    writer.writerow(words)\n",
    "print(f\"Data written to {filename} successfully\")\n",
    "\n",
    "print(words)\n",
    "\n",
    "with open(filename, \"r\", newline=\"\") as file:\n",
    "    reader = csv.reader(file)\n",
    "    for row in reader:\n",
    "        words = row\n",
    "words.sort()\n",
    "\n",
    "with open(filename, \"w\", newline=\"\") as file:\n",
    "    writer = csv.writer(file)\n",
    "    writer.writerow(words)\n",
    "print(f\"Data written to {filename} successfully\")\n",
    "\n",
    "print(words)\n",
    "\n"
   ]
  },
  {
   "cell_type": "code",
   "execution_count": 17,
   "metadata": {},
   "outputs": [
    {
     "name": "stdout",
     "output_type": "stream",
     "text": [
      "Cannot divide by zero\n"
     ]
    }
   ],
   "source": [
    "#Exception Handling\n",
    "\n",
    "#try block\n",
    "try:\n",
    "    #code that may raise an exception\n",
    "    x = 1 / 0\n",
    "except ZeroDivisionError:\n",
    "    #code to handle the exception\n",
    "    print(\"Cannot divide by zero\")\n",
    "    "
   ]
  },
  {
   "cell_type": "code",
   "execution_count": 19,
   "metadata": {},
   "outputs": [
    {
     "name": "stdout",
     "output_type": "stream",
     "text": [
      "Cannot divide by zero\n"
     ]
    }
   ],
   "source": [
    "#try block with multiple exceptions\n",
    "try:\n",
    "    #code that may raise an exception\n",
    "    x = 1 / 0\n",
    "except ZeroDivisionError:\n",
    "    #code to handle the exception\n",
    "    print(\"Cannot divide by zero\")\n",
    "except:\n",
    "    #code to handle any other exception\n",
    "    print(\"An error occurred\")\n",
    "    "
   ]
  },
  {
   "cell_type": "code",
   "execution_count": 21,
   "metadata": {},
   "outputs": [
    {
     "name": "stdout",
     "output_type": "stream",
     "text": [
      "Demo 1: Basic try-except block\n",
      "Caught a ValueError: Invalid literal for int()\n"
     ]
    }
   ],
   "source": [
    "print(\"Demo 1: Basic try-except block\")\n",
    "try:\n",
    "    x = int(\"not a number\")\n",
    "except ValueError:\n",
    "    print(\"Caught a ValueError: Invalid literal for int()\")"
   ]
  },
  {
   "cell_type": "code",
   "execution_count": 22,
   "metadata": {},
   "outputs": [
    {
     "name": "stdout",
     "output_type": "stream",
     "text": [
      "\n",
      "Demo 2: Multiple except blocks\n",
      "Caught a ZeroDivisionError\n"
     ]
    }
   ],
   "source": [
    "#Multiple except blocks (handling different exceptions separately)\n",
    "print(\"\\nDemo 2: Multiple except blocks\")\n",
    "try:\n",
    "    y=10 / 0    \n",
    "except ValueError:\n",
    "    print(\"Caught a ValueError\")\n",
    "except ZeroDivisionError:\n",
    "    print(\"Caught a ZeroDivisionError\")\n",
    "except:\n",
    "    print(\"Caught an exception\")\n",
    "    "
   ]
  },
  {
   "cell_type": "code",
   "execution_count": 25,
   "metadata": {},
   "outputs": [
    {
     "name": "stdout",
     "output_type": "stream",
     "text": [
      "\n",
      "Demo 2: Multiple except blocks\n",
      "Caught a ZeroDivisionError\n"
     ]
    }
   ],
   "source": [
    "print(\"\\nDemo 2: Multiple except blocks\")\n",
    "try:\n",
    "    x=int(input(\"Enter a number: \"))\n",
    "    y=x / 0    \n",
    "    print(y)\n",
    "except ValueError:\n",
    "    print(\"Caught a ValueError\")\n",
    "except ZeroDivisionError:\n",
    "    print(\"Caught a ZeroDivisionError\")\n",
    "    "
   ]
  },
  {
   "cell_type": "code",
   "execution_count": 27,
   "metadata": {},
   "outputs": [
    {
     "name": "stdout",
     "output_type": "stream",
     "text": [
      "Demo 3: Try-except-finally block\n",
      "This block will always execute, regardless of an exception occurred \n"
     ]
    }
   ],
   "source": [
    "print(\"Demo 3: Try-except-finally block\")\n",
    "try:\n",
    "    z=10 / 5\n",
    "except ZeroDivisionError:\n",
    "    print(\"Caught a ZeroDivisionError\")\n",
    "finally:\n",
    "    print(\"This block will always execute, regardless of an exception occurred \")"
   ]
  },
  {
   "cell_type": "code",
   "execution_count": 29,
   "metadata": {},
   "outputs": [
    {
     "name": "stdout",
     "output_type": "stream",
     "text": [
      "Demo 4: Try-except-else-finally  block\n",
      "Caught a ZeroDivisionError\n",
      "This block will always execute, regardless of an exception occurred \n"
     ]
    }
   ],
   "source": [
    "print(\"Demo 4: Try-except-else-finally  block\")\n",
    "try:\n",
    "    result=10 / 0\n",
    "except ZeroDivisionError:\n",
    "    print(\"Caught a ZeroDivisionError\")\n",
    "else:\n",
    "    print(f\"Division Successful: result is {result}\")\n",
    "finally:\n",
    "    print(\"This block will always execute, regardless of an exception occurred \")"
   ]
  },
  {
   "cell_type": "code",
   "execution_count": 30,
   "metadata": {},
   "outputs": [
    {
     "name": "stdout",
     "output_type": "stream",
     "text": [
      "Demo 5: Raising an exception\n",
      "Raised and caught an exception: Age cannot be negative\n"
     ]
    }
   ],
   "source": [
    "# Raising an exception using the raise statement\n",
    "\n",
    "print(\"Demo 5: Raising an exception\")\n",
    "try:\n",
    "    age = -1\n",
    "    if age < 0:\n",
    "        raise ValueError(\"Age cannot be negative\")\n",
    "except ValueError as e:\n",
    "    print(f\"Raised and caught an exception: {e}\")"
   ]
  },
  {
   "cell_type": "code",
   "execution_count": 31,
   "metadata": {},
   "outputs": [
    {
     "name": "stdout",
     "output_type": "stream",
     "text": [
      "Demo 5: Raising an exception\n",
      "Raised and caught an exception: Age cannot be negative\n"
     ]
    }
   ],
   "source": [
    "# Raising an exception using the raise statement\n",
    "\n",
    "print(\"Demo 5: Raising an exception\")\n",
    "try:\n",
    "    age = -1\n",
    "    amount = -1000\n",
    "    if age < 0:\n",
    "        raise ValueError(\"Age cannot be negative\")\n",
    "    if amount < 0:\n",
    "        raise ValueError(\"Amount cannot be negative\")\n",
    "    \n",
    "except ValueError as e:\n",
    "    print(f\"Raised and caught an exception: {e}\")"
   ]
  },
  {
   "cell_type": "code",
   "execution_count": 38,
   "metadata": {},
   "outputs": [
    {
     "name": "stdout",
     "output_type": "stream",
     "text": [
      "Entered integer: 55\n",
      "----------------\n",
      "Element at index 2: 3\n",
      "Operation completed\n",
      "\n",
      "Index out of bounds\n",
      "Operation completed\n",
      "\n",
      "Index must be an integer\n",
      "Operation completed\n",
      "----------------\n",
      "Cannot divide by zero\n",
      "\n",
      "Result of division: 5.0\n"
     ]
    }
   ],
   "source": [
    "# #Assignment 4: Define the functions which handle exceptions \n",
    "# Function 1: get_integer_input-Accepts an integer and prints it \n",
    "# Exception to handle:\n",
    "#     ValueError exceptions \n",
    "\n",
    " \n",
    "\n",
    "\n",
    "\n",
    "def get_integer_input():\n",
    "    try:\n",
    "        num = int(input(\"Enter an integer: \"))\n",
    "        print(f\"Entered integer: {num}\")\n",
    "    except ValueError:\n",
    "        print(\"Invalid input. Please enter an integer\")\n",
    "\n",
    "# Function 2: get_element_from_list-Attempts to return element at specified index from list. \n",
    "# Exception to handle:\n",
    "#     IndexError : if the index is out of bounds\n",
    "#     TypeError: if the index is not an integer\n",
    "#     Use else : Print the element if no exceptions occur \n",
    "#     finally blocks: to indicate operation completion\n",
    "\n",
    "def get_element_from_list(lst, index):\n",
    "    try:\n",
    "        element = lst[index]\n",
    "    except IndexError:\n",
    "        print(\"Index out of bounds\")\n",
    "    except TypeError:\n",
    "        print(\"Index must be an integer\")\n",
    "    else:\n",
    "        print(f\"Element at index {index}: {element}\")\n",
    "    finally:\n",
    "        print(\"Operation completed\")\n",
    "\n",
    "\n",
    "\n",
    "# Function 3: divide_numbers(a,b)-Raises ZeroDivisionError if b is zero.\n",
    "#     Exception to handle: \n",
    "#     ZeroDivisionError-Custom message in body\n",
    "\n",
    "def divide_numbers(a, b):\n",
    "    try:\n",
    "        if b == 0:\n",
    "            raise ZeroDivisionError(\"Cannot divide by zero\")\n",
    "        result = a / b\n",
    "        print(f\"Result of division: {result}\")\n",
    "    except ZeroDivisionError as e:\n",
    "        print(e)\n",
    "\n",
    "get_integer_input()\n",
    "print(\"----------------\")\n",
    "list = [1, 2, 3, 4, 5]\n",
    "get_element_from_list(list, 2)\n",
    "print()\n",
    "get_element_from_list(list, 10)\n",
    "print()\n",
    "get_element_from_list(list, \"a\")\n",
    "print(\"----------------\")\n",
    "divide_numbers(10, 0)\n",
    "print()\n",
    "divide_numbers(10, 2)\n"
   ]
  },
  {
   "cell_type": "code",
   "execution_count": null,
   "metadata": {},
   "outputs": [],
   "source": []
  }
 ],
 "metadata": {
  "kernelspec": {
   "display_name": "Python 3",
   "language": "python",
   "name": "python3"
  },
  "language_info": {
   "codemirror_mode": {
    "name": "ipython",
    "version": 3
   },
   "file_extension": ".py",
   "mimetype": "text/x-python",
   "name": "python",
   "nbconvert_exporter": "python",
   "pygments_lexer": "ipython3",
   "version": "3.12.1"
  }
 },
 "nbformat": 4,
 "nbformat_minor": 2
}
