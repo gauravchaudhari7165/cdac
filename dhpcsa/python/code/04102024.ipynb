{
 "cells": [
  {
   "cell_type": "code",
   "execution_count": 1,
   "metadata": {},
   "outputs": [
    {
     "name": "stdout",
     "output_type": "stream",
     "text": [
      "hello world\n"
     ]
    }
   ],
   "source": [
    "print(\"hello world\")"
   ]
  },
  {
   "cell_type": "code",
   "execution_count": 3,
   "metadata": {},
   "outputs": [
    {
     "name": "stdout",
     "output_type": "stream",
     "text": [
      "Addition:  5\n",
      "Multiplication:  6\n"
     ]
    }
   ],
   "source": [
    "def processNumbers(num1,num2):\n",
    "    resultAdd = num1 + num2\n",
    "    resultMult = num1 * num2\n",
    "    return resultAdd, resultMult\n",
    "\n",
    "num1 = int(input(\"Enter a number 1: \"))\n",
    "num2 = int(input(\"Enter a number 2: \"))\n",
    "resultAdd, resultMult = processNumbers(num1,num2)\n",
    "print(\"Addition: \", resultAdd)\n",
    "print(\"Multiplication: \", resultMult)\n",
    "\n"
   ]
  },
  {
   "cell_type": "code",
   "execution_count": 12,
   "metadata": {},
   "outputs": [
    {
     "name": "stdout",
     "output_type": "stream",
     "text": [
      "10\n"
     ]
    }
   ],
   "source": [
    "#assignment 1: sum of elements in a list \n",
    "#write a functio sum_of_list(lst) that takes a list of numbers as input and returns the sum of the elements in the list\n",
    "lst = input(\"Enter a list of numbers separated by space: \")\n",
    "lst = lst.split()\n",
    "for i in range(0, len(lst)):\n",
    "    lst[i] = int(lst[i])\n",
    "def sum_of_list(lst):\n",
    "    sum = 0\n",
    "    for i in lst:\n",
    "        sum += i\n",
    "    return sum\n",
    "print(sum_of_list(lst))\n",
    "\n"
   ]
  },
  {
   "cell_type": "code",
   "execution_count": 18,
   "metadata": {},
   "outputs": [
    {
     "name": "stdout",
     "output_type": "stream",
     "text": [
      "{1: 2, 2: 1, 3: 2}\n"
     ]
    }
   ],
   "source": [
    "#Assignment 2: Count the Frequency of Elements in a list \n",
    "#Write a function count_frequency(lst) that takes a list  as input and returns a dictionary where the keys are the elements of the list and the values are the number of times each element appears\n",
    "lst = input(\"Enter a list of numbers separated by space: \")\n",
    "lst = lst.split()\n",
    "for i in range(0, len(lst)):\n",
    "    lst[i] = int(lst[i])\n",
    "def count_frequency(lst):\n",
    "    frequency = {}\n",
    "    for i in lst:\n",
    "        if i in frequency:\n",
    "            frequency[i] += 1\n",
    "        else:\n",
    "            frequency[i] = 1\n",
    "    return frequency\n",
    "print(count_frequency(lst))\n"
   ]
  },
  {
   "cell_type": "code",
   "execution_count": 19,
   "metadata": {},
   "outputs": [
    {
     "name": "stdout",
     "output_type": "stream",
     "text": [
      "(6, 6)\n"
     ]
    }
   ],
   "source": [
    "#Assignment 3: Return Sum and Product fo Tuple Elements \n",
    "#Write a function sum_and_product(tpl) that takes a tuple of numbers as input and returns the tuple containing the sum and product of the elements.\n",
    "tpl = input(\"Enter a tuple of numbers separated by space: \")\n",
    "tpl = tpl.split()\n",
    "for i in range(0, len(tpl)):\n",
    "    tpl[i] = int(tpl[i])\n",
    "def sum_and_product(tpl):\n",
    "    sum = 0\n",
    "    product = 1\n",
    "    for i in tpl:\n",
    "        sum += i\n",
    "        product *= i\n",
    "    return sum, product\n",
    "print(sum_and_product(tpl))\n"
   ]
  },
  {
   "cell_type": "code",
   "execution_count": 26,
   "metadata": {},
   "outputs": [
    {
     "name": "stdout",
     "output_type": "stream",
     "text": [
      "(7, 10)\n",
      "<class 'tuple'>\n"
     ]
    }
   ],
   "source": [
    "#default arguments\n",
    "def processNumbers(num1,num2=5):\n",
    "    resultAdd = num1 + num2\n",
    "    resultMult = num1 * num2\n",
    "    return resultAdd, resultMult\n",
    "\n",
    "num1 = int(input(\"Enter a number 1: \"))\n",
    "num2 = int(input(\"Enter a number 2: \"))\n",
    "#resultAdd, resultMult = processNumbers(num1)\n",
    "result= processNumbers(num1)\n",
    "print(result)   \n",
    "print(type(result))\n",
    "\n",
    "\n"
   ]
  },
  {
   "cell_type": "code",
   "execution_count": 28,
   "metadata": {},
   "outputs": [
    {
     "name": "stdout",
     "output_type": "stream",
     "text": [
      "(4, 4)\n",
      "<class 'tuple'>\n"
     ]
    }
   ],
   "source": [
    "#default arguments\n",
    "def processNumbers(num1,num2=5):\n",
    "    resultAdd = num1 + num2\n",
    "    resultMult = num1 * num2\n",
    "    return resultAdd, resultMult\n",
    "\n",
    "num1 = int(input(\"Enter a number 1: \"))\n",
    "num2 = int(input(\"Enter a number 2: \"))\n",
    "# resultAdd, resultMult = processNumbers(num1,num2)\n",
    "# print(\"Addition: \", resultAdd)\n",
    "# print(\"Multiplication: \", resultMult)\n",
    "\n",
    "result= processNumbers(num1,num2)\n",
    "print(result)   \n",
    "print(type(result))\n"
   ]
  },
  {
   "cell_type": "code",
   "execution_count": 32,
   "metadata": {},
   "outputs": [
    {
     "name": "stdout",
     "output_type": "stream",
     "text": [
      "1\n",
      "2\n",
      "3\n",
      "\n",
      "1\n",
      "2\n",
      "3\n"
     ]
    }
   ],
   "source": [
    "#Keyword arguments / Name arguments\n",
    "def name_function(num1,num2,num3):\n",
    "    print(num1)\n",
    "    print(num2)\n",
    "    print(num3)\n",
    "\n",
    "name_function(1,2,3)\n",
    "print()\n",
    "name_function(num3=3,num1=1,num2=2)"
   ]
  },
  {
   "cell_type": "code",
   "execution_count": 34,
   "metadata": {},
   "outputs": [
    {
     "name": "stdout",
     "output_type": "stream",
     "text": [
      "Hello Alice!\n",
      "Hi Bob!\n",
      "Good Morning Alice!\n",
      "Hi Bob!\n",
      "Alice Hi!\n"
     ]
    }
   ],
   "source": [
    "#Default Arguments \n",
    "def greet(name, Message=\"Hello\"):\n",
    "    print(f\"{Message} {name}!\")\n",
    "\n",
    "#With default argument\n",
    "greet(\"Alice\")\n",
    "greet(\"Bob\", \"Hi\")\n",
    "greet(name=\"Alice\", Message=\"Good Morning\")\n",
    "greet(Message=\"Hi\", name=\"Bob\")\n",
    "greet(\"Hi\", \"Alice\")"
   ]
  },
  {
   "cell_type": "code",
   "execution_count": 60,
   "metadata": {},
   "outputs": [
    {
     "name": "stdout",
     "output_type": "stream",
     "text": [
      "4\n",
      "<class 'list'>\n",
      "[('Radha', 'Pink'), ('Ram', 'Black'), ('Vinay', 'Blue')]\n",
      "{'Radha': 'Pink', 'Ram': 'Black', 'Vinay': 'Blue'}\n"
     ]
    }
   ],
   "source": [
    "#assignment:\n",
    "# Given a dictionary, of students and their favourite colours:\n",
    "# people = {Vinay: \"Blue\", Ram: \"Yellow\", Vinod: \"Purple\", Radha: \"Pink\"}\n",
    "# Find out how many students are in the list\n",
    "# Change Ram's favourite colour \n",
    "# Remove \"Vinod\" and her favourite colour\n",
    "# Sort and print students and their favourite colours alphabetically by name_function\n",
    "#give output dictionary only\n",
    "\n",
    "people = {\"Vinay\": \"Blue\", \"Ram\": \"Yellow\", \"Vinod\": \"Purple\", \"Radha\": \"Pink\"}\n",
    "#studens are in a list\n",
    "print(len(people))\n",
    "people[\"Ram\"] = \"Black\"\n",
    "#del people[\"Vinod\"] \n",
    "people.pop(\"Vinod\")\n",
    "sorted_people = sorted(people.items())\n",
    "print(type(sorted_people))\n",
    "\n",
    "# for name, color in sorted_people:\n",
    "#     print(f\"{name}: {color}\")\n",
    "\n",
    "print(sorted_people)\n",
    "print(dict(sorted_people))\n"
   ]
  },
  {
   "cell_type": "code",
   "execution_count": 4,
   "metadata": {},
   "outputs": [
    {
     "name": "stdout",
     "output_type": "stream",
     "text": [
      "1. Add a new movie\n",
      "2. Vote for a movie\n",
      "3. Remove a movie\n",
      "4. Display voting results\n",
      "5. Find the top movie\n",
      "6. Exit\n"
     ]
    },
    {
     "ename": "ValueError",
     "evalue": "invalid literal for int() with base 10: ''",
     "output_type": "error",
     "traceback": [
      "\u001b[1;31m---------------------------------------------------------------------------\u001b[0m",
      "\u001b[1;31mValueError\u001b[0m                                Traceback (most recent call last)",
      "Cell \u001b[1;32mIn[4], line 50\u001b[0m\n\u001b[0;32m     47\u001b[0m         \u001b[38;5;28;01melse\u001b[39;00m:\n\u001b[0;32m     48\u001b[0m             \u001b[38;5;28mprint\u001b[39m(\u001b[38;5;124m\"\u001b[39m\u001b[38;5;124mInvalid choice\u001b[39m\u001b[38;5;124m\"\u001b[39m)\n\u001b[1;32m---> 50\u001b[0m \u001b[43mmanage_votes\u001b[49m\u001b[43m(\u001b[49m\u001b[43m)\u001b[49m\n",
      "Cell \u001b[1;32mIn[4], line 23\u001b[0m, in \u001b[0;36mmanage_votes\u001b[1;34m()\u001b[0m\n\u001b[0;32m     21\u001b[0m \u001b[38;5;28mprint\u001b[39m(\u001b[38;5;124m\"\u001b[39m\u001b[38;5;124m5. Find the top movie\u001b[39m\u001b[38;5;124m\"\u001b[39m)\n\u001b[0;32m     22\u001b[0m \u001b[38;5;28mprint\u001b[39m(\u001b[38;5;124m\"\u001b[39m\u001b[38;5;124m6. Exit\u001b[39m\u001b[38;5;124m\"\u001b[39m)\n\u001b[1;32m---> 23\u001b[0m choice \u001b[38;5;241m=\u001b[39m \u001b[38;5;28;43mint\u001b[39;49m\u001b[43m(\u001b[49m\u001b[38;5;28;43minput\u001b[39;49m\u001b[43m(\u001b[49m\u001b[38;5;124;43m\"\u001b[39;49m\u001b[38;5;124;43mEnter your choice: \u001b[39;49m\u001b[38;5;124;43m\"\u001b[39;49m\u001b[43m)\u001b[49m\u001b[43m)\u001b[49m\n\u001b[0;32m     24\u001b[0m \u001b[38;5;28;01mif\u001b[39;00m choice \u001b[38;5;241m==\u001b[39m \u001b[38;5;241m1\u001b[39m:\n\u001b[0;32m     25\u001b[0m     movie \u001b[38;5;241m=\u001b[39m \u001b[38;5;28minput\u001b[39m(\u001b[38;5;124m\"\u001b[39m\u001b[38;5;124mEnter the name of the movie: \u001b[39m\u001b[38;5;124m\"\u001b[39m)\n",
      "\u001b[1;31mValueError\u001b[0m: invalid literal for int() with base 10: ''"
     ]
    }
   ],
   "source": [
    "#voting system for favorite movies \n",
    "#implement a function manage_votes() that manages votes for a  list movies \n",
    "#Dictionary:\n",
    "#Key:movie name(string)\n",
    "#Value:Number of votes(integer)\n",
    "\n",
    "# Implement the following operations:\n",
    "# Add a new movie: Add a new movie to the voting list with 0 initial votes.\n",
    "# Vote for a movie: Increment the vote count for a specific movie \n",
    "# Remove a movie: Remove a movie from the voting list\n",
    "# Display voting results: Display the current vote count for each movie.\n",
    "# Find the top movie: Find and return the movie with the highest number of votes.\n",
    "\n",
    "def manage_votes():\n",
    "    votes = {}\n",
    "    while True:\n",
    "        print(\"1. Add a new movie\")\n",
    "        print(\"2. Vote for a movie\")\n",
    "        print(\"3. Remove a movie\")\n",
    "        print(\"4. Display voting results\")\n",
    "        print(\"5. Find the top movie\")\n",
    "        print(\"6. Exit\")\n",
    "        choice = int(input(\"Enter your choice: \"))\n",
    "        if choice == 1:\n",
    "            movie = input(\"Enter the name of the movie: \")\n",
    "            votes[movie] = 0\n",
    "        elif choice == 2:\n",
    "            movie = input(\"Enter the name of the movie: \")\n",
    "            if movie in votes:\n",
    "                votes[movie] += 1\n",
    "            else:\n",
    "                print(\"Movie not found\")\n",
    "        elif choice == 3:\n",
    "            movie = input(\"Enter the name of the movie: \")\n",
    "            if movie in votes:\n",
    "                del votes[movie]\n",
    "            else:\n",
    "                print(\"Movie not found\")\n",
    "        elif choice == 4:\n",
    "            for movie, vote in votes.items():\n",
    "                print(f\"{movie}: {vote}\")\n",
    "        elif choice == 5:\n",
    "            top_movie = max(votes, key=votes.get)\n",
    "            print(f\"Top movie: {top_movie}\")\n",
    "        elif choice == 6:\n",
    "            break\n",
    "        else:\n",
    "            print(\"Invalid choice\")\n",
    "\n",
    "manage_votes()"
   ]
  },
  {
   "cell_type": "code",
   "execution_count": 39,
   "metadata": {},
   "outputs": [
    {
     "name": "stdout",
     "output_type": "stream",
     "text": [
      "15\n"
     ]
    },
    {
     "ename": "NameError",
     "evalue": "name 'local_sum' is not defined",
     "output_type": "error",
     "traceback": [
      "\u001b[1;31m---------------------------------------------------------------------------\u001b[0m",
      "\u001b[1;31mNameError\u001b[0m                                 Traceback (most recent call last)",
      "Cell \u001b[1;32mIn[39], line 30\u001b[0m\n\u001b[0;32m     24\u001b[0m \u001b[38;5;28mprint\u001b[39m(global_sum)\n\u001b[0;32m     26\u001b[0m \u001b[38;5;66;03m# def reset_sum():\u001b[39;00m\n\u001b[0;32m     27\u001b[0m \u001b[38;5;66;03m#     global global_sum\u001b[39;00m\n\u001b[0;32m     28\u001b[0m \u001b[38;5;66;03m#     global_sum = 0\u001b[39;00m\n\u001b[0;32m     29\u001b[0m \u001b[38;5;66;03m# reset_sum()\u001b[39;00m\n\u001b[1;32m---> 30\u001b[0m \u001b[38;5;28mprint\u001b[39m(\u001b[43mlocal_sum\u001b[49m)\n",
      "\u001b[1;31mNameError\u001b[0m: name 'local_sum' is not defined"
     ]
    }
   ],
   "source": [
    "# Global and Local Summation \n",
    "# Objective: Create a program that calculates the sum of numbers using both global and local variables.\n",
    "\n",
    "# Tasks:\n",
    "# 1.Declare a global variable to store the sum of numbers.\n",
    "# 2.write a function that accepts a list of numbers as input and calculates the sum using a local variable.\n",
    "# 3.Update th global sum variable with the local sum calculated in the function\n",
    "# 4.print the global sum before and after calling the function\n",
    "\n",
    "# Challages:\n",
    "# 1.Implement another function that resets the global sum to zero and compares the results\n",
    "\n",
    "\n",
    "#Global and Local Summation\n",
    "global_sum = 0\n",
    "def calculate_sum(numbers):\n",
    "    local_sum = 0\n",
    "    for number in numbers:\n",
    "        local_sum += number\n",
    "    return local_sum\n",
    "\n",
    "numbers = [1, 2, 3, 4, 5]\n",
    "global_sum = calculate_sum(numbers)\n",
    "print(global_sum)\n",
    "\n",
    "def reset_sum():\n",
    "    global global_sum\n",
    "    global_sum = 0\n",
    "reset_sum()\n",
    "print(global_sum)\n",
    "\n",
    "\n",
    "\n",
    "\n"
   ]
  },
  {
   "cell_type": "code",
   "execution_count": 5,
   "metadata": {},
   "outputs": [
    {
     "name": "stdout",
     "output_type": "stream",
     "text": [
      "6\n"
     ]
    }
   ],
   "source": [
    "def find_string_length(strString):\n",
    "    return len(strString)\n",
    "\n",
    "str_len=find_string_length(\"tables\")\n",
    "print(str_len)"
   ]
  },
  {
   "cell_type": "code",
   "execution_count": 7,
   "metadata": {},
   "outputs": [
    {
     "name": "stdout",
     "output_type": "stream",
     "text": [
      "6\n"
     ]
    }
   ],
   "source": [
    "str='tables'\n",
    "str_len=lambda str: len(str)\n",
    "print(str_len(str))"
   ]
  },
  {
   "cell_type": "code",
   "execution_count": 11,
   "metadata": {},
   "outputs": [
    {
     "name": "stdout",
     "output_type": "stream",
     "text": [
      "5\n",
      "5\n"
     ]
    }
   ],
   "source": [
    "#Can accept multiple variables \n",
    "def addNumbers(iNum1,iNum2):\n",
    "    return iNum1+iNum2\n",
    "\n",
    "result=addNumbers(2,3)\n",
    "print(result)\n",
    "\n",
    "print((lambda a,b: a+b)(2,3))"
   ]
  },
  {
   "cell_type": "code",
   "execution_count": 15,
   "metadata": {},
   "outputs": [
    {
     "name": "stdout",
     "output_type": "stream",
     "text": [
      "27\n"
     ]
    }
   ],
   "source": [
    "#passing lambda function as an argument\n",
    "cube = lambda x: x**3\n",
    "def apply_function(f, x):\n",
    "    return f(x)\n",
    "\n",
    "print(apply_function(cube, 3))\n",
    "\n"
   ]
  },
  {
   "cell_type": "code",
   "execution_count": 18,
   "metadata": {},
   "outputs": [
    {
     "name": "stdout",
     "output_type": "stream",
     "text": [
      "[1, 8, 27, 64, 125, 216]\n"
     ]
    }
   ],
   "source": [
    "def my_lambda_function(func_name,lstNum):\n",
    "    lstresult = []\n",
    "    for item in lstNums:\n",
    "        new_item = func_name(item)\n",
    "        lstresult.append(new_item)\n",
    "    return lstresult\n",
    "\n",
    "lstNums = [1,2,3,4,5,6]\n",
    "lstcube = my_lambda_function(lambda x: x**3, lstNums)   \n",
    "print(lstcube)\n"
   ]
  },
  {
   "cell_type": "code",
   "execution_count": null,
   "metadata": {},
   "outputs": [],
   "source": []
  },
  {
   "cell_type": "code",
   "execution_count": 24,
   "metadata": {},
   "outputs": [
    {
     "name": "stdout",
     "output_type": "stream",
     "text": [
      "[6, 9, 12, 15]\n"
     ]
    }
   ],
   "source": [
    "#assignment 1: Multiply List Elements by a Constant \n",
    "# use a lambda funciton to multiply each element in a list by a constant value. \n",
    "# Given a list [2,3,4,5]. Multiply each element by 3 \n",
    "# Expected output: [6,9,12,15]\n",
    "\n",
    "def my_lambda_function(func_name,lstNums):\n",
    "    lstresult = []\n",
    "    for item in lstNums:\n",
    "        new_item = func_name(item)\n",
    "        lstresult.append(new_item)\n",
    "    return lstresult\n",
    "\n",
    "lstNums = [2,3,4,5]\n",
    "lstcube = my_lambda_function(lambda x: x*3, lstNums)\n",
    "print(lstcube)\n",
    "\n"
   ]
  },
  {
   "cell_type": "code",
   "execution_count": 29,
   "metadata": {},
   "outputs": [
    {
     "name": "stdout",
     "output_type": "stream",
     "text": [
      "[18, 9, 12, 15]\n"
     ]
    }
   ],
   "source": [
    "#Assignment 2: Multipy List of Elements by a Constant \n",
    "# Use a lambda funciton to multiply each element in a list by a constant balue\n",
    "# Given a list [2,3,4,5]. Multiply each element by 3\n",
    "# Expected output: [6,9,12,15]\n",
    "# using map function\n",
    "\n",
    "lstNums = [6,3,4,5]\n",
    "lstcube = list(map(lambda x: x*3, lstNums))\n",
    "print(lstcube)\n"
   ]
  },
  {
   "cell_type": "code",
   "execution_count": 36,
   "metadata": {},
   "outputs": [
    {
     "name": "stdout",
     "output_type": "stream",
     "text": [
      "['Positive', 'Negative', 'Zero', 'Positive', 'Negative', 'Positive', 'Negative']\n"
     ]
    }
   ],
   "source": [
    "#Conditional lambda funciton\n",
    "# Objective: Create a program that uses a lambda function to check if a number is positive negative, or zero \n",
    "\n",
    "# Tasks \n",
    "# 1.Input: List of integers,E.g. Numbers = [10,-5,0,7,-3,4,-2]\n",
    "# 2.Logic: Use the map() function with a lambda function to return \"Positive\", \"Negative\", or \"Zero\" based on the value of each integers\n",
    "# 3.Output: Display the resulting list of strings \n",
    "# E.g.['Positive','Negative','Zero','Positive','Negative','Positive','Negative']\n",
    "\n",
    "numbers = [10, -5, 0, 7, -3, 4, -2] \n",
    "result = list(map(lambda x: \"Positive\" if x > 0 else \"Negative\" if x < 0 else \"Zero\", numbers))\n",
    "print(result)"
   ]
  },
  {
   "cell_type": "code",
   "execution_count": 37,
   "metadata": {},
   "outputs": [
    {
     "name": "stdout",
     "output_type": "stream",
     "text": [
      "[1, 2, 3, 4, 5]\n",
      "[2, 3, 4, 5]\n",
      "[3, 4, 5]\n",
      "[4, 5]\n",
      "[5]\n",
      "[]\n",
      "The sum is:  15\n"
     ]
    }
   ],
   "source": [
    "#recursion\n",
    "def recursive_sum(numbers):\n",
    "    print(numbers)\n",
    "\n",
    "    if not numbers:\n",
    "        return 0\n",
    "    else:\n",
    "        return numbers[0] + recursive_sum(numbers[1:])\n",
    "    \n",
    "numbers = [1, 2, 3, 4, 5]\n",
    "result = recursive_sum(numbers)\n",
    "print(\"The sum is: \", result)"
   ]
  },
  {
   "cell_type": "code",
   "execution_count": 1,
   "metadata": {},
   "outputs": [
    {
     "name": "stdout",
     "output_type": "stream",
     "text": [
      "hello\n"
     ]
    }
   ],
   "source": [
    "print(\"hello\")"
   ]
  },
  {
   "cell_type": "markdown",
   "metadata": {},
   "source": [
    "# 07/10/2024"
   ]
  },
  {
   "cell_type": "markdown",
   "metadata": {},
   "source": [
    "### File Handling"
   ]
  },
  {
   "cell_type": "code",
   "execution_count": 6,
   "metadata": {},
   "outputs": [
    {
     "name": "stdout",
     "output_type": "stream",
     "text": [
      "Data written to example.txt successfully\n"
     ]
    }
   ],
   "source": [
    "# function to write a data in a text file\n",
    "def write_data_to_file(filename, data):\n",
    "    with open(filename, \"w\") as file:\n",
    "        file.write(data)\n",
    "    print(f\"Data written to {filename} successfully\")\n",
    "\n",
    "filename=\"example.txt\"\n",
    "\n",
    "write_data_to_file(filename, \"Hello, World!\\nThis is the first line of the file.\\n\")"
   ]
  },
  {
   "cell_type": "code",
   "execution_count": 9,
   "metadata": {},
   "outputs": [
    {
     "name": "stdout",
     "output_type": "stream",
     "text": [
      "contents of example.txt:\n",
      "Hello, World!\n",
      "This is the first line of the file.\n",
      "\n"
     ]
    }
   ],
   "source": [
    "# Function to read data from a text file\n",
    "def read_data_from_file(filename):\n",
    "    try: \n",
    "        with open(filename, \"r\") as file:\n",
    "            content = file.read()\n",
    "            print(f\"contents of {filename}:\\n{content}\")\n",
    "    except FileNotFoundError:\n",
    "        print(f\"File {filename} not found\")\n",
    "            \n",
    "filename=\"example.txt\"\n",
    "read_data_from_file(filename)\n"
   ]
  },
  {
   "cell_type": "code",
   "execution_count": 10,
   "metadata": {},
   "outputs": [
    {
     "name": "stdout",
     "output_type": "stream",
     "text": [
      "Data appended to example.txt successfully\n"
     ]
    }
   ],
   "source": [
    "# Function to append data to a text file\n",
    "def append_data_to_file(filename, data):\n",
    "    with open(filename, \"a\") as file:\n",
    "        file.write(data)\n",
    "    print(f\"Data appended to {filename} successfully\")\n",
    "\n",
    "filename=\"example.txt\"\n",
    "append_data_to_file(filename, \"This is the second line of the file.\\n\")\n"
   ]
  },
  {
   "cell_type": "code",
   "execution_count": 11,
   "metadata": {},
   "outputs": [
    {
     "name": "stdout",
     "output_type": "stream",
     "text": [
      "Data written to example.csv successfully\n",
      "Header: ['Name', 'Age', 'Grade']\n",
      "['Alice', '25', 'A']\n",
      "['Bob', '30', 'B']\n",
      "['Charlie', '35', 'C']\n"
     ]
    }
   ],
   "source": [
    "import csv\n",
    "\n",
    "# Data to write\n",
    "\n",
    "data = [\n",
    "    [\"Name\", \"Age\", \"Grade\"],\n",
    "    [\"Alice\", 25, \"A\"],\n",
    "    [\"Bob\", 30, \"B\"],\n",
    "    [\"Charlie\", 35, \"C\"]\n",
    "]\n",
    "# Open the file in write mode\n",
    "filename = \"example.csv\"\n",
    "\n",
    "\n",
    "with open(filename, mode=\"w\", newline=\"\", encoding=\"utf-8\") as file:\n",
    "    writer = csv.writer(file)\n",
    "    writer.writerows(data)\n",
    "print(f\"Data written to {filename} successfully\")\n",
    "\n",
    "\n",
    "#Open the file in read mode\n",
    "filename = \"example.csv\"\n",
    "with open(filename, mode=\"r\", newline=\"\", encoding=\"utf-8\") as file:\n",
    "    reader = csv.reader(file)\n",
    "    #read the header (first row)\n",
    "    header = next(reader)\n",
    "    print(f\"Header: {header}\")\n",
    "\n",
    "    #read the remaining rows\n",
    "    for row in reader:\n",
    "        print(row)\n"
   ]
  },
  {
   "cell_type": "code",
   "execution_count": 7,
   "metadata": {},
   "outputs": [
    {
     "name": "stdout",
     "output_type": "stream",
     "text": [
      "Hello, World!\n",
      "This is the first line of the file.\n",
      "This is the second line of the file.\n",
      "\n"
     ]
    }
   ],
   "source": [
    "#assignment 1 \n",
    "# Read a.txt file and print contents on console\n",
    "filename = \"example.txt\"\n",
    "with open(filename, \"r\") as file:\n",
    "    content = file.read()\n",
    "    print(content)\n"
   ]
  },
  {
   "cell_type": "code",
   "execution_count": 12,
   "metadata": {},
   "outputs": [
    {
     "name": "stdout",
     "output_type": "stream",
     "text": [
      "['Name', 'Age', 'Grade']\n",
      "['Alice', '25', 'A']\n",
      "['Bob', '30', 'B']\n",
      "['Charlie', '35', 'C']\n"
     ]
    }
   ],
   "source": [
    "#assignment 2\n",
    "# Write a program to read a.csv file and print the contents on the console\n",
    "filename = \"example.csv\"\n",
    "with open(filename, \"r\", newline=\"\", encoding=\"utf-8\") as file:\n",
    "    reader = csv.reader(file)\n",
    "    for row in reader:\n",
    "        print(row)\n",
    "\n"
   ]
  },
  {
   "cell_type": "code",
   "execution_count": 2,
   "metadata": {},
   "outputs": [
    {
     "name": "stdout",
     "output_type": "stream",
     "text": [
      "Data written to students.csv successfully\n"
     ]
    }
   ],
   "source": [
    "import csv\n",
    "# Assignment 3\n",
    "#Accept Name,Age,Marks of a student form a user and store in a csv file.\n",
    "\n",
    "filename = \"students.csv\"\n",
    "data = []\n",
    "data.append([\"Name\", \"Age\", \"Marks\"])\n",
    "while True:\n",
    "    name = input(\"Enter the name of the student: \")\n",
    "    age = int(input(\"Enter the age of the student: \"))\n",
    "    marks = float(input(\"Enter the marks of the student: \"))\n",
    "    data.append([name, age, marks])\n",
    "    choice = input(\"Do you want to add another student? (y/n): \")\n",
    "    if choice.lower() != \"y\":\n",
    "        break\n",
    "with open(filename, mode=\"w\", newline=\"\", encoding=\"utf-8\") as file:\n",
    "    writer = csv.writer(file)\n",
    "    writer.writerows(data)\n",
    "print(f\"Data written to {filename} successfully\")\n"
   ]
  },
  {
   "cell_type": "code",
   "execution_count": 9,
   "metadata": {},
   "outputs": [],
   "source": [
    "def write_data_to_file(filename: str, my_dict: dict):\n",
    "    with open(filename, \"a\") as file:\n",
    "        for key, value in my_dict.items():\n",
    "            file.write(f\"{key}: {value}\\n\")\n",
    "    print(f\"Data written to {filename} successfully\")"
   ]
  },
  {
   "cell_type": "code",
   "execution_count": 11,
   "metadata": {},
   "outputs": [
    {
     "name": "stdout",
     "output_type": "stream",
     "text": [
      "Data written to students.txt successfully\n"
     ]
    }
   ],
   "source": [
    "#Assignment 4: Store dictionary contents to a file \n",
    "# Accept student details form the user (Name, Roll NO, Science, Maths, English marks), store in a dictinoary. \n",
    "# Calculate average and add to dictionary.\n",
    "# Open file in append mode. \n",
    "# Add dictionary contents to the file.\n",
    "\n",
    "filename = \"students.txt\"\n",
    "student = {}\n",
    "student[\"Name\"] = input(\"Enter the name of the student: \")\n",
    "student[\"Roll No\"] = input(\"Enter the roll number of the student: \")\n",
    "student[\"Science\"] = float(input(\"Enter the science marks of the student: \"))\n",
    "student[\"Maths\"] = float(input(\"Enter the maths marks of the student: \"))\n",
    "student[\"English\"] = float(input(\"Enter the english marks of the student: \"))\n",
    "student[\"Average\"] = round((student[\"Science\"] + student[\"Maths\"] + student[\"English\"]) / 3, 2)\n",
    "#student[\"Average\"] = (student[\"Science\"] + student[\"Maths\"] + student[\"English\"]) / 3\n",
    "\n",
    "def write_data_to_file(filename: str, my_dict: dict):\n",
    "    with open(filename, \"a\") as file:\n",
    "        for key, value in my_dict.items():\n",
    "            file.write(f\"{key}: {value}\\n\")\n",
    "    print(f\"Data written to {filename} successfully\")\n",
    "\n",
    "write_data_to_file(filename, student)\n",
    "\n",
    "\n"
   ]
  },
  {
   "cell_type": "code",
   "execution_count": 19,
   "metadata": {},
   "outputs": [
    {
     "ename": "AttributeError",
     "evalue": "'str' object has no attribute 'keys'",
     "output_type": "error",
     "traceback": [
      "\u001b[0;31m---------------------------------------------------------------------------\u001b[0m",
      "\u001b[0;31mAttributeError\u001b[0m                            Traceback (most recent call last)",
      "Cell \u001b[0;32mIn[19], line 12\u001b[0m\n\u001b[1;32m      9\u001b[0m     writer\u001b[38;5;241m.\u001b[39mwriteheader()\n\u001b[1;32m     10\u001b[0m     \u001b[38;5;66;03m# Write the single row of data\u001b[39;00m\n\u001b[0;32m---> 12\u001b[0m     \u001b[43mwriter\u001b[49m\u001b[38;5;241;43m.\u001b[39;49m\u001b[43mwriterows\u001b[49m\u001b[43m(\u001b[49m\u001b[43mdata\u001b[49m\u001b[43m)\u001b[49m\n\u001b[1;32m     13\u001b[0m \u001b[38;5;28mprint\u001b[39m(\u001b[38;5;124mf\u001b[39m\u001b[38;5;124m\"\u001b[39m\u001b[38;5;124mData written to \u001b[39m\u001b[38;5;132;01m{\u001b[39;00mfilename\u001b[38;5;132;01m}\u001b[39;00m\u001b[38;5;124m successfully\u001b[39m\u001b[38;5;124m\"\u001b[39m)\n",
      "File \u001b[0;32m/usr/local/python/3.12.1/lib/python3.12/csv.py:167\u001b[0m, in \u001b[0;36mDictWriter.writerows\u001b[0;34m(self, rowdicts)\u001b[0m\n\u001b[1;32m    166\u001b[0m \u001b[38;5;28;01mdef\u001b[39;00m \u001b[38;5;21mwriterows\u001b[39m(\u001b[38;5;28mself\u001b[39m, rowdicts):\n\u001b[0;32m--> 167\u001b[0m     \u001b[38;5;28;01mreturn\u001b[39;00m \u001b[38;5;28;43mself\u001b[39;49m\u001b[38;5;241;43m.\u001b[39;49m\u001b[43mwriter\u001b[49m\u001b[38;5;241;43m.\u001b[39;49m\u001b[43mwriterows\u001b[49m\u001b[43m(\u001b[49m\u001b[38;5;28;43mmap\u001b[39;49m\u001b[43m(\u001b[49m\u001b[38;5;28;43mself\u001b[39;49m\u001b[38;5;241;43m.\u001b[39;49m\u001b[43m_dict_to_list\u001b[49m\u001b[43m,\u001b[49m\u001b[43m \u001b[49m\u001b[43mrowdicts\u001b[49m\u001b[43m)\u001b[49m\u001b[43m)\u001b[49m\n",
      "File \u001b[0;32m/usr/local/python/3.12.1/lib/python3.12/csv.py:157\u001b[0m, in \u001b[0;36mDictWriter._dict_to_list\u001b[0;34m(self, rowdict)\u001b[0m\n\u001b[1;32m    155\u001b[0m \u001b[38;5;28;01mdef\u001b[39;00m \u001b[38;5;21m_dict_to_list\u001b[39m(\u001b[38;5;28mself\u001b[39m, rowdict):\n\u001b[1;32m    156\u001b[0m     \u001b[38;5;28;01mif\u001b[39;00m \u001b[38;5;28mself\u001b[39m\u001b[38;5;241m.\u001b[39mextrasaction \u001b[38;5;241m==\u001b[39m \u001b[38;5;124m\"\u001b[39m\u001b[38;5;124mraise\u001b[39m\u001b[38;5;124m\"\u001b[39m:\n\u001b[0;32m--> 157\u001b[0m         wrong_fields \u001b[38;5;241m=\u001b[39m \u001b[43mrowdict\u001b[49m\u001b[38;5;241;43m.\u001b[39;49m\u001b[43mkeys\u001b[49m() \u001b[38;5;241m-\u001b[39m \u001b[38;5;28mself\u001b[39m\u001b[38;5;241m.\u001b[39mfieldnames\n\u001b[1;32m    158\u001b[0m         \u001b[38;5;28;01mif\u001b[39;00m wrong_fields:\n\u001b[1;32m    159\u001b[0m             \u001b[38;5;28;01mraise\u001b[39;00m \u001b[38;5;167;01mValueError\u001b[39;00m(\u001b[38;5;124m\"\u001b[39m\u001b[38;5;124mdict contains fields not in fieldnames: \u001b[39m\u001b[38;5;124m\"\u001b[39m\n\u001b[1;32m    160\u001b[0m                              \u001b[38;5;241m+\u001b[39m \u001b[38;5;124m\"\u001b[39m\u001b[38;5;124m, \u001b[39m\u001b[38;5;124m\"\u001b[39m\u001b[38;5;241m.\u001b[39mjoin([\u001b[38;5;28mrepr\u001b[39m(x) \u001b[38;5;28;01mfor\u001b[39;00m x \u001b[38;5;129;01min\u001b[39;00m wrong_fields]))\n",
      "\u001b[0;31mAttributeError\u001b[0m: 'str' object has no attribute 'keys'"
     ]
    }
   ],
   "source": [
    "data = {'Name': 'Alice', 'Age': 25, 'City': 'New York'}\n",
    "filename = \"students.csv\"\n",
    "with open(filename, mode=\"w\", newline=\"\") as file:\n",
    "    # Get the keys of the dictionary as fieldnames for the CSV header\n",
    "    fieldnames = data.keys()\n",
    "    # Create a DictWriter object, passing the fieldnames as the fieldnames\n",
    "    writer = csv.DictWriter(file, fieldnames=fieldnames)\n",
    "    # Write the header \n",
    "    writer.writeheader()\n",
    "    # Write the single row of data\n",
    "    \n",
    "    writer.writerows(data)\n",
    "print(f\"Data written to {filename} successfully\")"
   ]
  },
  {
   "cell_type": "code",
   "execution_count": 17,
   "metadata": {},
   "outputs": [
    {
     "name": "stdout",
     "output_type": "stream",
     "text": [
      "1. Add a new student\n",
      "2. Save and exit\n",
      "1. Add a new student\n",
      "2. Save and exit\n",
      "Data written to students.csv successfully\n"
     ]
    }
   ],
   "source": [
    "#Assignment 4: Store dictionary contents to a csv\n",
    "# Accept student details form the user (Name, Roll NO, Science, Maths, English marks), store in a dictionary in dictionary.\n",
    "# Calculate average and add to dictionary.\n",
    "# Open file in append mode. \n",
    "# Add  dictionaries to file.\n",
    "filename = \"students.csv\"\n",
    "students = []\n",
    "\n",
    "def add_student():\n",
    "    student = {}\n",
    "    student[\"Name\"] = input(\"Enter the name of the student: \")\n",
    "    student[\"Roll No\"] = input(\"Enter the roll number of the student: \")\n",
    "    student[\"Science\"] = float(input(\"Enter the science marks of the student: \"))\n",
    "    student[\"Maths\"] = float(input(\"Enter the maths marks of the student: \"))\n",
    "    student[\"English\"] = float(input(\"Enter the english marks of the student: \"))\n",
    "    student[\"Average\"] = round((student[\"Science\"] + student[\"Maths\"] + student[\"English\"]) / 3, 2)\n",
    "    students.append(student)\n",
    "\n",
    "def write_data_to_file(filename: str, my_list: list):\n",
    "    with open(filename, mode=\"a\", newline=\"\") as file:\n",
    "        fieldnames = my_list[0].keys()\n",
    "        writer = csv.DictWriter(file, fieldnames=fieldnames)\n",
    "        writer.writeheader()\n",
    "        writer.writerows(my_list)\n",
    "    print(f\"Data written to {filename} successfully\")\n",
    "\n",
    "while True:\n",
    "    print(\"1. Add a new student\")\n",
    "    print(\"2. Save and exit\")\n",
    "    choice = input(\"Enter your choice: \")\n",
    "    if choice == \"1\":\n",
    "        add_student()\n",
    "    elif choice == \"2\":\n",
    "        write_data_to_file(filename, students)\n",
    "        break\n",
    "    else:\n",
    "        print(\"Invalid choice. Please try again.\")\n",
    "\n",
    "\n",
    "        \n",
    "\n"
   ]
  },
  {
   "cell_type": "code",
   "execution_count": 6,
   "metadata": {},
   "outputs": [
    {
     "name": "stdout",
     "output_type": "stream",
     "text": [
      "how many numbers do you want to enter: \n",
      "Enter number: \n",
      "Enter number: \n",
      "Enter number: \n",
      "Enter number: \n",
      "Enter number: \n",
      "Enter number: \n",
      "Data written to numbers.txt successfully\n",
      "Numbers read from numbers.txt: [1, 2, 3, 4, 5, 6]\n",
      "Sum of the numbers: 21\n"
     ]
    }
   ],
   "source": [
    "#Assignment 1: Write and read a list of numbers \n",
    "# create a list of random numbers \n",
    "# Write the list to a file numbers.txt with each number on a new line.\n",
    "# Read the file and store the numbers in a new list.\n",
    "# Calculate and display the sum of the numbers.\n",
    "\n",
    "list_numbers = []\n",
    "print(\"how many numbers do you want to enter: \")\n",
    "n = int(input())\n",
    "for i in range(0, n):\n",
    "    print(\"Enter number: \")\n",
    "    num = int(input())\n",
    "    list_numbers.append(num)\n",
    "    \n",
    "#list_numbers = [1,2,3,4,5,6,7,8,9,10]\n",
    "filename = \"numbers.txt\"\n",
    "with open(filename, \"w\") as file:\n",
    "    for number in list_numbers:\n",
    "        file.write(f\"{number}\\n\")\n",
    "print(f\"Data written to {filename} successfully\")\n",
    "\n",
    "with open(filename, \"r\") as file:\n",
    "    numbers = [int(line.strip()) for line in file]\n",
    "print(f\"Numbers read from {filename}: {numbers}\")\n",
    "\n",
    "sum = 0\n",
    "for number in numbers:\n",
    "    sum += number\n",
    "print(f\"Sum of the numbers: {sum}\")\n",
    "\n"
   ]
  },
  {
   "cell_type": "code",
   "execution_count": 16,
   "metadata": {},
   "outputs": [
    {
     "name": "stdout",
     "output_type": "stream",
     "text": [
      "Data written to words.csv successfully\n",
      "['Red', 'Blue', 'Green', 'Yellow', 'Orange', 'Purple']\n",
      "Data written to words.csv successfully\n",
      "['Blue', 'Green', 'Orange', 'Purple', 'Red', 'Yellow']\n"
     ]
    }
   ],
   "source": [
    "# Assignment 2: Sorting Data from a file \n",
    "# Create a csv file which holds a list of words. \n",
    "# Read data form thr file into a list \n",
    "# sort the list in ascending order \n",
    "# write the sorted data back to the file, also print on console\n",
    "\n",
    "import csv\n",
    "\n",
    "words = [\"Red\", \"Blue\", \"Green\", \"Yellow\", \"Orange\", \"Purple\"]\n",
    "filename = \"words.csv\"\n",
    "with open(filename, \"w\", newline=\"\") as file:\n",
    "    writer = csv.writer(file)\n",
    "    writer.writerow(words)\n",
    "print(f\"Data written to {filename} successfully\")\n",
    "\n",
    "print(words)\n",
    "\n",
    "with open(filename, \"r\", newline=\"\") as file:\n",
    "    reader = csv.reader(file)\n",
    "    for row in reader:\n",
    "        words = row\n",
    "words.sort()\n",
    "\n",
    "with open(filename, \"w\", newline=\"\") as file:\n",
    "    writer = csv.writer(file)\n",
    "    writer.writerow(words)\n",
    "print(f\"Data written to {filename} successfully\")\n",
    "\n",
    "print(words)\n",
    "\n"
   ]
  },
  {
   "cell_type": "code",
   "execution_count": 17,
   "metadata": {},
   "outputs": [
    {
     "name": "stdout",
     "output_type": "stream",
     "text": [
      "Cannot divide by zero\n"
     ]
    }
   ],
   "source": [
    "#Exception Handling\n",
    "\n",
    "#try block\n",
    "try:\n",
    "    #code that may raise an exception\n",
    "    x = 1 / 0\n",
    "except ZeroDivisionError:\n",
    "    #code to handle the exception\n",
    "    print(\"Cannot divide by zero\")\n",
    "    "
   ]
  },
  {
   "cell_type": "code",
   "execution_count": 19,
   "metadata": {},
   "outputs": [
    {
     "name": "stdout",
     "output_type": "stream",
     "text": [
      "Cannot divide by zero\n"
     ]
    }
   ],
   "source": [
    "#try block with multiple exceptions\n",
    "try:\n",
    "    #code that may raise an exception\n",
    "    x = 1 / 0\n",
    "except ZeroDivisionError:\n",
    "    #code to handle the exception\n",
    "    print(\"Cannot divide by zero\")\n",
    "except:\n",
    "    #code to handle any other exception\n",
    "    print(\"An error occurred\")\n",
    "    "
   ]
  },
  {
   "cell_type": "code",
   "execution_count": 21,
   "metadata": {},
   "outputs": [
    {
     "name": "stdout",
     "output_type": "stream",
     "text": [
      "Demo 1: Basic try-except block\n",
      "Caught a ValueError: Invalid literal for int()\n"
     ]
    }
   ],
   "source": [
    "print(\"Demo 1: Basic try-except block\")\n",
    "try:\n",
    "    x = int(\"not a number\")\n",
    "except ValueError:\n",
    "    print(\"Caught a ValueError: Invalid literal for int()\")"
   ]
  },
  {
   "cell_type": "code",
   "execution_count": 22,
   "metadata": {},
   "outputs": [
    {
     "name": "stdout",
     "output_type": "stream",
     "text": [
      "\n",
      "Demo 2: Multiple except blocks\n",
      "Caught a ZeroDivisionError\n"
     ]
    }
   ],
   "source": [
    "#Multiple except blocks (handling different exceptions separately)\n",
    "print(\"\\nDemo 2: Multiple except blocks\")\n",
    "try:\n",
    "    y=10 / 0    \n",
    "except ValueError:\n",
    "    print(\"Caught a ValueError\")\n",
    "except ZeroDivisionError:\n",
    "    print(\"Caught a ZeroDivisionError\")\n",
    "except:\n",
    "    print(\"Caught an exception\")\n",
    "    "
   ]
  },
  {
   "cell_type": "code",
   "execution_count": 25,
   "metadata": {},
   "outputs": [
    {
     "name": "stdout",
     "output_type": "stream",
     "text": [
      "\n",
      "Demo 2: Multiple except blocks\n",
      "Caught a ZeroDivisionError\n"
     ]
    }
   ],
   "source": [
    "print(\"\\nDemo 2: Multiple except blocks\")\n",
    "try:\n",
    "    x=int(input(\"Enter a number: \"))\n",
    "    y=x / 0    \n",
    "    print(y)\n",
    "except ValueError:\n",
    "    print(\"Caught a ValueError\")\n",
    "except ZeroDivisionError:\n",
    "    print(\"Caught a ZeroDivisionError\")\n",
    "    "
   ]
  },
  {
   "cell_type": "code",
   "execution_count": 27,
   "metadata": {},
   "outputs": [
    {
     "name": "stdout",
     "output_type": "stream",
     "text": [
      "Demo 3: Try-except-finally block\n",
      "This block will always execute, regardless of an exception occurred \n"
     ]
    }
   ],
   "source": [
    "print(\"Demo 3: Try-except-finally block\")\n",
    "try:\n",
    "    z=10 / 5\n",
    "except ZeroDivisionError:\n",
    "    print(\"Caught a ZeroDivisionError\")\n",
    "finally:\n",
    "    print(\"This block will always execute, regardless of an exception occurred \")"
   ]
  },
  {
   "cell_type": "code",
   "execution_count": 29,
   "metadata": {},
   "outputs": [
    {
     "name": "stdout",
     "output_type": "stream",
     "text": [
      "Demo 4: Try-except-else-finally  block\n",
      "Caught a ZeroDivisionError\n",
      "This block will always execute, regardless of an exception occurred \n"
     ]
    }
   ],
   "source": [
    "print(\"Demo 4: Try-except-else-finally  block\")\n",
    "try:\n",
    "    result=10 / 0\n",
    "except ZeroDivisionError:\n",
    "    print(\"Caught a ZeroDivisionError\")\n",
    "else:\n",
    "    print(f\"Division Successful: result is {result}\")\n",
    "finally:\n",
    "    print(\"This block will always execute, regardless of an exception occurred \")"
   ]
  },
  {
   "cell_type": "code",
   "execution_count": 30,
   "metadata": {},
   "outputs": [
    {
     "name": "stdout",
     "output_type": "stream",
     "text": [
      "Demo 5: Raising an exception\n",
      "Raised and caught an exception: Age cannot be negative\n"
     ]
    }
   ],
   "source": [
    "# Raising an exception using the raise statement\n",
    "\n",
    "print(\"Demo 5: Raising an exception\")\n",
    "try:\n",
    "    age = -1\n",
    "    if age < 0:\n",
    "        raise ValueError(\"Age cannot be negative\")\n",
    "except ValueError as e:\n",
    "    print(f\"Raised and caught an exception: {e}\")"
   ]
  },
  {
   "cell_type": "code",
   "execution_count": 31,
   "metadata": {},
   "outputs": [
    {
     "name": "stdout",
     "output_type": "stream",
     "text": [
      "Demo 5: Raising an exception\n",
      "Raised and caught an exception: Age cannot be negative\n"
     ]
    }
   ],
   "source": [
    "# Raising an exception using the raise statement\n",
    "\n",
    "print(\"Demo 5: Raising an exception\")\n",
    "try:\n",
    "    age = -1\n",
    "    amount = -1000\n",
    "    if age < 0:\n",
    "        raise ValueError(\"Age cannot be negative\")\n",
    "    if amount < 0:\n",
    "        raise ValueError(\"Amount cannot be negative\")\n",
    "    \n",
    "except ValueError as e:\n",
    "    print(f\"Raised and caught an exception: {e}\")"
   ]
  },
  {
   "cell_type": "code",
   "execution_count": 38,
   "metadata": {},
   "outputs": [
    {
     "name": "stdout",
     "output_type": "stream",
     "text": [
      "Entered integer: 55\n",
      "----------------\n",
      "Element at index 2: 3\n",
      "Operation completed\n",
      "\n",
      "Index out of bounds\n",
      "Operation completed\n",
      "\n",
      "Index must be an integer\n",
      "Operation completed\n",
      "----------------\n",
      "Cannot divide by zero\n",
      "\n",
      "Result of division: 5.0\n"
     ]
    }
   ],
   "source": [
    "# #Assignment 4: Define the functions which handle exceptions \n",
    "# Function 1: get_integer_input-Accepts an integer and prints it \n",
    "# Exception to handle:\n",
    "#     ValueError exceptions \n",
    "\n",
    " \n",
    "\n",
    "\n",
    "\n",
    "def get_integer_input():\n",
    "    try:\n",
    "        num = int(input(\"Enter an integer: \"))\n",
    "        print(f\"Entered integer: {num}\")\n",
    "    except ValueError:\n",
    "        print(\"Invalid input. Please enter an integer\")\n",
    "\n",
    "# Function 2: get_element_from_list-Attempts to return element at specified index from list. \n",
    "# Exception to handle:\n",
    "#     IndexError : if the index is out of bounds\n",
    "#     TypeError: if the index is not an integer\n",
    "#     Use else : Print the element if no exceptions occur \n",
    "#     finally blocks: to indicate operation completion\n",
    "\n",
    "def get_element_from_list(lst, index):\n",
    "    try:\n",
    "        element = lst[index]\n",
    "    except IndexError:\n",
    "        print(\"Index out of bounds\")\n",
    "    except TypeError:\n",
    "        print(\"Index must be an integer\")\n",
    "    else:\n",
    "        print(f\"Element at index {index}: {element}\")\n",
    "    finally:\n",
    "        print(\"Operation completed\")\n",
    "\n",
    "\n",
    "\n",
    "# Function 3: divide_numbers(a,b)-Raises ZeroDivisionError if b is zero.\n",
    "#     Exception to handle: \n",
    "#     ZeroDivisionError-Custom message in body\n",
    "\n",
    "def divide_numbers(a, b):\n",
    "    try:\n",
    "        if b == 0:\n",
    "            raise ZeroDivisionError(\"Cannot divide by zero\")\n",
    "        result = a / b\n",
    "        print(f\"Result of division: {result}\")\n",
    "    except ZeroDivisionError as e:\n",
    "        print(e)\n",
    "\n",
    "get_integer_input()\n",
    "print(\"----------------\")\n",
    "list = [1, 2, 3, 4, 5]\n",
    "get_element_from_list(list, 2)\n",
    "print()\n",
    "get_element_from_list(list, 10)\n",
    "print()\n",
    "get_element_from_list(list, \"a\")\n",
    "print(\"----------------\")\n",
    "divide_numbers(10, 0)\n",
    "print()\n",
    "divide_numbers(10, 2)\n"
   ]
  },
  {
   "cell_type": "code",
   "execution_count": 4,
   "metadata": {},
   "outputs": [
    {
     "name": "stdout",
     "output_type": "stream",
     "text": [
      "Name:  Alice\n",
      "Phone:  1234567890\n",
      "Address:  New York\n",
      "Name:  Bob\n",
      "Phone:  9876543210\n",
      "Address:  Los Angeles\n"
     ]
    }
   ],
   "source": [
    "class phonebook:\n",
    "    strName = \"\"\n",
    "    strPhone = \"\"\n",
    "    strAddress = \"\"\n",
    "\n",
    "    def setValue(self, name, phone, address):\n",
    "        self.strName = name\n",
    "        self.strPhone = phone\n",
    "        self.strAddress = address\n",
    "\n",
    "    def display_phonebook(self):\n",
    "        print(\"Name: \", self.strName)\n",
    "        print(\"Phone: \", self.strPhone)\n",
    "        print(\"Address: \", self.strAddress)\n",
    "\n",
    "if __name__ == \"__main__\":\n",
    "    pb1 = phonebook()\n",
    "    pb1.setValue(\"Alice\", \"1234567890\", \"New York\")\n",
    "    pb1.display_phonebook()\n",
    "\n",
    "    pb2 = phonebook()\n",
    "    pb2.setValue(\"Bob\", \"9876543210\", \"Los Angeles\")\n",
    "    pb2.display_phonebook()"
   ]
  },
  {
   "cell_type": "code",
   "execution_count": 6,
   "metadata": {},
   "outputs": [
    {
     "name": "stdout",
     "output_type": "stream",
     "text": [
      "Name:  Alice\n",
      "Phone:  1234567890\n",
      "Address:  New York\n",
      "Name:  Bob\n",
      "Phone:  9876543210\n",
      "Address:  Los Angeles\n"
     ]
    }
   ],
   "source": [
    "class phonebook:\n",
    "    strName = \"\"\n",
    "    strPhone = \"\"\n",
    "    strAddress = \"\"\n",
    "\n",
    "    def __init__(self, name, phone, address):\n",
    "        self.strName = name\n",
    "        self.strPhone = phone\n",
    "        self.strAddress = address\n",
    "\n",
    "    def setValue(self, name, phone, address):\n",
    "        self.strName = name\n",
    "        self.strPhone = phone\n",
    "        self.strAddress = address\n",
    "\n",
    "    def display_phonebook(self):\n",
    "        print(\"Name: \", self.strName)\n",
    "        print(\"Phone: \", self.strPhone)\n",
    "        print(\"Address: \", self.strAddress)\n",
    "       \n",
    "if __name__ == \"__main__\":\n",
    "    pb1 = phonebook(\"Alice\", \"1234567890\", \"New York\")\n",
    "    pb1.display_phonebook()\n",
    "\n",
    "    pb2 = phonebook(\"Bob\", \"9876543210\", \"Los Angeles\")\n",
    "    pb2.display_phonebook()"
   ]
  },
  {
   "cell_type": "code",
   "execution_count": 7,
   "metadata": {},
   "outputs": [
    {
     "name": "stdout",
     "output_type": "stream",
     "text": [
      "Name:  Alice\n",
      "Phone:  1234567890\n",
      "Address:  New York\n",
      "Name:  Bob\n",
      "Phone:  9876543210\n",
      "Address:  Los Angeles\n"
     ]
    }
   ],
   "source": [
    "listObjList = []\n",
    "listObjList.append(pb1)\n",
    "listObjList.append(pb2)\n",
    "for obj in listObjList:\n",
    "    obj.display_phonebook()"
   ]
  },
  {
   "cell_type": "code",
   "execution_count": 9,
   "metadata": {},
   "outputs": [
    {
     "name": "stdout",
     "output_type": "stream",
     "text": [
      "Title:  Book1\n",
      "Author:  Author1\n",
      "Available:  False\n",
      "Title:  Book2\n",
      "Author:  Author2\n",
      "Available:  False\n",
      "Title:  Book2\n",
      "Author:  Author2\n",
      "Available:  True\n"
     ]
    }
   ],
   "source": [
    "#Assignment 1: Create a class that represents a library and allows basic operations like checking availability and borrowing books.\n",
    "\n",
    "# class attributes\n",
    "# bookTitle(string)\n",
    "# bookAuthor(string)\n",
    "# available(boolean)\n",
    "\n",
    "# Methods\n",
    "# Constructor: sets class attributes for each book \n",
    "# borrow_book(): Changes the availability status to False if the book is available; otherwise, print\"Not available\"\n",
    "# return_book(): Changes the availability status back to True\n",
    "# display_info(): Prints the book's title, author, and avalability status\n",
    "\n",
    "#Create two book objects (e.g. book1, book2) and demonstrate borrowing, returning, and displaying book information.\n",
    "\n",
    "class library:\n",
    "    bookTitle = \"\"\n",
    "    bookAuthor = \"\"\n",
    "    available = True\n",
    "\n",
    "    def __init__(self, title, author):\n",
    "        self.bookTitle = title\n",
    "        self.bookAuthor = author\n",
    "\n",
    "    def borrow_book(self):\n",
    "        if self.available:\n",
    "            self.available = False\n",
    "        else:\n",
    "            print(\"Not available\")\n",
    "\n",
    "    def return_book(self):\n",
    "        self.available = True\n",
    "\n",
    "    def display_info(self):\n",
    "        print(\"Title: \", self.bookTitle)\n",
    "        print(\"Author: \", self.bookAuthor)\n",
    "        print(\"Available: \", self.available)\n",
    "\n",
    "if __name__ == \"__main__\":\n",
    "    book1 = library(\"Book1\", \"Author1\")\n",
    "    book1.borrow_book()\n",
    "    book1.display_info()\n",
    "\n",
    "    book2 = library(\"Book2\", \"Author2\")\n",
    "    book2.borrow_book()\n",
    "    book2.display_info()\n",
    "\n",
    "    book2.return_book()\n",
    "    book2.display_info()\n",
    "    "
   ]
  },
  {
   "cell_type": "code",
   "execution_count": 10,
   "metadata": {},
   "outputs": [
    {
     "name": "stdout",
     "output_type": "stream",
     "text": [
      "Library Name:  My Library\n",
      "Title:  Book1\n",
      "Author:  Author1\n",
      "Available:  False\n",
      "Library Name:  My Library\n",
      "Title:  Book2\n",
      "Author:  Author2\n",
      "Available:  False\n",
      "Library Name:  My Library\n",
      "Title:  Book2\n",
      "Author:  Author2\n",
      "Available:  True\n"
     ]
    }
   ],
   "source": [
    "#Convert the following to instance variables \n",
    "# bookTitle (string)\n",
    "# bookAuthor (me\" string)\n",
    "# availabe (boolean)\n",
    "\n",
    "# Add a class variable \"strLibraryName\"\n",
    "\n",
    "\n",
    "class library:\n",
    "    strLibraryName = \"My Library\"\n",
    "\n",
    "    def __init__(self, title, author):\n",
    "        self.bookTitle = title\n",
    "        self.bookAuthor = author\n",
    "        self.available = True\n",
    "\n",
    "    def borrow_book(self):\n",
    "        if self.available:\n",
    "            self.available = False\n",
    "        else:\n",
    "            print(\"Not available\")\n",
    "\n",
    "    def return_book(self):\n",
    "        self.available = True\n",
    "\n",
    "    def display_info(self):\n",
    "        print(\"Library Name: \", library.strLibraryName)\n",
    "        print(\"Title: \", self.bookTitle)\n",
    "        print(\"Author: \", self.bookAuthor)\n",
    "        print(\"Available: \", self.available)\n",
    "\n",
    "if __name__ == \"__main__\":\n",
    "    book1 = library(\"Book1\", \"Author1\")\n",
    "    book1.borrow_book()\n",
    "    book1.display_info()\n",
    "\n",
    "    book2 = library(\"Book2\", \"Author2\")\n",
    "    book2.borrow_book()\n",
    "    book2.display_info()\n",
    "\n",
    "    book2.return_book()\n",
    "    book2.display_info()\n",
    "\n"
   ]
  },
  {
   "cell_type": "code",
   "execution_count": 11,
   "metadata": {},
   "outputs": [
    {
     "name": "stdout",
     "output_type": "stream",
     "text": [
      "School Name:  Green Valley High School\n",
      "Name:  Alice\n",
      "Student ID:  1\n",
      "Maths Marks:  90\n",
      "Science Marks:  85\n",
      "English Marks:  95\n",
      "Average Marks:  90.0\n",
      "School Name:  Green Valley High School\n",
      "Name:  Bob\n",
      "Student ID:  2\n",
      "Maths Marks:  80\n",
      "Science Marks:  75\n",
      "English Marks:  85\n",
      "Average Marks:  80.0\n"
     ]
    }
   ],
   "source": [
    "# Create a class: clsSchool \n",
    "# Class variables:\n",
    "#     school_name=\"Green Valley High School\"  is a class variable that is common to all students. \n",
    "# Instance Variables: \n",
    "#     name\n",
    "#     student_id \n",
    "#     maths_marks\n",
    "#     science_Marks\n",
    "#     english_marks\n",
    "#     average\n",
    "\n",
    "# Methods:\n",
    "#     constructor which will initialize name,student_id and rest of attributes will be initialised to 0\n",
    "#     add_marks(): Allows adding or updating marks for a specific subject \n",
    "#     calculate_average(): Calculate the average of all marks for a student and initializes the average variable\n",
    "#     display_info(): Displays the student's details, marks,and avearge marks.\n",
    "\n",
    "\n",
    "\n",
    "class clsSchool:\n",
    "    school_name = \"Green Valley High School\"\n",
    "\n",
    "    def __init__(self, name, student_id):\n",
    "        self.name = name\n",
    "        self.student_id = student_id\n",
    "        self.maths_marks = 0\n",
    "        self.science_marks = 0\n",
    "        self.english_marks = 0\n",
    "        self.average = 0\n",
    "\n",
    "    def add_marks(self, subject, marks):\n",
    "        if subject == \"Maths\":\n",
    "            self.maths_marks = marks\n",
    "        elif subject == \"Science\":\n",
    "            self.science_marks = marks\n",
    "        elif subject == \"English\":\n",
    "            self.english_marks = marks\n",
    "\n",
    "    def calculate_average(self):\n",
    "        self.average = (self.maths_marks + self.science_marks + self.english_marks) / 3\n",
    "\n",
    "    def display_info(self):\n",
    "        print(\"School Name: \", clsSchool.school_name)\n",
    "        print(\"Name: \", self.name)\n",
    "        print(\"Student ID: \", self.student_id)\n",
    "        print(\"Maths Marks: \", self.maths_marks)\n",
    "        print(\"Science Marks: \", self.science_marks)\n",
    "        print(\"English Marks: \", self.english_marks)\n",
    "        print(\"Average Marks: \", self.average)\n",
    "\n",
    "if __name__ == \"__main__\":\n",
    "    student1 = clsSchool(\"Alice\", 1)\n",
    "    student1.add_marks(\"Maths\", 90)\n",
    "    student1.add_marks(\"Science\", 85)\n",
    "    student1.add_marks(\"English\", 95)\n",
    "    student1.calculate_average()\n",
    "    student1.display_info()\n",
    "\n",
    "    student2 = clsSchool(\"Bob\", 2)\n",
    "    student2.add_marks(\"Maths\", 80)\n",
    "    student2.add_marks(\"Science\", 75)\n",
    "    student2.add_marks(\"English\", 85)\n",
    "    student2.calculate_average()\n",
    "    student2.display_info()"
   ]
  },
  {
   "cell_type": "code",
   "execution_count": 12,
   "metadata": {},
   "outputs": [
    {
     "name": "stdout",
     "output_type": "stream",
     "text": [
      "School Name:  Green Valley High School\n",
      "Name:  Alice\n",
      "Student ID:  1\n",
      "Maths Marks: 90\n",
      "Science Marks: 85\n",
      "English Marks: 95\n",
      "Average Marks: 90.0\n",
      "Average Marks:  90.0\n",
      "Topper: English\n",
      "School Name:  Green Valley High School\n",
      "Name:  Bob\n",
      "Student ID:  2\n",
      "Maths Marks: 80\n",
      "Science Marks: 75\n",
      "English Marks: 85\n",
      "Average Marks: 80.0\n",
      "Average Marks:  80.0\n",
      "Topper: English\n"
     ]
    }
   ],
   "source": [
    "# Create a class: clsSchool \n",
    "# Class variables:\n",
    "#     school_name=\"Green Valley High School\"  is a class variable that is common to all students. \n",
    "# Instance Variables: \n",
    "#     name\n",
    "#     student_id \n",
    "#     marks={maths:100,science:99,english:98,average}\n",
    "\n",
    "# Methods:\n",
    "#     constructor which will initialize name,student_id and rest of attributes will be initialised to 0\n",
    "#     add_marks(): Allows adding or updating marks for a specific subject \n",
    "#     calculate_average(): Calculate the average of all marks for a student and initializes the average variable\n",
    "#     display_info(): Displays the student's details, marks,and avearge marks.\n",
    "\n",
    "\n",
    "\n",
    "# Challange: Display the name of the topper\n",
    "\n",
    "class clsSchool:\n",
    "    school_name = \"Green Valley High School\"\n",
    "\n",
    "    def __init__(self, name, student_id):\n",
    "        self.name = name\n",
    "        self.student_id = student_id\n",
    "        self.marks = {\"Maths\": 0, \"Science\": 0, \"English\": 0, \"Average\": 0}\n",
    "\n",
    "    def add_marks(self, subject, marks):\n",
    "        self.marks[subject] = marks\n",
    "\n",
    "    def calculate_average(self):\n",
    "        total = 0\n",
    "        for subject, marks in self.marks.items():\n",
    "            if subject != \"Average\":\n",
    "                total += marks\n",
    "        self.marks[\"Average\"] = total / 3\n",
    "\n",
    "    def display_info(self):\n",
    "        print(\"School Name: \", clsSchool.school_name)\n",
    "        print(\"Name: \", self.name)\n",
    "        print(\"Student ID: \", self.student_id)\n",
    "        for subject, marks in self.marks.items():\n",
    "            print(f\"{subject} Marks: {marks}\")\n",
    "        print(\"Average Marks: \", self.marks[\"Average\"])\n",
    "\n",
    "    def get_topper(self):\n",
    "        topper = max(self.marks, key=self.marks.get)\n",
    "        print(f\"Topper: {topper}\")\n",
    "\n",
    "if __name__ == \"__main__\":\n",
    "    student1 = clsSchool(\"Alice\", 1)\n",
    "    student1.add_marks(\"Maths\", 90)\n",
    "    student1.add_marks(\"Science\", 85)\n",
    "    student1.add_marks(\"English\", 95)\n",
    "    student1.calculate_average()\n",
    "    student1.display_info()\n",
    "    student1.get_topper()\n",
    "\n",
    "    student2 = clsSchool(\"Bob\", 2)\n",
    "    student2.add_marks(\"Maths\", 80)\n",
    "    student2.add_marks(\"Science\", 75)\n",
    "    student2.add_marks(\"English\", 85)\n",
    "    student2.calculate_average()\n",
    "    student2.display_info()\n",
    "    student2.get_topper()\n",
    "\n"
   ]
  },
  {
   "cell_type": "code",
   "execution_count": null,
   "metadata": {},
   "outputs": [],
   "source": [
    "# Assignment 1: Create a class that simulates a simple bank account and allows basic bank\n",
    "# operations.\n",
    "# Class Name: BankAccount\n",
    "# Rate of interest\n",
    "# Bank name\n",
    "# * account_holder (string)\n",
    "# * balance (float, initialized to 0.0)\n",
    "# Methods:\n",
    "# * deposit(amount): Adds the given amount to the balance.\n",
    "# withdraw(amount): Deducts the given amount from the balance if sufficient funds are available;\n",
    "# otherwise, print \"insufficient balance.\n",
    "# * check_balance(): Prints the current balance.\n",
    "# Create an account for a user (e.g., account1 = BankAccount(\"Alice\")), perform deposits,\n",
    "# withdrawals, and check the balance.\n",
    "\n",
    "\n",
    "class BankAccount:\n",
    "    rate_of_interest = 5\n",
    "    bank_name = \"My Bank\"\n",
    "\n",
    "    def __init__(self, account_holder):\n",
    "        self.account_holder = account_holder\n",
    "        self.balance = 0.0\n",
    "\n",
    "    def deposit(self, amount):\n",
    "        self.balance += amount\n",
    "\n",
    "    def withdraw(self, amount):\n",
    "        if amount <= self.balance:\n",
    "            self.balance -= amount\n",
    "        else:\n",
    "            print(\"Insufficient balance\")\n",
    "\n",
    "    def check_balance(self):\n",
    "        print(f\"Balance: {self.balance}\")\n",
    "\n",
    "if __name__ == \"__main__\":\n",
    "    account1 = BankAccount(\"Alice\")\n",
    "    account1.deposit(1000)\n",
    "    account1.check_balance()\n",
    "    account1.withdraw(500)\n",
    "    account1.check_balance()\n",
    "    account1.withdraw(600)\n",
    "    account1.check_balance()\n",
    "\n",
    "    account2 = BankAccount(\"Bob\")\n",
    "    account2.deposit(2000)\n",
    "    account2.check_balance()\n",
    "    account2.withdraw(1500)\n",
    "    account2.check_balance()\n",
    "    account2.withdraw(1000)\n",
    "    account2.check_balance()\n",
    "\n"
   ]
  },
  {
   "cell_type": "markdown",
   "metadata": {},
   "source": [
    "# 10/10/2024"
   ]
  },
  {
   "cell_type": "code",
   "execution_count": 2,
   "metadata": {},
   "outputs": [
    {
     "name": "stdout",
     "output_type": "stream",
     "text": [
      "Johnny barks\n",
      "Elizabeth meows\n"
     ]
    }
   ],
   "source": [
    "# inheritance \n",
    "# Base class (superclass)\n",
    "\n",
    "class Animal:\n",
    "    def __init__(self, name):\n",
    "        self.name = name\n",
    "\n",
    "    def speak(self):\n",
    "        return f\"{self.name} makes a sound\"\n",
    "    \n",
    "class Dog(Animal):\n",
    "    def speak(self):\n",
    "        return f\"{self.name} barks\" \n",
    "    \n",
    "class Cat(Animal):\n",
    "    def speak(self):\n",
    "        return f\"{self.name} meows\"\n",
    "     \n",
    "dog = Dog(\"Johnny\")\n",
    "cat = Cat(\"Elizabeth\")\n",
    "\n",
    "print(dog.speak())\n",
    "print(cat.speak())\n",
    "\n"
   ]
  },
  {
   "cell_type": "code",
   "execution_count": 4,
   "metadata": {},
   "outputs": [
    {
     "name": "stdout",
     "output_type": "stream",
     "text": [
      "Area of the circle: 706.5\n"
     ]
    }
   ],
   "source": [
    "#Assognment 1: Calculate the area based on shape \n",
    "#create a parent class to ask for the shape\n",
    "#create a subclass for calculating area of shape\n",
    "\n",
    "class Shape:\n",
    "    def __init__(self, shape):\n",
    "        self.shape = shape\n",
    "\n",
    "    def calculate_area(self):\n",
    "        pass\n",
    "\n",
    "class Circle(Shape):\n",
    "    def __init__(self, shape, radius):\n",
    "        super().__init__(shape)\n",
    "        self.radius = radius\n",
    "\n",
    "    def calculate_area(self):\n",
    "        return 3.14 * self.radius * self.radius\n",
    "    \n",
    "class Rectangle(Shape):\n",
    "    def __init__(self, shape, length, breadth):\n",
    "        super().__init__(shape)\n",
    "        self.length = length\n",
    "        self.breadth = breadth\n",
    "\n",
    "    def calculate_area(self):\n",
    "        return self.length * self.breadth\n",
    "    \n",
    "shape = input(\"Enter the shape (Circle/Rectangle): \")\n",
    "if shape == \"Circle\":\n",
    "    radius = float(input(\"Enter the radius: \"))\n",
    "    circle = Circle(shape, radius)\n",
    "    print(f\"Area of the circle: {circle.calculate_area()}\")\n",
    "elif shape == \"Rectangle\":\n",
    "    length = float(input(\"Enter the length: \"))\n",
    "    breadth = float(input(\"Enter the breadth: \"))\n",
    "    rectangle = Rectangle(shape, length, breadth)\n",
    "    print(f\"Area of the rectangle: {rectangle.calculate_area()}\")\n",
    "else:\n",
    "    print(\"Invalid shape\")\n",
    "\n",
    "\n",
    "\n"
   ]
  },
  {
   "cell_type": "code",
   "execution_count": 8,
   "metadata": {},
   "outputs": [
    {
     "name": "stdout",
     "output_type": "stream",
     "text": [
      "Shape: Circle\n",
      "Area: 5024.0\n"
     ]
    }
   ],
   "source": [
    "#Assognment 1: Calculate the area based on shape \n",
    "#create a parent class to ask for the shape\n",
    "#create a subclass for calculating area of shape\n",
    "\n",
    "# class shape: \n",
    "#     Attributes: shape_name=\"\"\n",
    "#     Method:\n",
    "#     user_shape()\n",
    "#     Ask user what shape to work with \n",
    "\n",
    "# class shape_area(shape):\n",
    "#     Attributes: area\n",
    "#     Method:\n",
    "#     calculate_area()\n",
    "#         based on shape, use if else statement to ask for radius /length from user. \n",
    "#         calculate area appropriately \n",
    "#     display_area()\n",
    "#          print name of shape [use shape_name variable value form class shape]\n",
    "#         print area\n",
    "\n",
    "class shape:\n",
    "    shape_name = \"\"\n",
    "\n",
    "    def user_shape(self):\n",
    "        self.shape_name = input(\"Enter the shape (Circle/Rectangle): \")\n",
    "\n",
    "class shape_area(shape):\n",
    "    area = 0\n",
    "\n",
    "    def calculate_area(self):\n",
    "        if self.shape_name == \"Circle\":\n",
    "            radius = float(input(\"Enter the radius: \"))\n",
    "            self.area = 3.14 * radius * radius\n",
    "        elif self.shape_name == \"Rectangle\":\n",
    "            length = float(input(\"Enter the length: \"))\n",
    "            breadth = float(input(\"Enter the breadth: \"))\n",
    "            self.area = length * breadth\n",
    "\n",
    "    def display_area(self):\n",
    "        print(f\"Shape: {self.shape_name}\")\n",
    "        print(f\"Area: {self.area}\")\n",
    "\n",
    "shape1 = shape_area()\n",
    "shape1.user_shape()\n",
    "shape1.calculate_area()\n",
    "shape1.display_area()\n"
   ]
  },
  {
   "cell_type": "code",
   "execution_count": 1,
   "metadata": {},
   "outputs": [
    {
     "name": "stdout",
     "output_type": "stream",
     "text": [
      "Dog constructor\n",
      "Animal constructor\n",
      "Cat constructor\n",
      "Animal constructor\n"
     ]
    }
   ],
   "source": [
    "class Animal:\n",
    "    def __init__(self, name):\n",
    "        print(\"Animal constructor\")\n",
    "        self.name = name\n",
    "\n",
    "    def speak(self):\n",
    "        return f\"{self.name} makes a sound\"\n",
    "    \n",
    "class Dog(Animal):\n",
    "    def __init__(self, name, breed):\n",
    "        print(\"Dog constructor\")\n",
    "        super().__init__(name)\n",
    "        self.breed = breed\n",
    "\n",
    "    def speak(self):\n",
    "        return f\"{self.name} barks\"\n",
    "\n",
    "class Cat(Animal):\n",
    "    def __init__(self, name, color):\n",
    "        print(\"Cat constructor\")\n",
    "        super().__init__(name)\n",
    "        self.color = color\n",
    "\n",
    "    def speak(self):\n",
    "        return f\"{self.name} meows\"\n",
    "    \n",
    "dog = Dog(\"Johnny\", \"Labrador\")\n",
    "cat = Cat(\"Elizabeth\", \"White\")\n"
   ]
  },
  {
   "cell_type": "code",
   "execution_count": 7,
   "metadata": {},
   "outputs": [
    {
     "name": "stdout",
     "output_type": "stream",
     "text": [
      "Electric Vehicle\n",
      "2.0\n",
      "Fuel Car\n",
      "20.0\n"
     ]
    }
   ],
   "source": [
    "# Parent classs: Car \n",
    "\n",
    "# Attributes: \n",
    "# make(string): The make or brand of the car(e.g., Tesla,Toyota).\n",
    "# model(string): The model of the car (e.g.,Model 3, Corolla)\n",
    "# distance_traveled(float): The distance traveled by the car in kilometers\n",
    "\n",
    "# Methods:\n",
    "# calculate_mileage(): This will be overridden by the child classes to  calculate mileage using their respective formulas\n",
    "\n",
    "class Car:\n",
    "    def __init__(self, make, model):\n",
    "        self.make = make\n",
    "        self.model = model\n",
    "        self.distance_traveled = 0.0\n",
    "\n",
    "    def calculate_mileage(self):\n",
    "        pass \n",
    "\n",
    "# Child Class: Electric_Vehicle(inherits from car)\n",
    "# Additional Attribute:\n",
    "#     energy_consumed(float): The energy consumed by the EV in kilowatt-hours(kWh)\n",
    "\n",
    "# Method to Override: \n",
    "#     calculate_mileage():\n",
    "\n",
    "\n",
    "# Formula: \n",
    "#     mileage(km/kWh) = distance_traveled/energy_consumed\n",
    "\n",
    "#Without using super class method\n",
    "\n",
    "class Electric_Vehicle(Car):\n",
    "    def __init__(self, make, model, energy_consumed):\n",
    "        self.energy_consumed = energy_consumed\n",
    "        super().__init__(make, model)\n",
    "\n",
    "    def calculate_mileage(self):\n",
    "        return self.distance_traveled / self.energy_consumed\n",
    "    \n",
    "\n",
    "print(\"Electric Vehicle\")\n",
    "ev = Electric_Vehicle(\"Tesla\", \"Model 3\", 100)\n",
    "ev.distance_traveled = 200\n",
    "print(ev.calculate_mileage())\n",
    "\n",
    "\n",
    "# Child Class: Fuel_car(inherits from car)\n",
    "# Additional Attribute:\n",
    "#     fuel_consumed(float): The fuel consumed by the car in liters\n",
    "\n",
    "# Method to Override:\n",
    "#     calculate_mileage():\n",
    "\n",
    "# Formula:\n",
    "#     mileage(km/l) = distance_traveled/fuel_consumed\n",
    "\n",
    "class Fuel_Car(Car):\n",
    "    def __init__(self, make, model, fuel_consumed):\n",
    "        self.fuel_consumed = fuel_consumed\n",
    "        super().__init__(make, model)\n",
    "\n",
    "    def calculate_mileage(self):\n",
    "        return self.distance_traveled / self.fuel_consumed\n",
    "print(\"Fuel Car\")\n",
    "fc = Fuel_Car(\"Toyota\", \"Corolla\", 10)\n",
    "fc.distance_traveled = 200\n",
    "print(fc.calculate_mileage())\n",
    "\n",
    "    \n",
    "\n",
    "\n",
    "\n",
    "\n"
   ]
  },
  {
   "cell_type": "code",
   "execution_count": 12,
   "metadata": {},
   "outputs": [
    {
     "name": "stdout",
     "output_type": "stream",
     "text": [
      "milage for EV:  2.0\n",
      "milage for FC:  20.0\n"
     ]
    }
   ],
   "source": [
    "#Assignment 2: \n",
    "# Define Car class: \n",
    "#     it should initialize with the car's make,model, and distance traveled.\n",
    "#     It should have a calculate_mileage() method. -print statement printing some random text \n",
    "\n",
    "# Define the Electric_Vehicle class that inherits from Car: \n",
    "# it should initialize with the car's make,model, distance traveled, and energy consumed.set\n",
    "# get_car_details()\n",
    "\n",
    "# Override the calculate_mileage() method to calculate the mileage using the formua for EVs.\n",
    "\n",
    "# Define the Fuel_Car class that inherits from Car:\n",
    "# It should initialize with the car's make,model, distance traveled,and fuel consumed.set\n",
    "# override the calculate_mileage() method to calculate the mileage using the formula for fuel cars.\n",
    "    \n",
    "# write a script that:\n",
    "# Creates one object for each type of car(Electric_Vehicle, Fuel_Car)\n",
    "# Uses the calculate_mileage() method to print the mileage for both cars, demonstrating polymorphism.\n",
    "\n",
    "class Car:\n",
    "    def __init__(self, make, model, distance_traveled):\n",
    "        self.make = make\n",
    "        self.model = model\n",
    "        self.distance_traveled = distance_traveled\n",
    "\n",
    "    def calculate_mileage(self):\n",
    "        print(\"Random text\")\n",
    "\n",
    "class Electric_Vehicle(Car):\n",
    "    def __init__(self, make, model, distance_traveled, energy_consumed):\n",
    "        self.energy_consumed = energy_consumed\n",
    "        super().__init__(make, model, distance_traveled)\n",
    "\n",
    "    def calculate_mileage(self):\n",
    "        return self.distance_traveled / self.energy_consumed\n",
    "    \n",
    "class Fuel_Car(Car):\n",
    "    def __init__(self, make, model, distance_traveled, fuel_consumed):\n",
    "        self.fuel_consumed = fuel_consumed\n",
    "        super().__init__(make, model, distance_traveled)\n",
    "\n",
    "    def calculate_mileage(self):\n",
    "        return self.distance_traveled / self.fuel_consumed\n",
    "    \n",
    "ev = Electric_Vehicle(\"Tesla\", \"Model 3\", 200, 100)\n",
    "print(\"milage for EV: \", ev.calculate_mileage())\n",
    "\n",
    "fc = Fuel_Car(\"Toyota\", \"Corolla\", 200, 10)\n",
    "print(\"milage for FC: \", fc.calculate_mileage())\n",
    "\n"
   ]
  },
  {
   "cell_type": "code",
   "execution_count": 13,
   "metadata": {},
   "outputs": [
    {
     "name": "stdout",
     "output_type": "stream",
     "text": [
      "milage for EV:  2.0\n",
      "milage for FC:  20.0\n"
     ]
    }
   ],
   "source": [
    "class Car:\n",
    "    def __init__(self, make, model, distance_traveled):\n",
    "        self.make = make\n",
    "        self.model = model\n",
    "        self.distance_traveled = distance_traveled\n",
    "\n",
    "    def calculate_mileage(self):\n",
    "        print(\"Random text\")\n",
    "\n",
    "class Electric_Vehicle(Car):\n",
    "    def __init__(self, make, model, distance_traveled, energy_consumed):\n",
    "        self.energy_consumed = energy_consumed\n",
    "        self.model = model\n",
    "        self.distance_traveled = distance_traveled\n",
    "\n",
    "\n",
    "    def calculate_mileage(self):\n",
    "        return self.distance_traveled / self.energy_consumed\n",
    "    \n",
    "class Fuel_Car(Car):\n",
    "    def __init__(self, make, model, distance_traveled, fuel_consumed):\n",
    "        self.fuel_consumed = fuel_consumed\n",
    "        self.model = model\n",
    "        self.distance_traveled = distance_traveled\n",
    "\n",
    "\n",
    "    def calculate_mileage(self):\n",
    "        return self.distance_traveled / self.fuel_consumed\n",
    "    \n",
    "ev = Electric_Vehicle(\"Tesla\", \"Model 3\", 200, 100)\n",
    "print(\"milage for EV: \", ev.calculate_mileage())\n",
    "\n",
    "fc = Fuel_Car(\"Toyota\", \"Corolla\", 200, 10)\n",
    "print(\"milage for FC: \", fc.calculate_mileage())\n"
   ]
  },
  {
   "cell_type": "code",
   "execution_count": 21,
   "metadata": {},
   "outputs": [
    {
     "name": "stdout",
     "output_type": "stream",
     "text": [
      "Addition result: 8\n",
      "Multiplication result: 15\n"
     ]
    }
   ],
   "source": [
    "#Class parent_A \n",
    "#Attributes: num1,num2 \n",
    "# Method: \n",
    "#     __init__: to get values of numbers\n",
    "#     math_operation(): add both numbers, print result\n",
    "# #Class child_B \n",
    "# Method: \n",
    "# math_operation(): multiply both numbers, print result\n",
    "# use super() keyword to add both numbrs\n",
    "\n",
    "\n",
    "class parent_A:\n",
    "    def __init__(self, num1, num2):\n",
    "        self.num1 = num1\n",
    "        self.num2 = num2\n",
    "\n",
    "    def math_operation(self):\n",
    "        result = self.num1 + self.num2\n",
    "        print(f\"Addition result: {result}\")\n",
    "\n",
    "class child_B(parent_A):\n",
    "    def math_operation(self):\n",
    "        super().math_operation()\n",
    "        result = self.num1 * self.num2\n",
    "        print(f\"Multiplication result: {result}\")\n",
    "\n",
    "\n",
    "b = child_B(3, 5)\n",
    "b.math_operation()\n"
   ]
  },
  {
   "cell_type": "markdown",
   "metadata": {},
   "source": [
    "# 11/10/24"
   ]
  },
  {
   "cell_type": "code",
   "execution_count": null,
   "metadata": {},
   "outputs": [],
   "source": [
    "class car:\n",
    "    def __init__(self, make, model):\n",
    "        self.make = make\n",
    "        self.model = model\n",
    "        self.year = year \n",
    "\n",
    "    def display_info(self):\n",
    "        return f\"{self.make} {self.model}, Year: {self.year}\"\n",
    "        def get_year(self):\n",
    "            return self.year\n",
    "        \n",
    "        my_car = car(\"Toyota\", \"Corolla\" 2020)\n",
    "        print(my_car.display_info())\n",
    "\n",
    "        my_car.year = (1999)\n",
    "        print(my_car.display_info())\n"
   ]
  },
  {
   "cell_type": "code",
   "execution_count": 3,
   "metadata": {},
   "outputs": [
    {
     "name": "stdout",
     "output_type": "stream",
     "text": [
      "Addition result: 8\n",
      "Multiplication result: 15\n"
     ]
    }
   ],
   "source": [
    "# class parent_A\n",
    "# Attribute : private class variables : num1,num2\n",
    "# method :\n",
    "# __init__ : to get values of numbers\n",
    "# math_operations() : add both numbers, print result\n",
    "\n",
    "# class child_B\n",
    "# method :\n",
    "# math_operaton() : multiply both numbers, print result\n",
    "# use super() keyword to add both numbers\n",
    "\n",
    "class parent_A:\n",
    "    def __init__(self, num1, num2):\n",
    "        self.__num1 = num1\n",
    "        self.__num2 = num2\n",
    "\n",
    "    def math_operation(self):\n",
    "        result = self.__num1 + self.__num2\n",
    "        print(f\"Addition result: {result}\")\n",
    "\n",
    "class child_B(parent_A):\n",
    "    def math_operation(self):\n",
    "        super().math_operation()\n",
    "        result = self._parent_A__num1 * self._parent_A__num2\n",
    "        print(f\"Multiplication result: {result}\")\n",
    "\n",
    "b = child_B(3, 5)\n",
    "b.math_operation()  \n"
   ]
  },
  {
   "cell_type": "code",
   "execution_count": 9,
   "metadata": {},
   "outputs": [
    {
     "name": "stdout",
     "output_type": "stream",
     "text": [
      "Addition result: 8\n",
      "Multiplication result: 200\n"
     ]
    }
   ],
   "source": [
    "#Assignmnt 2 \n",
    "# Add 2 protected integer variables in parent_A \n",
    "# Initialize them to some integer values \n",
    "# Multiply them inside the method math_operation() form child_B \n",
    "\n",
    "class parent_A:\n",
    "    def __init__(self, num1, num2):\n",
    "        self.__num1 = num1\n",
    "        self.__num2 = num2\n",
    "        self._num3 = 10\n",
    "        self._num4 = 20\n",
    "\n",
    "    def math_operation(self):\n",
    "        result = self.__num1 + self.__num2\n",
    "        print(f\"Addition result: {result}\")\n",
    "\n",
    "class child_B(parent_A):\n",
    "\n",
    "    def math_operation(self):\n",
    "        super().math_operation()\n",
    "        result = self._num3 * self._num4\n",
    "        print(f\"Multiplication result: {result}\")\n",
    "        #print(f\"Accessing protected variables: {self._num3} and {self._num4}\")\n",
    "        #print(f\"Accessing private variables: {self._parent_A__num1} and {self._parent_A__num2}\")\n",
    "\n",
    "b = child_B(3, 5)\n",
    "b.math_operation()\n",
    "\n"
   ]
  },
  {
   "cell_type": "code",
   "execution_count": 1,
   "metadata": {},
   "outputs": [
    {
     "name": "stdout",
     "output_type": "stream",
     "text": [
      "Addition result: 8\n",
      "Multiplication result: 200\n",
      "Multiplication result: 1200\n"
     ]
    }
   ],
   "source": [
    "# # Assignment 3: \n",
    "# Add 2 public integer variabes in parent_A\n",
    "# Initialize them to some integer values \n",
    "# Multiply them inside the metthod math_operation() from child_B\n",
    "# multiply them from outside the methods of class.\n",
    "\n",
    "class parent_A:\n",
    "    def __init__(self, num1, num2):\n",
    "        self.__num1 = num1\n",
    "        self.__num2 = num2\n",
    "        self._num3 = 10\n",
    "        self._num4 = 20\n",
    "        self.num5 = 30\n",
    "        self.num6 = 40\n",
    "\n",
    "    def math_operation(self):\n",
    "        result = self.__num1 + self.__num2\n",
    "        print(f\"Addition result: {result}\")\n",
    "\n",
    "class child_B(parent_A):\n",
    "    def math_operation(self):\n",
    "        super().math_operation()\n",
    "        result = self._num3 * self._num4\n",
    "        print(f\"Multiplication result: {result}\")\n",
    "\n",
    "b = child_B(3, 5)\n",
    "b.math_operation()\n",
    "result = b.num5 * b.num6\n",
    "print(f\"Multiplication result: {result}\")\n",
    "\n",
    "\n"
   ]
  },
  {
   "cell_type": "code",
   "execution_count": 3,
   "metadata": {},
   "outputs": [
    {
     "ename": "SyntaxError",
     "evalue": "invalid syntax (2771803689.py, line 1)",
     "output_type": "error",
     "traceback": [
      "\u001b[0;36m  Cell \u001b[0;32mIn[3], line 1\u001b[0;36m\u001b[0m\n\u001b[0;31m    form abc import ABC, abstractmethod\u001b[0m\n\u001b[0m         ^\u001b[0m\n\u001b[0;31mSyntaxError\u001b[0m\u001b[0;31m:\u001b[0m invalid syntax\n"
     ]
    }
   ],
   "source": [
    "form abc import ABC, abstractmethod\n",
    "class Animal(ABC):\n",
    "    @abstractmethod\n",
    "    def speak(self):\n",
    "        pass\n",
    "\n",
    "class Dog(Animal):\n",
    "    def speak(self):\n",
    "        return \"Dog barks\"\n",
    "    \n",
    "    class Cat(Animal):\n",
    "        def speak(self):\n",
    "            return \"Cat meows\"\n",
    "            \n",
    "dog = Dog()\n",
    "print(dog.speak())\n",
    "cat = Cat()\n",
    "print(cat.speak())\n"
   ]
  },
  {
   "cell_type": "code",
   "execution_count": 9,
   "metadata": {},
   "outputs": [
    {
     "name": "stdout",
     "output_type": "stream",
     "text": [
      "Dog barks\n"
     ]
    }
   ],
   "source": [
    "class Animal:\n",
    "    def speak(self):\n",
    "        print(\"Animal speaks\")  \n",
    "\n",
    "class Mammal(Animal):\n",
    "    def speak(self):\n",
    "        print(\"Mammal speaks\")\n",
    "\n",
    "class Dog(Mammal):\n",
    "    def speak(self):\n",
    "        print(\"Dog barks\")\n",
    "\n",
    "\n",
    "dog = Dog()\n",
    "dog.speak()\n"
   ]
  },
  {
   "cell_type": "code",
   "execution_count": 13,
   "metadata": {},
   "outputs": [
    {
     "name": "stdout",
     "output_type": "stream",
     "text": [
      "buddy barks\n",
      "kitty meows\n",
      "tweetie chirps\n"
     ]
    }
   ],
   "source": [
    "class Dog(Animal):\n",
    "    def __init__(self, name):\n",
    "        self.name = name\n",
    "\n",
    "    def speak(self):\n",
    "        return f\"{self.name} barks\"\n",
    "    \n",
    "class Cat(Animal):\n",
    "    def __init__(self, name):\n",
    "        self.name = name\n",
    "\n",
    "    def speak(self):\n",
    "        return f\"{self.name} meows\"\n",
    "    \n",
    "class Bird(Animal):\n",
    "    def __init__(self, name):\n",
    "        self.name = name\n",
    "\n",
    "    def speak(self):\n",
    "        return f\"{self.name} chirps\"\n",
    "    \n",
    "dog = Dog(\"buddy\")\n",
    "cat = Cat(\"kitty\")\n",
    "bird = Bird(\"tweetie\")\n",
    "\n",
    "print(dog.speak())\n",
    "print(cat.speak())\n",
    "print(bird.speak())"
   ]
  },
  {
   "cell_type": "code",
   "execution_count": 1,
   "metadata": {},
   "outputs": [],
   "source": [
    "# Assignmet 4: Use abstract classes to manage a vehicle system and enforce method implementation acress various vehicle types. \n",
    "\n",
    "# Tasks. \n",
    "# Create an abstract class Vehicle  with the following abstract methods:\n",
    "#     start(): to start the vehicle \n",
    "#     stop(): to stop the vehicle\n",
    "\n",
    "# Implement three subclasses: Car,Bike,and Bus, each with custom implementations for start() and stop().count\n",
    "\n",
    "# Create a Garage class that can add vehicles and call their start() and stop() methods. \n",
    "\n",
    "# Demonstrate adding different vehicles type to the garbage and operating them.\n",
    "\n",
    "from abc import ABC, abstractmethod\n",
    "\n",
    "class Vehicle(ABC):\n",
    "    @abstractmethod\n",
    "    def start(self):\n",
    "        pass\n",
    "\n",
    "    @abstractmethod\n",
    "    def stop(self):\n",
    "        pass\n",
    "\n",
    "class Car(Vehicle):\n",
    "    def start(self):\n",
    "        print(\"Car started\")\n",
    "\n",
    "    def stop(self):\n",
    "        print(\"Car stopped\")\n",
    "\n",
    "class Bike(Vehicle):\n",
    "    def start(self):\n",
    "        print(\"Bike started\")\n",
    "\n",
    "    def stop(self):\n",
    "        print(\"Bike stopped\")\n",
    "\n",
    "class Bus(Vehicle):\n",
    "    def start(self):\n",
    "        print(\"Bus started\")\n",
    "\n",
    "    def stop(self):\n",
    "        print(\"Bus stopped\")\n",
    "\n",
    "#class Garage:\n",
    "    def __init__(self):\n",
    "        self.vehicles = []\n",
    "\n",
    "    def add_vehicle(self, vehicle):\n",
    "        self.vehicles.append(vehicle)\n",
    "\n",
    "    def operate_vehicles(self):\n",
    "        for vehicle in self.vehicles:\n",
    "            vehicle.start()\n",
    "            vehicle.stop()\n",
    "\n",
    "#garage = Garage()\n",
    "car = Car()\n",
    "bike = Bike()\n",
    "bus = Bus()\n",
    "# garage.add_vehicle(car)\n",
    "# garage.add_vehicle(bike)\n",
    "# garage.add_vehicle(bus)\n",
    "#garage.operate_vehicles()\n",
    "\n"
   ]
  },
  {
   "cell_type": "code",
   "execution_count": 8,
   "metadata": {},
   "outputs": [
    {
     "name": "stdout",
     "output_type": "stream",
     "text": [
      "Guest added item1 to the cart\n",
      "Guest user cannot checkout\n",
      "RegisteredUser added item2 to the cart\n",
      "RegisteredUser checked out. Final total: 100\n"
     ]
    }
   ],
   "source": [
    "#Class GusetUser (inherits form user):\n",
    "# Guests can add items to the cart but cannot processed to checkout. \n",
    "# Class RegisterdUser (inherits from user):\n",
    "# Additional Attribute:\n",
    "#     address(string)\n",
    "\n",
    "# Methods:\n",
    "#     checkout: Allow the user to processed to checkout by printing the final totol and deducting the product stock\n",
    "\n",
    "\n",
    "class User:\n",
    "    def __init__(self, name):\n",
    "        self.name = name\n",
    "            \n",
    "    def add_to_cart(self, item):\n",
    "        print(f\"{self.name} added {item} to the cart\")\n",
    "\n",
    "class GuestUser(User):\n",
    "    def __init__(self, name):\n",
    "        super().__init__(name)\n",
    "            \n",
    "    def checkout(self):\n",
    "        print(\"Guest user cannot checkout\")\n",
    "\n",
    "class RegisteredUser(User):\n",
    "    def __init__(self, name, address):\n",
    "        super().__init__(name)\n",
    "        self.address = address\n",
    "            \n",
    "    def checkout(self, total):\n",
    "        print(f\"{self.name} checked out. Final total: {total}\")\n",
    "\n",
    "guest = GuestUser(\"Guest\")\n",
    "guest.add_to_cart(\"item1\")\n",
    "guest.checkout()\n",
    "\n",
    "registered = RegisteredUser(\"RegisteredUser\", \"123 Main St\")\n",
    "registered.add_to_cart(\"item2\")\n",
    "registered.checkout(100)\n",
    "\n",
    "\n",
    "\n"
   ]
  },
  {
   "cell_type": "code",
   "execution_count": 9,
   "metadata": {},
   "outputs": [
    {
     "name": "stdout",
     "output_type": "stream",
     "text": [
      "{'price': 10, 'qty': 20, 'country_of_origin': 'India'}\n"
     ]
    }
   ],
   "source": [
    "#Class Product: \n",
    "# Attributes: \n",
    "#     Class variable: Product_list \n",
    "#     {name: {price:12,qty:20,country_of_origin:\"india\"}}\n",
    "#     Inatance variables: \n",
    "#     name(string)\n",
    "#     price(float)\n",
    "#     stock(integer)-the quantitiy of the product available \n",
    "#     country_of_origin(string)\n",
    "\n",
    "# Method: \n",
    "# __init__: initialize the product attributes and add to dictionary. \n",
    "# get_details: Return the product details in dictionary format.\n",
    "\n",
    "class Product:\n",
    "    Product_list = {}\n",
    "\n",
    "    def __init__(self, name, price, stock, country_of_origin):\n",
    "        self.name = name\n",
    "        self.price = price\n",
    "        self.stock = stock\n",
    "        self.country_of_origin = country_of_origin\n",
    "        Product.Product_list[name] = {\"price\": price, \"qty\": stock, \"country_of_origin\": country_of_origin}\n",
    "\n",
    "    def get_details(self):\n",
    "        return Product.Product_list[self.name]\n",
    "    \n",
    "product1 = Product(\"item1\", 10, 20, \"India\")\n",
    "print(product1.get_details())\n",
    "\n"
   ]
  },
  {
   "cell_type": "code",
   "execution_count": 16,
   "metadata": {},
   "outputs": [
    {
     "name": "stdout",
     "output_type": "stream",
     "text": [
      "{'item1': {'price': 10, 'qty': 20, 'country_of_origin': 'India'}}\n",
      "{'item1': 2}\n",
      "20\n",
      "{'item1': 3}\n",
      "30\n",
      "Guest user cannot checkout\n",
      "{'item1': 4}\n",
      "40\n",
      "RegisteredUser checked out. Final total: 40\n",
      "{'item1': {'price': 10, 'qty': 16, 'country_of_origin': 'India'}}\n"
     ]
    }
   ],
   "source": [
    "# #Assignment 6:Build an online shoppin system \n",
    "# operations: \n",
    "# create procuct instances (stored in a dictionary).\n",
    "# allow a user( either guest or registered) to:\n",
    "#     view products. \n",
    "#     add products to the cart(ensure sufficient stock).\n",
    "#     View the cart and total price. \n",
    "#     if the user is registered, they should be able to processed to checkout, reducing the stock of purchased products\n",
    "\n",
    "class Product:\n",
    "    Product_list = {}\n",
    "\n",
    "    def __init__(self, name, price, stock, country_of_origin):\n",
    "        self.name = name\n",
    "        self.price = price\n",
    "        self.stock = stock\n",
    "        self.country_of_origin = country_of_origin\n",
    "        Product.Product_list[name] = {\"price\": price, \"qty\": stock, \"country_of_origin\": country_of_origin}\n",
    "\n",
    "    def get_details(self):\n",
    "        return Product.Product_list[self.name]\n",
    "    \n",
    "class User:\n",
    "    def __init__(self, name):\n",
    "        self.name = name\n",
    "        self.cart = {}\n",
    "\n",
    "    def view_products(self):\n",
    "        return Product.Product_list\n",
    "\n",
    "    def add_to_cart(self, product, qty):\n",
    "        if product in self.cart:\n",
    "            self.cart[product] += qty\n",
    "        else:\n",
    "            self.cart[product] = qty\n",
    "\n",
    "    def view_cart(self):\n",
    "        return self.cart\n",
    "    \n",
    "    def view_total(self):\n",
    "        total = 0\n",
    "        for product, qty in self.cart.items():\n",
    "            total += Product.Product_list[product][\"price\"] * qty\n",
    "        return total\n",
    "    \n",
    "class GuestUser(User):\n",
    "    def __init__(self, name):\n",
    "        super().__init__(name)\n",
    "            \n",
    "    def checkout(self):\n",
    "        print(\"Guest user cannot checkout\")\n",
    "\n",
    "class RegisteredUser(User):\n",
    "\n",
    "    def __init__(self, name, address):\n",
    "        super().__init__(name)\n",
    "        self.address = address\n",
    "            \n",
    "    def checkout(self):\n",
    "        for product, qty in self.cart.items():\n",
    "            Product.Product_list[product][\"qty\"] -= qty\n",
    "        print(f\"{self.name} checked out. Final total: {self.view_total()}\")\n",
    "\n",
    "product1 = Product(\"item1\", 10, 20, \"India\")\n",
    "\n",
    "user = User(\"User\")\n",
    "print(user.view_products())\n",
    "\n",
    "user.add_to_cart(\"item1\", 2)\n",
    "print(user.view_cart())\n",
    "print(user.view_total())\n",
    "\n",
    "guest = GuestUser(\"Guest\")\n",
    "guest.add_to_cart(\"item1\", 3)\n",
    "print(guest.view_cart())\n",
    "print(guest.view_total())\n",
    "guest.checkout()\n",
    "\n",
    "registered = RegisteredUser(\"RegisteredUser\", \"123 Main St\")\n",
    "registered.add_to_cart(\"item1\", 4)\n",
    "print(registered.view_cart())\n",
    "print(registered.view_total())\n",
    "registered.checkout()\n",
    "print(Product.Product_list)\n",
    "\n",
    "\n",
    "    "
   ]
  },
  {
   "cell_type": "code",
   "execution_count": 17,
   "metadata": {},
   "outputs": [
    {
     "name": "stdout",
     "output_type": "stream",
     "text": [
      "Guest added item1 to the cart\n",
      "Guest user cannot checkout\n",
      "RegisteredUser added item2 to the cart\n",
      "RegisteredUser checked out. Final total: 100\n"
     ]
    }
   ],
   "source": [
    "# Class GuestUser (inherits from User):\n",
    "# Guests can add items to the cart but cannot processed to checkout. \n",
    "\n",
    "# Class RegisteredUser (inherits from User):\n",
    "# Additional Attribute: \n",
    "#     address(string)\n",
    "\n",
    "# Methods:\n",
    "#     checkout: Allow the user to processed to checkout by printing the final total and deducting the product stock\n",
    "\n",
    "class User:\n",
    "    def __init__(self, name):\n",
    "        self.name = name\n",
    "\n",
    "    def add_to_cart(self, item):\n",
    "        print(f\"{self.name} added {item} to the cart\")\n",
    "\n",
    "class GuestUser(User):\n",
    "    def __init__(self, name):\n",
    "        super().__init__(name)\n",
    "\n",
    "    def checkout(self):\n",
    "        print(\"Guest user cannot checkout\")\n",
    "\n",
    "class RegisteredUser(User):\n",
    "    def __init__(self, name, address):\n",
    "        super().__init__(name)\n",
    "        self.address = address\n",
    "\n",
    "    def checkout(self, total):\n",
    "        print(f\"{self.name} checked out. Final total: {total}\")\n",
    "\n",
    "\n",
    "guest = GuestUser(\"Guest\")\n",
    "guest.add_to_cart(\"item1\")\n",
    "guest.checkout()\n",
    "\n",
    "registered = RegisteredUser(\"RegisteredUser\", \"123 Main St\")\n",
    "registered.add_to_cart(\"item2\")\n",
    "registered.checkout(100)\n",
    "\n"
   ]
  },
  {
   "cell_type": "code",
   "execution_count": 20,
   "metadata": {},
   "outputs": [
    {
     "name": "stdout",
     "output_type": "stream",
     "text": [
      "{'item1': {'price': 10.0, 'qty': 20, 'country_of_origin': 'India'}, 'item2': {'price': 20.0, 'qty': 30, 'country_of_origin': 'USA'}, 'item3': {'price': 30.0, 'qty': 40, 'country_of_origin': 'China'}}\n",
      "{'item1': 2}\n",
      "20.0\n",
      "{'item1': 3}\n",
      "30.0\n",
      "Guest user cannot checkout\n",
      "{'item1': 4}\n",
      "40.0\n",
      "RegisteredUser checked out. Final total: 40.0\n",
      "{'item1': {'price': 10.0, 'qty': 16, 'country_of_origin': 'India'}, 'item2': {'price': 20.0, 'qty': 30, 'country_of_origin': 'USA'}, 'item3': {'price': 30.0, 'qty': 40, 'country_of_origin': 'China'}}\n"
     ]
    }
   ],
   "source": [
    "# Challange:\n",
    "# Read contents of products form a csv file .Populate dictionary of products using these details. sample csv file: \n",
    "\n",
    "# name,price,qty,origin\n",
    "# item1,10,20,India\n",
    "# item2,20,30,USA\n",
    "# item3,30,40,China\n",
    "\n",
    "# filename:data.csv\n",
    "\n",
    "\n",
    "import csv\n",
    "\n",
    "class Product:\n",
    "    Product_list = {}\n",
    "\n",
    "    def __init__(self, name, price, stock, country_of_origin):\n",
    "        self.name = name\n",
    "        self.price = price\n",
    "        self.stock = stock\n",
    "        self.country_of_origin = country_of_origin\n",
    "        Product.Product_list[name] = {\"price\": price, \"qty\": stock, \"country_of_origin\": country_of_origin}\n",
    "\n",
    "    def get_details(self):\n",
    "        return Product.Product_list[self.name]\n",
    "    \n",
    "class User:\n",
    "    def __init__(self, name):\n",
    "        self.name = name\n",
    "        self.cart = {}\n",
    "\n",
    "    def view_products(self):\n",
    "        return Product.Product_list\n",
    "\n",
    "    def add_to_cart(self, product, qty):\n",
    "        if product in self.cart:\n",
    "            self.cart[product] += qty\n",
    "        else:\n",
    "            self.cart[product] = qty\n",
    "\n",
    "    def view_cart(self):\n",
    "        return self.cart\n",
    "    \n",
    "    def view_total(self):\n",
    "        total = 0\n",
    "        for product, qty in self.cart.items():\n",
    "            total += Product.Product_list[product][\"price\"] * qty\n",
    "        return total\n",
    "    \n",
    "class GuestUser(User):\n",
    "    def __init__(self, name):\n",
    "        super().__init__(name)\n",
    "            \n",
    "    def checkout(self):\n",
    "        print(\"Guest user cannot checkout\")\n",
    "\n",
    "class RegisteredUser(User):\n",
    "    \n",
    "        def __init__(self, name, address):\n",
    "            super().__init__(name)\n",
    "            self.address = address\n",
    "                \n",
    "        def checkout(self):\n",
    "            for product, qty in self.cart.items():\n",
    "                Product.Product_list[product][\"qty\"] -= qty\n",
    "            print(f\"{self.name} checked out. Final total: {self.view_total()}\")\n",
    "\n",
    "with open(\"data.csv\") as file:\n",
    "    reader = csv.reader(file)\n",
    "    next(reader)  # Skip the header row\n",
    "    for row in reader:\n",
    "        if row[0] != \"name\":  # Ensure we skip any header row\n",
    "            product = Product(row[0], float(row[1]), int(row[2]), row[3])\n",
    "\n",
    "user = User(\"User\")\n",
    "print(user.view_products())\n",
    "\n",
    "user.add_to_cart(\"item1\", 2)\n",
    "print(user.view_cart())\n",
    "print(user.view_total())\n",
    "\n",
    "guest = GuestUser(\"Guest\")\n",
    "guest.add_to_cart(\"item1\", 3)\n",
    "print(guest.view_cart())\n",
    "print(guest.view_total())\n",
    "guest.checkout()\n",
    "\n",
    "\n",
    "registered = RegisteredUser(\"RegisteredUser\", \"123 Main St\")\n",
    "registered.add_to_cart(\"item1\", 4)\n",
    "print(registered.view_cart())\n",
    "print(registered.view_total())\n",
    "registered.checkout()\n",
    "print(Product.Product_list)\n",
    "\n",
    "\n",
    "\n"
   ]
  },
  {
   "cell_type": "code",
   "execution_count": 1,
   "metadata": {},
   "outputs": [],
   "source": [
    "# #12/10/2024\n",
    "# Basic syntax - Metachaaracters\n",
    "# . - Any character except newline\n",
    "# ^ - Starts with\n",
    "# $ - Ends with\n",
    "# * - Zero or more occurrences\n",
    "# + - One or more occurrences\n",
    "# ? - Zero or one occurrence\n",
    "# {} - Exactly the specified number of occurrences\n",
    "# [] - A set of characters\n",
    "# | - Either or\n",
    "# () - Capture and group"
   ]
  },
  {
   "cell_type": "code",
   "execution_count": 2,
   "metadata": {},
   "outputs": [
    {
     "name": "stdout",
     "output_type": "stream",
     "text": [
      "Yes, we have a match!\n"
     ]
    }
   ],
   "source": [
    "#Example:\n",
    "\n",
    "import re\n",
    "\n",
    "txt = \"The rain in Spain\"\n",
    "x = re.search(\"^The.*Spain$\", txt)\n",
    "if x:\n",
    "    print(\"Yes, we have a match!\")\n",
    "else:\n",
    "    print(\"No match\")\n",
    "\n",
    "#Assignment 1:\n",
    "# Write a Python program to check that a string contains only a certain set of characters (in this case a-z, A-Z and 0-9).\n",
    "\n",
    "import re\n",
    "\n",
    "def check_string(s):\n",
    "    return bool(re.match(\"^[a-zA-Z0-9]*$\", s))\n",
    "\n"
   ]
  },
  {
   "cell_type": "code",
   "execution_count": 3,
   "metadata": {},
   "outputs": [],
   "source": [
    "#[a-z]: Any lowercase letter\n",
    "#[A-Z]: Any uppercase letter\n",
    "#[0-9]: Any digit\n",
    "#\\d: Any digit\n",
    "#\\D: Any non-digit\n",
    "#\\w: Any alphanumeric character\n",
    "#\\W: Any non-alphanumeric character\n",
    "#\\s: Any whitespace\n",
    "#\\S: Any non-whitespace\n",
    "\n"
   ]
  },
  {
   "cell_type": "code",
   "execution_count": 4,
   "metadata": {},
   "outputs": [
    {
     "name": "stdout",
     "output_type": "stream",
     "text": [
      "['apple', 'cherry', 'date']\n"
     ]
    }
   ],
   "source": [
    "#Write a function find_start_with_lowercase(strings) that takes a list of strings and returns all the strings that start with a lowercase letter(a-z).\n",
    "\n",
    "import re\n",
    "\n",
    "def find_start_with_lowercase(strings):\n",
    "    return [s for s in strings if re.match(\"^[a-z]\", s)]\n",
    "\n",
    "strings = [\"apple\", \"Banana\", \"cherry\", \"date\", \"Eggplant\"]\n",
    "print(find_start_with_lowercase(strings))\n",
    "\n"
   ]
  },
  {
   "cell_type": "code",
   "execution_count": 6,
   "metadata": {},
   "outputs": [
    {
     "name": "stdout",
     "output_type": "stream",
     "text": [
      "['apple', 'cherry', 'date']\n"
     ]
    }
   ],
   "source": [
    "#Write a function find_lowercase_substrings(strings) that takes a list of strings and returns all the substrings that contain only lowercase alphabetic characters, using[a-z]. pattern.\n",
    "\n",
    "import re\n",
    "\n",
    "def find_lowercase_substrings(strings):\n",
    "    return [s for s in strings if re.match(\"^[a-z]*$\", s)]\n",
    "\n",
    "strings = [\"apple\", \"Banana\", \"cherry\", \"date\", \"Eggplant\"]\n",
    "print(find_lowercase_substrings(strings))\n",
    "\n"
   ]
  },
  {
   "cell_type": "code",
   "execution_count": 8,
   "metadata": {},
   "outputs": [
    {
     "name": "stdout",
     "output_type": "stream",
     "text": [
      "['apple', 'cherry', 'date']\n"
     ]
    }
   ],
   "source": [
    "import re\n",
    "\n",
    "def find_lowercase_substrings(strings):\n",
    "    return [s for s in strings if re.match(\"[a-z]+\", s)]\n",
    "\n",
    "strings = [\"apple\", \"Banana\", \"cherry\", \"date\", \"Eggplant\"]\n",
    "print(find_lowercase_substrings(strings))\n",
    "\n"
   ]
  },
  {
   "cell_type": "code",
   "execution_count": 9,
   "metadata": {},
   "outputs": [
    {
     "name": "stdout",
     "output_type": "stream",
     "text": [
      "['hoooray', 'boooom']\n"
     ]
    }
   ],
   "source": [
    "#Assignment Write the function find_exact_repetitions(strings, pattern, n): \n",
    "\n",
    "# This function should loop through each string in the list and use a regular expression pattern to find sequences where the given pattern is repeated exactly n times\n",
    "\n",
    "# input: [\"hello\", \"hoooray\",\"aaaaaa\",\"123456\",\"boooom\"]\n",
    "# n:3\n",
    "# Pattern:'o'\n",
    "\n",
    "\n",
    "import re\n",
    "\n",
    "def find_exact_repetitions(strings, pattern, n):\n",
    "    return [s for s in strings if re.search(f\"{pattern}{{{n}}}\", s)]\n",
    "\n",
    "strings = [\"hello\", \"hoooray\", \"aaaaaa\", \"123456\", \"boooom\"]\n",
    "pattern = \"o\"\n",
    "\n",
    "print(find_exact_repetitions(strings, pattern, 3))\n",
    "\n",
    "#use pattern \"o{3}\" to find the strings where the letter 'o' is repeated exactly 3 time\n",
    "\n"
   ]
  },
  {
   "cell_type": "code",
   "execution_count": 19,
   "metadata": {},
   "outputs": [
    {
     "name": "stdout",
     "output_type": "stream",
     "text": [
      "Start 1st line End\n",
      "Start 3rd line End\n"
     ]
    }
   ],
   "source": [
    "# Assignment 7: Read a file and print lines which begin with \"Start\" and ends with \"End\"\n",
    "\n",
    "# Sample Content for .txt file: \n",
    "\n",
    "\n",
    "# start 1st line End \n",
    "# start 2nd line\n",
    "# start 3rd line End\n",
    "# 4th line end\n",
    "\n",
    "\n",
    "import re\n",
    "\n",
    "with open(\"data.txt\") as file:\n",
    "    for line in file:\n",
    "        line = line.strip()\n",
    "        if re.match(\"^Start.*End$\", line):\n",
    "            print(line)\n",
    "\n",
    "\n"
   ]
  },
  {
   "cell_type": "code",
   "execution_count": 17,
   "metadata": {},
   "outputs": [
    {
     "name": "stdout",
     "output_type": "stream",
     "text": [
      "Start 1st line End\n",
      "Start 3rd line End\n"
     ]
    }
   ],
   "source": [
    "# Assignment 7: Read a file and print lines which begin with \"Start\" and ends with \"End\"\n",
    "\n",
    "# Sample Content for .txt file: \n",
    "\n",
    "\n",
    "# start 1st line End \n",
    "# start 2nd line\n",
    "# start 3rd line End\n",
    "# 4th line end\n",
    "\n",
    "\n",
    "\n",
    "\n",
    "import re\n",
    "def filter_lines(filename): \n",
    "    pattern = r\"^Start.*End$\"\n",
    "    with open(filename, \"r\") as file:\n",
    "        for line in file:\n",
    "            line=line.strip()\n",
    "            if re.match(pattern, line):\n",
    "                print(line)\n",
    "\n",
    "filter_lines(\"data.txt\")\n",
    "\n"
   ]
  },
  {
   "cell_type": "code",
   "execution_count": 49,
   "metadata": {},
   "outputs": [
    {
     "name": "stdout",
     "output_type": "stream",
     "text": [
      "Under the bed, there is a cat!\n",
      "Notes from the metting!\n",
      "1234a5678b89a"
     ]
    }
   ],
   "source": [
    "# Assignmnet 8: Read a file and perform following operations on it: \n",
    "# Task 1: Find and print all words that start with a  vowel (a,e,i,o,u) and end with a consonant(b,c,d,f,g,h,j,k,l,m,n,p,q,r,s,t,v,w,x,y,z).\n",
    "\n",
    "# Task 2: Extract and print all sequences of digits that are followed by a non-digit charactrer. \n",
    "\n",
    "# Task 3: Identify and print all lines that start with the word \"Note\" and end with an exclamation mark.(!)\n",
    "\n",
    "# Contents of file: \n",
    "# Here are some examples: \n",
    "    # Apple pie is delicious\n",
    "    # Under the bed, there is a cat! \n",
    "    # Notes from the metting!\n",
    "    # 1234a5678b89aaa\n",
    "    # Do not forget to check the details!\n",
    "\n",
    "import re\n",
    "\n",
    "def process_file(filename):\n",
    "    with open(filename, \"r\") as file:\n",
    "        for line in file:\n",
    "            line = line.strip()\n",
    "            # Task 1\n",
    "            #print(re.findall(r\"\\b[aeiouAEIOU][a-zA-Z]*[b-df-hj-np-tv-z]\\b\", line))\n",
    "            if re.match(r\"\\b[aeiouAEIOU][a-zA-Z]*[b-df-hj-np-tv-z]\\b\", line):\n",
    "                print(line)\n",
    "            \n",
    "            # Task 2\n",
    "            #print(re.findall(r\"\\d+(?=\\D)\", line))\n",
    "            # if re.findall(r\"\\d+(?=\\D)\", line):\n",
    "            #     print(line)\n",
    "\n",
    "            # using [\\d] + [^\\d] to find the sequences of digits that are followed by a non-digit character\n",
    "            digit_sequences = re.findall(r\"\\d+\\D\", line)\n",
    "            for seq in digit_sequences:\n",
    "                print(seq,end=\"\")\n",
    "\n",
    "                        \n",
    "                        \n",
    "                \n",
    "            # Task 3\n",
    "            #print(re.findall(r\"^Note.*!$\", line))\n",
    "            if re.match(r\"^Note.*!$\", line):\n",
    "                print(line)\n",
    "\n",
    "process_file(\"data1.txt\")\n",
    "\n"
   ]
  },
  {
   "cell_type": "code",
   "execution_count": 51,
   "metadata": {},
   "outputs": [
    {
     "name": "stdout",
     "output_type": "stream",
     "text": [
      "1D Array : [1 2 3 4 5]\n",
      "2D Array:  [[1 2 3]\n",
      " [4 5 6]]\n",
      "3D Array:  [[[ 1  2  3]\n",
      "  [ 4  5  6]]\n",
      "\n",
      " [[ 7  8  9]\n",
      "  [10 11 12]]]\n",
      "Zeros Array:  [[0. 0. 0.]\n",
      " [0. 0. 0.]]\n",
      "Ones Array:  [[1. 1. 1.]\n",
      " [1. 1. 1.]]\n",
      "Full Array:  [[5 5 5]\n",
      " [5 5 5]]\n",
      "Range Array:  [0 2 4 6 8]\n",
      "Step Array:  [ 0.  2.  4.  6.  8. 10.]\n"
     ]
    }
   ],
   "source": [
    "import numpy as np\n",
    "\n",
    "array = np.array([1, 2, 3, 4, 5])\n",
    "print(\"1D Array :\", array)\n",
    "\n",
    "array_2d = np.array([[1, 2, 3], [4, 5, 6]])\n",
    "print(\"2D Array: \", array_2d)\n",
    "\n",
    "array_3d = np.array([[[1, 2, 3], [4, 5, 6]], [[7, 8, 9], [10, 11, 12]]])\n",
    "print(\"3D Array: \", array_3d)\n",
    "\n",
    "zeros = np.zeros((2, 3))\n",
    "print(\"Zeros Array: \", zeros)\n",
    "\n",
    "ones = np.ones((2, 3))\n",
    "print(\"Ones Array: \", ones)\n",
    "\n",
    "full_array = np.full((2, 3), 5)\n",
    "print(\"Full Array: \", full_array)\n",
    "\n",
    "range_array = np.arange(0, 10, 2)\n",
    "print(\"Range Array: \", range_array)\n",
    "\n",
    "step_array = np.linspace(0, 10, 6)\n",
    "print(\"Step Array: \", step_array)\n"
   ]
  },
  {
   "cell_type": "code",
   "execution_count": 52,
   "metadata": {},
   "outputs": [
    {
     "name": "stdout",
     "output_type": "stream",
     "text": [
      "[ 0  1  2  3  4  5  6  7  8  9 10 11 12 13 14 15 16 17 18 19]\n"
     ]
    }
   ],
   "source": [
    "#assignment 1: Create a 1 D Numpy array with 20 elements, ranging form 0 to 19. usning np.arange() method.\n",
    "\n",
    "\n",
    "import numpy as np\n",
    "\n",
    "array = np.arange(20)\n",
    "print(array)\n",
    "\n"
   ]
  },
  {
   "cell_type": "code",
   "execution_count": 53,
   "metadata": {},
   "outputs": [
    {
     "name": "stdout",
     "output_type": "stream",
     "text": [
      "[[ 0  1  2  3  4]\n",
      " [ 5  6  7  8  9]\n",
      " [10 11 12 13 14]\n",
      " [15 16 17 18 19]]\n",
      "[ 0  1  2  3  4  5  6  7  8  9 10 11 12 13 14 15 16 17 18 19]\n"
     ]
    }
   ],
   "source": [
    "#assignment 2: reshape the 1D array into a 4*5 2D array. Flatten the 4*5 2D array \n",
    "\n",
    "import numpy as np\n",
    "\n",
    "array = np.arange(20).reshape(4, 5)\n",
    "print(array)\n",
    "\n",
    "flattened_array = array.flatten()\n",
    "print(flattened_array)\n",
    "\n"
   ]
  },
  {
   "cell_type": "code",
   "execution_count": 56,
   "metadata": {},
   "outputs": [
    {
     "name": "stdout",
     "output_type": "stream",
     "text": [
      "[[9 7 6]\n",
      " [3 6 4]\n",
      " [3 8 6]]\n",
      "[[9 3 3]\n",
      " [7 6 8]\n",
      " [6 4 6]]\n"
     ]
    }
   ],
   "source": [
    "#assignment 3: Create a 3*3 matrix of random integers between 1 to 10. using np.random.randint() method.Transpose the 3*3 random integer matrix.\n",
    "\n",
    "import numpy as np\n",
    "\n",
    "matrix = np.random.randint(1, 10, (3, 3))\n",
    "print(matrix)\n",
    "\n",
    "transposed_matrix=np.transpose(matrix)\n",
    "print(transposed_matrix)\n",
    "# transposed_matrix = matrix.T\n",
    "# print(transposed_matrix)\n"
   ]
  },
  {
   "cell_type": "code",
   "execution_count": 57,
   "metadata": {},
   "outputs": [
    {
     "name": "stdout",
     "output_type": "stream",
     "text": [
      "120\n"
     ]
    }
   ],
   "source": [
    "#write a program  to multipy all the  items in a list.\n",
    "\n",
    "def multiply_list(items):\n",
    "    result = 1\n",
    "    for item in items:\n",
    "        result *= item\n",
    "    return result\n",
    "\n",
    "items = [1, 2, 3, 4, 5]\n",
    "print(multiply_list(items))\n",
    "\n"
   ]
  },
  {
   "cell_type": "code",
   "execution_count": 59,
   "metadata": {},
   "outputs": [
    {
     "name": "stdout",
     "output_type": "stream",
     "text": [
      "1\n"
     ]
    }
   ],
   "source": [
    "#write a program to get the smallest number from a list.\n",
    "\n",
    "def get_smallest_number(items):\n",
    "    smallest = items[0]\n",
    "    for item in items:\n",
    "        if item < smallest:\n",
    "            smallest = item\n",
    "    return smallest\n",
    "\n",
    "items = [5, 2, 3, 4, 1]\n",
    "print(get_smallest_number(items))\n",
    "\n"
   ]
  },
  {
   "cell_type": "code",
   "execution_count": 62,
   "metadata": {},
   "outputs": [
    {
     "name": "stdout",
     "output_type": "stream",
     "text": [
      "1\n"
     ]
    }
   ],
   "source": [
    "#using min function to get the smallest number from a list.\n",
    "\n",
    "items = [5, 2, 3, 4, 1]\n",
    "print(min(items))\n",
    "\n"
   ]
  },
  {
   "cell_type": "code",
   "execution_count": 66,
   "metadata": {},
   "outputs": [
    {
     "name": "stdout",
     "output_type": "stream",
     "text": [
      "True\n"
     ]
    }
   ],
   "source": [
    "#define a fuction overlapping() that  takes two lists and returns True if they have at least one member in common, False otherwise.\n",
    "\n",
    "def overlapping(list1, list2):\n",
    "    for item in list1:\n",
    "        if item in list2:\n",
    "            return True\n",
    "    return False\n",
    "\n",
    "# Example usage\n",
    "list1 = [1, 2, 3, 4, 5]\n",
    "list2 = [5, 6, 7, 8, 9]\n",
    "print(overlapping(list1, list2))  # Output: True\n",
    "\n",
    "\n",
    "\n",
    "\n",
    "\n"
   ]
  },
  {
   "cell_type": "code",
   "execution_count": 67,
   "metadata": {},
   "outputs": [
    {
     "name": "stdout",
     "output_type": "stream",
     "text": [
      "6\n"
     ]
    }
   ],
   "source": [
    "#write  a fumcton find_longest_word() that takes a list of words and returns the length of the longest one.\n",
    "\n",
    "def find_longest_word(words):\n",
    "    longest = 0\n",
    "    for word in words:\n",
    "        if len(word) > longest:\n",
    "            longest = len(word)\n",
    "    return longest\n",
    "\n",
    "words = [\"apple\", \"banana\", \"cherry\"]\n",
    "print(find_longest_word(words))\n",
    "\n"
   ]
  },
  {
   "cell_type": "code",
   "execution_count": 69,
   "metadata": {},
   "outputs": [
    {
     "name": "stdout",
     "output_type": "stream",
     "text": [
      "(1, 2, 3, 4, 5)\n",
      "(1, 2, 3, 4, 5, 6)\n",
      "(1, 2, 4, 5, 6)\n"
     ]
    }
   ],
   "source": [
    "# create a tuple, print  that tuple.\n",
    "# insert/delete an item in tuple.\n",
    "\n",
    "tuple = (1, 2, 3, 4, 5)\n",
    "print(tuple)\n",
    "\n",
    "# Insert an item\n",
    "tuple = tuple + (6,)\n",
    "print(tuple)\n",
    "\n",
    "# Delete an item\n",
    "tuple = tuple[:2] + tuple[3:]\n",
    "print(tuple)\n",
    "\n"
   ]
  },
  {
   "cell_type": "code",
   "execution_count": 72,
   "metadata": {},
   "outputs": [
    {
     "name": "stdout",
     "output_type": "stream",
     "text": [
      "{'name': '', 'address': '', 'email': '', 'birthdate': '', 'phone': ['']}\n"
     ]
    }
   ],
   "source": [
    "#Accept name, address, email, bithedate(dd/mm/yyyy),phone no (list) and store these details in a dictionary.\n",
    "\n",
    "name = input(\"Enter name: \")\n",
    "address = input(\"Enter address: \")\n",
    "email = input(\"Enter email: \")\n",
    "birthdate = input(\"Enter birthdate (dd/mm/yyyy): \")\n",
    "phone = input(\"Enter phone numbers (comma separated): \").split(\",\")\n",
    "details = {\n",
    "    \"name\": name,\n",
    "    \"address\": address,\n",
    "    \"email\": email,\n",
    "    \"birthdate\": birthdate,\n",
    "    \"phone\": phone\n",
    "}\n",
    "print(details)"
   ]
  },
  {
   "cell_type": "code",
   "execution_count": 73,
   "metadata": {},
   "outputs": [
    {
     "name": "stdout",
     "output_type": "stream",
     "text": [
      "[{'name': '', 'address': '', 'email': '', 'birthdate': '', 'phone': ['']}, {'name': '', 'address': '', 'email': '', 'birthdate': '', 'phone': ['']}, {'name': '', 'address': '', 'email': '', 'birthdate': '', 'phone': ['']}]\n"
     ]
    }
   ],
   "source": [
    "#Accept  more such details and add to a list to form a list of dictionaries.\n",
    "\n",
    "details_list = []\n",
    "for _ in range(3):\n",
    "    name = input(\"Enter name: \")\n",
    "    address = input(\"Enter address: \")\n",
    "    email = input(\"Enter email: \")\n",
    "    birthdate = input(\"Enter birthdate (dd/mm/yyyy): \")\n",
    "    phone = input(\"Enter phone numbers (comma separated): \").split(\",\")\n",
    "    details = {\n",
    "        \"name\": name,\n",
    "        \"address\": address,\n",
    "        \"email\": email,\n",
    "        \"birthdate\": birthdate,\n",
    "        \"phone\": phone\n",
    "    }\n",
    "    details_list.append(details)\n",
    "print(details_list)\n",
    "\n",
    "\n"
   ]
  },
  {
   "cell_type": "code",
   "execution_count": 74,
   "metadata": {},
   "outputs": [
    {
     "name": "stdout",
     "output_type": "stream",
     "text": [
      "Hello, World!\n",
      "This is a test file.\n",
      "It contains three lines.\n",
      "\n",
      "3\n",
      "11\n"
     ]
    }
   ],
   "source": [
    "# create a .txt file.buffer\n",
    "# open file in read mode.\n",
    "# print everything written in a file.\n",
    "# print  count of total no of lines in the file.\n",
    "# print total no of words in the file.\n",
    "\n",
    "with open(\"data.txt\", \"w\") as file:\n",
    "    file.write(\"Hello, World!\\n\")\n",
    "    file.write(\"This is a test file.\\n\")\n",
    "    file.write(\"It contains three lines.\\n\")\n",
    "\n",
    "with open(\"data.txt\", \"r\") as file:\n",
    "    content = file.read()\n",
    "    print(content)\n",
    "\n",
    "    file.seek(0)\n",
    "    lines = file.readlines()\n",
    "    print(len(lines))\n",
    "\n",
    "    words = content.split()\n",
    "    print(len(words))\n",
    "\n",
    "\n",
    "\n"
   ]
  },
  {
   "cell_type": "code",
   "execution_count": 1,
   "metadata": {},
   "outputs": [
    {
     "name": "stdout",
     "output_type": "stream",
     "text": [
      "g*************i@gmail.com\n",
      "************1121\n"
     ]
    }
   ],
   "source": [
    "# Assignment 2: Masking PII (Personal Identifiable Information)\n",
    "\n",
    "# *> Implement a function mask_sensitive_info(info,info_type) that takes two parameters: \n",
    "#     string: The string containing the sensitive information. \n",
    "#     string_type:A string indicating the type of information. It can be \"email\" or \"credit_card\".\n",
    "#     Email:Mask the characters in the local part of the email (before the @ symbol) except the first and last character.\n",
    "#     \"Mayura.Kumari@xyz.com\" should become \"m**i@xyz.com\"\n",
    "#     credit card: Mask all but the last four digits of the credit card number. \n",
    "#     \"1234 5678 9101 1121\" should become \"************1121\"\n",
    "\n",
    "# *> Exception Handling: \n",
    "#     If the info_type is not recognized, raise a ValueError with the message \"Invalid info type\". Handle more exceptions for cases such as incorrect formatting of the input information.\n",
    "def mask_sensitive_info(info, info_type):\n",
    "    if info_type == \"email\":\n",
    "        if \"@\" not in info or info.count(\"@\") != 1:\n",
    "            raise ValueError(\"Invalid email format\")\n",
    "        local_part, domain = info.split(\"@\")\n",
    "        masked_local_part = local_part[0] + \"*\" * (len(local_part) - 2) + local_part[-1]\n",
    "        return masked_local_part + \"@\" + domain\n",
    "    elif info_type == \"credit_card\":\n",
    "        card_number = info.replace(\" \", \"\")\n",
    "        if not card_number.isdigit() or len(card_number) < 4:\n",
    "            raise ValueError(\"Invalid credit card format\")\n",
    "        masked_card_number = \"*\" * (len(card_number) - 4) + card_number[-4:]\n",
    "        return masked_card_number\n",
    "    else:\n",
    "        raise ValueError(\"Invalid info type\")\n",
    "\n",
    "email = \"gauravchaudhari@gmail.com\"\n",
    "info = \"1234 5678 9101 1121\"\n",
    "\n",
    "try:\n",
    "    masked_email = mask_sensitive_info(email, \"email\")\n",
    "    print(masked_email)\n",
    "except ValueError as e:\n",
    "    print(e)\n",
    "\n",
    "try:\n",
    "    masked_credit_card = mask_sensitive_info(info, \"credit_card\")\n",
    "    print(masked_credit_card)\n",
    "except ValueError as e:\n",
    "    print(e)\n",
    "\n"
   ]
  },
  {
   "cell_type": "code",
   "execution_count": 3,
   "metadata": {},
   "outputs": [
    {
     "name": "stdout",
     "output_type": "stream",
     "text": [
      "[500, 400, 300, 200, 100]\n"
     ]
    }
   ],
   "source": [
    "#Assinment 3 Reverse a given list in python \n",
    "#E.g. aList = [100, 200, 300, 400, 500] output:[ 500, 400, 300, 200, 100]\n",
    "\n",
    "aList = [100, 200, 300, 400, 500]\n",
    "aList.reverse()\n",
    "print(aList)\n"
   ]
  },
  {
   "cell_type": "code",
   "execution_count": 6,
   "metadata": {},
   "outputs": [
    {
     "name": "stdout",
     "output_type": "stream",
     "text": [
      "Largest: 66, Smallest: 1\n"
     ]
    }
   ],
   "source": [
    "#Assignment 4: Find the larger and smallest number in the list which taken as input form user using list operations.    \n",
    "numbers = []\n",
    "input_numbers = input(\"Enter numbers: \")\n",
    "for x in input_numbers.split():\n",
    "    numbers.append(int(x))\n",
    "largest = max(numbers)\n",
    "smallest = min(numbers)\n",
    "print(f\"Largest: {largest}, Smallest: {smallest}\")\n"
   ]
  },
  {
   "cell_type": "code",
   "execution_count": 7,
   "metadata": {},
   "outputs": [
    {
     "name": "stdout",
     "output_type": "stream",
     "text": [
      "1. Add songs\n",
      "2. Remove song\n",
      "3. View all songs\n",
      "4. Slice playlist\n",
      "5. Exit\n",
      "1. Add songs\n",
      "2. Remove song\n",
      "3. View all songs\n",
      "4. Slice playlist\n",
      "5. Exit\n",
      "hi,  hello\n",
      "1. Add songs\n",
      "2. Remove song\n",
      "3. View all songs\n",
      "4. Slice playlist\n",
      "5. Exit\n",
      "1. Add songs\n",
      "2. Remove song\n",
      "3. View all songs\n",
      "4. Slice playlist\n",
      "5. Exit\n",
      " hello\n",
      "1. Add songs\n",
      "2. Remove song\n",
      "3. View all songs\n",
      "4. Slice playlist\n",
      "5. Exit\n",
      " hello\n",
      "1. Add songs\n",
      "2. Remove song\n",
      "3. View all songs\n",
      "4. Slice playlist\n",
      "5. Exit\n"
     ]
    }
   ],
   "source": [
    "# Assignment 5: Music Manager\n",
    "\n",
    "# Initialize an empty list playlist to sotre song titles(strings)\n",
    "\n",
    "# Implement the following operations as separate functions: \n",
    "#     Add songs: Prompt user to ener song titles(comma-separated) add them to list\n",
    "#     Remove song: Prompt user for a song title and remove it from list if it exists. \n",
    "#     View all songs: Display all songs in playlist, join them into a single string. \n",
    "#     Slice playlist: Prompt user for start and end indices to display a sliced protion of the playlist \n",
    "\n",
    "\n",
    "# Add exception handling, Identify possible excaption conditions\n",
    "\n",
    "playlist = []\n",
    "\n",
    "def add_songs():\n",
    "    songs = input(\"Enter song titles (comma-separated): \").split(\",\")\n",
    "    playlist.extend(songs)\n",
    "\n",
    "def remove_song():\n",
    "    song = input(\"Enter song title to remove: \")\n",
    "    if song in playlist:\n",
    "        playlist.remove(song)\n",
    "    else:\n",
    "        print(\"Song not found\")\n",
    "\n",
    "def view_all_songs():\n",
    "    print(\", \".join(playlist))\n",
    "\n",
    "def slice_playlist():\n",
    "    start = int(input(\"Enter start index: \"))\n",
    "    end = int(input(\"Enter end index: \"))\n",
    "    print(playlist[start:end])\n",
    "\n",
    "while True:\n",
    "    print(\"1. Add songs\")\n",
    "    print(\"2. Remove song\")\n",
    "    print(\"3. View all songs\")\n",
    "    print(\"4. Slice playlist\")\n",
    "    print(\"5. Exit\")\n",
    "    choice = int(input(\"Enter choice: \"))\n",
    "    if choice == 1:\n",
    "        add_songs()\n",
    "    elif choice == 2:\n",
    "        remove_song()\n",
    "    elif choice == 3:\n",
    "        view_all_songs()\n",
    "    elif choice == 4:\n",
    "        slice_playlist()\n",
    "    elif choice == 5:\n",
    "        break\n",
    "    else:\n",
    "        print(\"Invalid choice\")\n",
    "\n",
    "\n",
    "        "
   ]
  },
  {
   "cell_type": "code",
   "execution_count": 9,
   "metadata": {},
   "outputs": [
    {
     "name": "stdout",
     "output_type": "stream",
     "text": [
      "('laptop', 'headphones', 'keyboard', 'mouse')\n",
      "keyboard\n",
      "('laptop', 'headphones', 'keyboard')\n",
      "('laptop', 'headphones', 'keyboard', 'mouse', 'monitor', 'printer')\n",
      "laptop headphones keyboard mouse\n",
      "2\n"
     ]
    }
   ],
   "source": [
    "# create  a tuple namesd shopping_cart that continbs the following items:'laptop','headphones','keyboard','mouse'.\n",
    "# print the shopping_cart tuple.\n",
    "# access and print  the item in the shopping_cart.\n",
    "# access and print the first 3 items in the shopping_cart.\n",
    "# concatenate the shopping_cart tuple with another tuple containing the items 'monitor' and 'printer'. print the result.\n",
    "# unpack the shopping_cart tuple into four variables : item1,item2,item3,item4. print the variables.\n",
    "# print the variables to verify the unpacking. \n",
    "\n",
    "# use the .count() method to method to find the index of 'keyboard' in the tuple.\n",
    "\n",
    "shopping_cart = ('laptop', 'headphones', 'keyboard', 'mouse'),\n",
    "print(shopping_cart)\n",
    "\n",
    "# Access and print the item in the shopping_cart\n",
    "print(shopping_cart[2])\n",
    "\n",
    "# Access and print the first 3 items in the shopping_cart\n",
    "print(shopping_cart[:3])\n",
    "\n",
    "# Concatenate the shopping_cart tuple with another tuple containing the items 'monitor' and 'printer'\n",
    "new_items = ('monitor', 'printer')\n",
    "shopping_cart = shopping_cart + new_items\n",
    "print(shopping_cart)\n",
    "\n",
    "# Unpack the shopping_cart tuple into four variables: item1, item2, item3, item4\n",
    "item1, item2, item3, item4, item5, item6 = shopping_cart\n",
    "print(item1, item2, item3, item4)\n",
    "\n",
    "# Use the .index() method to find the index of 'keyboard' in the tuple\n",
    "print(shopping_cart.index('keyboard'))\n",
    "\n",
    "\n"
   ]
  }
 ],
 "metadata": {
  "kernelspec": {
   "display_name": "Python 3",
   "language": "python",
   "name": "python3"
  },
  "language_info": {
   "codemirror_mode": {
    "name": "ipython",
    "version": 3
   },
   "file_extension": ".py",
   "mimetype": "text/x-python",
   "name": "python",
   "nbconvert_exporter": "python",
   "pygments_lexer": "ipython3",
   "version": "3.12.1"
  }
 },
 "nbformat": 4,
 "nbformat_minor": 2
}
