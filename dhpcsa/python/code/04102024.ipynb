{
 "cells": [
  {
   "cell_type": "code",
   "execution_count": 1,
   "metadata": {},
   "outputs": [
    {
     "name": "stdout",
     "output_type": "stream",
     "text": [
      "hello world\n"
     ]
    }
   ],
   "source": [
    "print(\"hello world\")"
   ]
  },
  {
   "cell_type": "code",
   "execution_count": 3,
   "metadata": {},
   "outputs": [
    {
     "name": "stdout",
     "output_type": "stream",
     "text": [
      "Addition:  5\n",
      "Multiplication:  6\n"
     ]
    }
   ],
   "source": [
    "def processNumbers(num1,num2):\n",
    "    resultAdd = num1 + num2\n",
    "    resultMult = num1 * num2\n",
    "    return resultAdd, resultMult\n",
    "\n",
    "num1 = int(input(\"Enter a number 1: \"))\n",
    "num2 = int(input(\"Enter a number 2: \"))\n",
    "resultAdd, resultMult = processNumbers(num1,num2)\n",
    "print(\"Addition: \", resultAdd)\n",
    "print(\"Multiplication: \", resultMult)\n",
    "\n"
   ]
  },
  {
   "cell_type": "code",
   "execution_count": 12,
   "metadata": {},
   "outputs": [
    {
     "name": "stdout",
     "output_type": "stream",
     "text": [
      "10\n"
     ]
    }
   ],
   "source": [
    "#assignment 1: sum of elements in a list \n",
    "#write a functio sum_of_list(lst) that takes a list of numbers as input and returns the sum of the elements in the list\n",
    "lst = input(\"Enter a list of numbers separated by space: \")\n",
    "lst = lst.split()\n",
    "for i in range(0, len(lst)):\n",
    "    lst[i] = int(lst[i])\n",
    "def sum_of_list(lst):\n",
    "    sum = 0\n",
    "    for i in lst:\n",
    "        sum += i\n",
    "    return sum\n",
    "print(sum_of_list(lst))\n",
    "\n"
   ]
  },
  {
   "cell_type": "code",
   "execution_count": 18,
   "metadata": {},
   "outputs": [
    {
     "name": "stdout",
     "output_type": "stream",
     "text": [
      "{1: 2, 2: 1, 3: 2}\n"
     ]
    }
   ],
   "source": [
    "#Assignment 2: Count the Frequency of Elements in a list \n",
    "#Write a function count_frequency(lst) that takes a list  as input and returns a dictionary where the keys are the elements of the list and the values are the number of times each element appears\n",
    "lst = input(\"Enter a list of numbers separated by space: \")\n",
    "lst = lst.split()\n",
    "for i in range(0, len(lst)):\n",
    "    lst[i] = int(lst[i])\n",
    "def count_frequency(lst):\n",
    "    frequency = {}\n",
    "    for i in lst:\n",
    "        if i in frequency:\n",
    "            frequency[i] += 1\n",
    "        else:\n",
    "            frequency[i] = 1\n",
    "    return frequency\n",
    "print(count_frequency(lst))\n"
   ]
  },
  {
   "cell_type": "code",
   "execution_count": 19,
   "metadata": {},
   "outputs": [
    {
     "name": "stdout",
     "output_type": "stream",
     "text": [
      "(6, 6)\n"
     ]
    }
   ],
   "source": [
    "#Assignment 3: Return Sum and Product fo Tuple Elements \n",
    "#Write a function sum_and_product(tpl) that takes a tuple of numbers as input and returns the tuple containing the sum and product of the elements.\n",
    "tpl = input(\"Enter a tuple of numbers separated by space: \")\n",
    "tpl = tpl.split()\n",
    "for i in range(0, len(tpl)):\n",
    "    tpl[i] = int(tpl[i])\n",
    "def sum_and_product(tpl):\n",
    "    sum = 0\n",
    "    product = 1\n",
    "    for i in tpl:\n",
    "        sum += i\n",
    "        product *= i\n",
    "    return sum, product\n",
    "print(sum_and_product(tpl))\n"
   ]
  },
  {
   "cell_type": "code",
   "execution_count": 26,
   "metadata": {},
   "outputs": [
    {
     "name": "stdout",
     "output_type": "stream",
     "text": [
      "(7, 10)\n",
      "<class 'tuple'>\n"
     ]
    }
   ],
   "source": [
    "#default arguments\n",
    "def processNumbers(num1,num2=5):\n",
    "    resultAdd = num1 + num2\n",
    "    resultMult = num1 * num2\n",
    "    return resultAdd, resultMult\n",
    "\n",
    "num1 = int(input(\"Enter a number 1: \"))\n",
    "num2 = int(input(\"Enter a number 2: \"))\n",
    "#resultAdd, resultMult = processNumbers(num1)\n",
    "result= processNumbers(num1)\n",
    "print(result)   \n",
    "print(type(result))\n",
    "\n",
    "\n"
   ]
  },
  {
   "cell_type": "code",
   "execution_count": 27,
   "metadata": {},
   "outputs": [
    {
     "name": "stdout",
     "output_type": "stream",
     "text": [
      "(7, 10)\n",
      "<class 'tuple'>\n"
     ]
    }
   ],
   "source": [
    "#default arguments\n",
    "def processNumbers(num1,num2=5):\n",
    "    resultAdd = num1 + num2\n",
    "    resultMult = num1 * num2\n",
    "    return resultAdd, resultMult\n",
    "\n",
    "num1 = int(input(\"Enter a number 1: \"))\n",
    "num2 = int(input(\"Enter a number 2: \"))\n",
    "# resultAdd, resultMult = processNumbers(num1,num2)\n",
    "# print(\"Addition: \", resultAdd)\n",
    "# print(\"Multiplication: \", resultMult)\n",
    "\n",
    "result= processNumbers(num1,num2)\n",
    "print(result)   \n",
    "print(type(result))\n"
   ]
  }
 ],
 "metadata": {
  "kernelspec": {
   "display_name": "Python 3",
   "language": "python",
   "name": "python3"
  },
  "language_info": {
   "codemirror_mode": {
    "name": "ipython",
    "version": 3
   },
   "file_extension": ".py",
   "mimetype": "text/x-python",
   "name": "python",
   "nbconvert_exporter": "python",
   "pygments_lexer": "ipython3",
   "version": "3.12.7"
  }
 },
 "nbformat": 4,
 "nbformat_minor": 2
}
